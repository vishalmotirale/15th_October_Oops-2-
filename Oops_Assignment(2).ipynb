{
 "cells": [
  {
   "cell_type": "markdown",
   "id": "f3e6a71f-a478-4366-94c6-0ca0c89ac661",
   "metadata": {},
   "source": [
    "## Construtor"
   ]
  },
  {
   "cell_type": "markdown",
   "id": "d19aa7d6-2c9a-44d3-8234-aabc666f59eb",
   "metadata": {},
   "source": [
    "#### 1. What is a constructor in Python? Explain its purpose and usage.\n",
    "* In Python, a constructor is a special method within a class that is automatically called when a new instance (object) of the class is created. Constructors are defined using the __init__() method.\n",
    "* The purpose of a constructor is to initialize the object's attributes or perform any necessary setup tasks when an object is created. This can include initializing instance variables, setting default values, or any other initialization logic required for the object to be in a valid state."
   ]
  },
  {
   "cell_type": "markdown",
   "id": "163f7a82-a1c3-4bd9-97cb-ca63aae4a15a",
   "metadata": {},
   "source": [
    "#### 2. Differentiate between a parameterless constructor and a parameterized constructor in Python.\n",
    "* **Parameterless Constructor**:\n",
    "A parameterless constructor, as the name suggests, does not accept any parameters.It is defined with the __init__() method without any additional parameters other than self.It is used when the initialization logic does not require any external input parameters.It is often used to set default values or initialize instance variables without relying on external input.\n",
    "* **Parameterized Constructor**:\r",
    "A parameterized constructor accepts one or more parameters in addition to the self parameter.It allows initialization logic to rely on external input provided during object creation.It is defined with the __init__() method with parameters other than self.It is used when the initialization logic requires external data to set up the object.\n"
   ]
  },
  {
   "cell_type": "markdown",
   "id": "6a620327-611c-4cc4-90f7-27c72e5b2c7c",
   "metadata": {},
   "source": [
    "#### 3. How do you define a constructor in a Python class? Provide an example.\r\n",
    "\n",
    "In Python, a constructor is defined using a special method called __init__(). This method is automatically called when a new instance (object) of the class is created. Within the __init__() method, you can define the initialization logic for the object, such as initializing instance variables or performing setup tasks."
   ]
  },
  {
   "cell_type": "code",
   "execution_count": 8,
   "id": "40b8eea0-1f05-4a12-9d90-aba9f10a4604",
   "metadata": {},
   "outputs": [
    {
     "name": "stdout",
     "output_type": "stream",
     "text": [
      "Car:Audi R8V10 2018\n"
     ]
    }
   ],
   "source": [
    "class car:\n",
    "    def __init__(self,make,model,year):\n",
    "        self.make = make\n",
    "        self.model = model\n",
    "        self.year = year\n",
    "    def display_info(self):\n",
    "        print(f\"Car:{self.make}{self.model}{self.year}\")\n",
    "my_car = car(\"Audi \",\"R8V10 \",2018)\n",
    "my_car.display_info()"
   ]
  },
  {
   "cell_type": "markdown",
   "id": "54aa1f20-9d56-4ab9-b2b1-12f4b2d1041b",
   "metadata": {},
   "source": [
    "#### 4. Explain the `__init__` method in Python and its role in constructors.\n",
    "\n",
    "* In Python, the __init__() method is a special method that serves as the constructor for a class. It is automatically called when a new instance (object) of the class is created. The __init__() method is where you define the initialization logic for the object, such as initializing instance variables or performing any necessary setup tasks.\n",
    "\n",
    "* **Parameters**: The __init__() method can accept parameters just like any other method in Python. Typically, the first parameter of __init__() is self, which refers to the instance being created. You can also specify additional parameters to initialize the object with external data\n",
    "Instance Variables Initialization: Inside the __init__() method, you initialize instance variables by assigning values to self.attribute_name. These instance variables can then be accessed and modified throughout the class methods using self."
   ]
  },
  {
   "cell_type": "markdown",
   "id": "1aa63589-cc09-4505-9225-2bed3d50c261",
   "metadata": {},
   "source": [
    "#### 5. In a class named `Person`, create a constructor that initializes the `name` and `age` attributes. Provide an example of creating an object of this class"
   ]
  },
  {
   "cell_type": "code",
   "execution_count": 9,
   "id": "bc7e9d8c-e76c-460c-b0b4-1e6a73eb469f",
   "metadata": {},
   "outputs": [
    {
     "name": "stdout",
     "output_type": "stream",
     "text": [
      "Person's Detail: Alice,30\n"
     ]
    }
   ],
   "source": [
    "class Person:\n",
    "    def __init__(self, name, age):\n",
    "        self.name = name\n",
    "        self.age = age\n",
    "person1 = Person('Alice', 30)\n",
    "print(f\"Person's Detail: {person1.name},{person1.age}\")"
   ]
  },
  {
   "cell_type": "markdown",
   "id": "a1e9cfa2-70dd-4f21-8877-a7b995f60876",
   "metadata": {},
   "source": [
    "#### 6. How can you call a constructor explicitly in Python? Give an example."
   ]
  },
  {
   "cell_type": "code",
   "execution_count": 10,
   "id": "0aab5004-cbe6-4d88-80b6-84f75010e7cc",
   "metadata": {},
   "outputs": [
    {
     "ename": "AttributeError",
     "evalue": "'NoneType' object has no attribute 'name'",
     "output_type": "error",
     "traceback": [
      "\u001b[1;31m---------------------------------------------------------------------------\u001b[0m",
      "\u001b[1;31mAttributeError\u001b[0m                            Traceback (most recent call last)",
      "Cell \u001b[1;32mIn[10], line 10\u001b[0m\n\u001b[0;32m      7\u001b[0m person2 \u001b[38;5;241m=\u001b[39m Person\u001b[38;5;241m.\u001b[39m\u001b[38;5;21m__init__\u001b[39m(Person, \u001b[38;5;124m'\u001b[39m\u001b[38;5;124mBob\u001b[39m\u001b[38;5;124m'\u001b[39m, \u001b[38;5;241m25\u001b[39m)\n\u001b[0;32m      9\u001b[0m \u001b[38;5;66;03m# Printing out the attributes of the object created by the constructor\u001b[39;00m\n\u001b[1;32m---> 10\u001b[0m \u001b[38;5;28mprint\u001b[39m(\u001b[38;5;124mf\u001b[39m\u001b[38;5;124m\"\u001b[39m\u001b[38;5;124mName: \u001b[39m\u001b[38;5;132;01m{\u001b[39;00mperson2\u001b[38;5;241m.\u001b[39mname\u001b[38;5;132;01m}\u001b[39;00m\u001b[38;5;124m, Age: \u001b[39m\u001b[38;5;132;01m{\u001b[39;00mperson2\u001b[38;5;241m.\u001b[39mage\u001b[38;5;132;01m}\u001b[39;00m\u001b[38;5;124m\"\u001b[39m)\n",
      "\u001b[1;31mAttributeError\u001b[0m: 'NoneType' object has no attribute 'name'"
     ]
    }
   ],
   "source": [
    "class Person:\n",
    "    def __init__(self, name, age):\n",
    "        self.name = name\n",
    "        self.age = age\n",
    "\n",
    "# Explicitly calling the constructor of the Person class\n",
    "person2 = Person.__init__(Person, 'Bob', 25)\n",
    "\n",
    "# Printing out the attributes of the object created by the constructor\n",
    "print(f\"Name: {person2.name}, Age: {person2.age}\")"
   ]
  },
  {
   "cell_type": "markdown",
   "id": "bf0cc4bd-f1d5-4ff2-a7b0-1174418f7545",
   "metadata": {},
   "source": [
    "In Python, you can call a constructor explicitly by using the class name followed by parentheses, passing the required arguments to the constructor. This is similar to calling any other method, but you use the class name instead of an instance.This explicit call to the constructor returns None, as constructors typically don't return anything explicitly. They initialize the object instead.Then, we try to access the name and age attributes of the object person2. However, since person2 is None, this results in an error.\n",
    "\r\n",
    "\r\n"
   ]
  },
  {
   "cell_type": "markdown",
   "id": "6649ee0d-367a-4ca4-b714-f15fdc0cbea4",
   "metadata": {},
   "source": [
    "#### 7. What is the significance of the `self` parameter in Python constructors? Explain with an example.\n",
    "\n",
    "In Python, the self parameter in constructors (and in all instance methods) refers to the instance of the class itself. When you call a method on an instance, Python automatically passes the instance as the first argument to the method. This allows the method to access and modify attributes of that specific instance."
   ]
  },
  {
   "cell_type": "code",
   "execution_count": 11,
   "id": "1eb004c7-1ca6-486c-8288-8e584f8c7021",
   "metadata": {},
   "outputs": [
    {
     "name": "stdout",
     "output_type": "stream",
     "text": [
      "Name:ajay, Age:ajay\n",
      "Name:vijay, Age:vijay\n"
     ]
    }
   ],
   "source": [
    "#Here's an example to illustrate the significance of the self parameter in Python constructors:\n",
    "class person:\n",
    "    def __init__(self,name,age):\n",
    "        self.name=name\n",
    "        self.age=age\n",
    "    def display_details(self):\n",
    "        print(f\"Name:{self.name}, Age:{self.name}\")\n",
    "person1=person(\"ajay\",30)\n",
    "person2=person(\"vijay\",28)\n",
    "person1.display_details()\n",
    "person2.display_details()"
   ]
  },
  {
   "cell_type": "markdown",
   "id": "4e64072f-294e-4e7f-b4dc-a2ae5f40532d",
   "metadata": {},
   "source": [
    "Inside the display_details method, self.name and self.age allow access to the name and age attributes specific to each instance, enabling us to print out the details of each person object individually.So, self is crucial in Python constructors (and instance methods in general) because it allows access to the attributes and methods of the specific instance on which the method is being called.\r\n",
    "\r\n",
    "\r\n"
   ]
  },
  {
   "cell_type": "markdown",
   "id": "7b54db47-4100-489c-b544-1eba1d4ca69d",
   "metadata": {},
   "source": [
    "#### 8. Discuss the concept of default constructors in Python. When are they used?\n",
    "* In Python, if you don't define an __init__ constructor in your class, Python will provide a default constructor.The default constructor provided by Python does nothing more than creating an instance of the class. It doesn't initialize any attributes unless they are defined as class variables. If your class doesn't have any attributes to initialize or any other initialization logic to perform, you can omit the __init__ constructor, and Python will provide a default one for you.\n",
    "* Default constructors can be used when your class doesn't require any initialization logic or when all attributes have default values, and you don't need to explicitly initialize them in the constructor. They provide a simple way to create instances of classes without needing to define constructors explicitly for every class."
   ]
  },
  {
   "cell_type": "markdown",
   "id": "20ad9334-5ac2-4606-8545-e7c7d1aa3067",
   "metadata": {},
   "source": [
    "#### 9. Create a Python class called `Rectangle` with a constructor that initializes the `width` and `height` attributes. Provide a method to calculate the area of the rectangle"
   ]
  },
  {
   "cell_type": "code",
   "execution_count": 12,
   "id": "44181e67-0959-407a-8384-0f583bb6c8cf",
   "metadata": {},
   "outputs": [
    {
     "name": "stdout",
     "output_type": "stream",
     "text": [
      "Area of ractangle: 1200\n"
     ]
    }
   ],
   "source": [
    "class Ractangle:\n",
    "    def __init__(self,height,width):\n",
    "        self.height=height\n",
    "        self.width=width\n",
    "    def area(self):\n",
    "        return self.height*self.width\n",
    "Ract_ABCD=Ractangle(30,40)\n",
    "print(\"Area of ractangle:\",Ract_ABCD.area())"
   ]
  },
  {
   "cell_type": "markdown",
   "id": "7d43c024-baa3-42f9-be3d-269e0afeb790",
   "metadata": {},
   "source": [
    "#### 10. How can you have multiple constructors in a Python class? Explain with an example.\r\n",
    "\n",
    "In Python, while it doesn't natively support method overloading, we can indeed simulate multiple constructors through various means. One common approach is to use default arguments along with None checks in the __init__ method.."
   ]
  },
  {
   "cell_type": "code",
   "execution_count": 1,
   "id": "4b8efae5-1a0e-4e0a-a96e-c2c3e4e06771",
   "metadata": {},
   "outputs": [
    {
     "name": "stdout",
     "output_type": "stream",
     "text": [
      "Area of rect1: 50\n",
      "Area of square: 25\n"
     ]
    }
   ],
   "source": [
    "# Here's how you can achieve it:\n",
    "class Rectangle:\n",
    "    def __init__(self, *args):\n",
    "        if len(args) == 1:\n",
    "            self.width = args[0]\n",
    "            self.height = args[0]\n",
    "        elif len(args) == 2:\n",
    "            self.width = args[0]\n",
    "            self.height = args[1]\n",
    "        else:\n",
    "            raise ValueError(\"Invalid number of arguments\")\n",
    "    def calculate_area(self):\n",
    "        return self.width * self.height\n",
    "\n",
    "rect1 = Rectangle(5, 10)\n",
    "print(\"Area of rect1:\", rect1.calculate_area())\n",
    "square = Rectangle(5)\n",
    "print(\"Area of square:\", square.calculate_area())"
   ]
  },
  {
   "cell_type": "markdown",
   "id": "cf3b50f8-3e88-4724-af30-3b07d4d681d1",
   "metadata": {},
   "source": [
    "#### 11. What is method overloading, and how is it related to constructors in Python?\n",
    "Method overloading is a concept in object-oriented programming where multiple methods can have the same name but with different parameters or different implementations. This allows for the same method name to be used for different operations or behaviors based on the parameters passed to it.Constructors in Python are special methods used for initializing objects. In Python, the constructor method is named __init__. Just like other methods, __init__ can be overloaded by defining multiple methods with the same name but different parameter lists."
   ]
  },
  {
   "cell_type": "code",
   "execution_count": 1,
   "id": "4ac9e782-91e9-46d6-a9cc-0f7d50d5e463",
   "metadata": {},
   "outputs": [
    {
     "name": "stdout",
     "output_type": "stream",
     "text": [
      "a=0, b=0\n",
      "a=10, b=0\n",
      "a=15, b=25\n"
     ]
    }
   ],
   "source": [
    "#Here's an example to illustrate method overloading in Python with constructors:\n",
    "class overloading:\n",
    "    def __init__(self,a=None,b=None):\n",
    "        if a is not None and b is not None:\n",
    "            self.a=a\n",
    "            self.b=b\n",
    "        elif a is not None:\n",
    "            self.a=a\n",
    "            self.b=0\n",
    "        else:\n",
    "            self.a=0\n",
    "            self.b=0\n",
    "    def display(self):\n",
    "        print(f\"a={self.a}, b={self.b}\")\n",
    "obj1=overloading()\n",
    "obj2=overloading(10)\n",
    "obj3=overloading(15,25)\n",
    "obj1.display()\n",
    "obj2.display()\n",
    "obj3.display()"
   ]
  },
  {
   "cell_type": "markdown",
   "id": "b183ac98-a392-41ed-adbe-9d704990f7d8",
   "metadata": {},
   "source": [
    "#### 12. Explain the use of the `super()` function in Python constructors. Provide an example.\r\n",
    "\n",
    "The super() function in Python is used to call the constructor or methods of the parent class from the child class. This is particularly useful when you're working with inheritance and want to invoke the parent class's constructor to initialize inherited attributes.\n",
    "When you use super() in a constructor, it allows you to access and invoke the parent class's constructor, passing along any necessary arguments."
   ]
  },
  {
   "cell_type": "code",
   "execution_count": 15,
   "id": "6a14a6e2-52a1-42fc-bcfc-e78f782bf01d",
   "metadata": {},
   "outputs": [
    {
     "name": "stdout",
     "output_type": "stream",
     "text": [
      "Name Vishal\n",
      "Age 24\n"
     ]
    }
   ],
   "source": [
    "class Parent:\n",
    "    def __init__(self,name):\n",
    "        self.name=name\n",
    "    def display(self):\n",
    "        print(\"Name\",self.name)\n",
    "class child(Parent):\n",
    "    def __init__(self,name,age):\n",
    "        super().__init__(name)    #Calling parents class constructer\n",
    "        self.age=age\n",
    "    def display(self):\n",
    "        super().display()\n",
    "        print(\"Age\",self.age)\n",
    "child_obj = child(\"Vishal\",24)\n",
    "child_obj.display()"
   ]
  },
  {
   "cell_type": "markdown",
   "id": "ba0e71f7-155d-4571-b904-135d1cf4c7a1",
   "metadata": {},
   "source": [
    "In this example, the Child class inherits from the Parent class. Inside the Child class constructor, super().__init__(name) is used to call the constructor of the parent class with the provided name argument. This ensures that the name attribute of the parent class is initialized properly. Similarly, within the display method of the Child class, super().display() is used to invoke the display method of the parent class before displaying the age attribute specific to the child class."
   ]
  },
  {
   "cell_type": "code",
   "execution_count": 16,
   "id": "6fbbc637-5d0f-4746-988d-b98b02cce993",
   "metadata": {},
   "outputs": [
    {
     "name": "stdout",
     "output_type": "stream",
     "text": [
      "Book Title is Pride & prejudice The Author is Jane Austen & Published Year 1813\n"
     ]
    }
   ],
   "source": [
    "# Create a class called `Book` with a constructor that initializes the `title`, `author`, and `published_year` attributes.\n",
    "#Provide a method to display book details\n",
    "\n",
    "class book:\n",
    "    def __init__(self,title,author,published_year):\n",
    "        self.title=title\n",
    "        self.author=author\n",
    "        self.published_year=published_year\n",
    "    def display_details(self):\n",
    "        print(\"Book Title is\",self.title,\"The Author is\",self.author,\"& Published Year\",self.published_year)\n",
    "vishal=book(\"Pride & prejudice\",\"Jane Austen\",1813)\n",
    "vishal.display_details()"
   ]
  },
  {
   "cell_type": "markdown",
   "id": "4c6734d2-123c-45e9-b86a-97ec756e30a2",
   "metadata": {},
   "source": [
    "#### 14. Discuss the differences between constructors and regular methods in Python classes.\n",
    "Constructors and regular methods in Python classes serve different purposes and have distinct characteristics:\n",
    "1. **Purpose** :\n",
    "Constructors: Constructors are special methods used for initializing objects when they are created. They are called automatically when an object is instantiated from a class.Regular methods: Regular methods are used to define the behavior of objects. They can perform various operations on object attributes and can be called explicitly by objects\n",
    "2. **Name**\n",
    "Constructors: Constructors in Python are named __init__. They always have this special name.\n",
    "Regular methods: Regular methods can have any valid method name, except for special methods like __init__, which are reserved for constructors or other special purposes.\n",
    "3. **Invocation** :\n",
    "Constructors: Constructors are automatically invoked when an object of the class is created using the class name followed by parentheses.\n",
    "Regular methods: Regular methods need to be called explicitly using object dot notation, specifying the method name followed by parentheses."
   ]
  },
  {
   "cell_type": "markdown",
   "id": "9f8f6e0d-68c7-49f6-a7c2-89c87b564ac7",
   "metadata": {},
   "source": [
    "#### 15. Explain the role of the `self` parameter in instance variable initialization within a constructor.\r\n",
    "\n",
    "In Python, the self parameter in a class constructor plays a crucial role in instance variable initialization. When defining a class in Python, methods within that class must include self as the first parameter. This parameter refers to the instance of the class itsel.When you create an instance of a class (i.e., an object), Python automatically passes this instance as the first argument to the constructor and other methods defined within the class. By convention, this parameter is named self, but we can name it differently if we want.Within the constructor (__init__ method), self is used to refer to the instance being created. By using self, you can access and initialize instance variables specific to that particular instance of the class. Instance variables are unique to each instance of the class, allowing each object to have its own statef"
   ]
  },
  {
   "cell_type": "code",
   "execution_count": 17,
   "id": "3d19c70f-64a0-4bad-9c0b-58adfef29254",
   "metadata": {},
   "outputs": [
    {
     "name": "stdout",
     "output_type": "stream",
     "text": [
      "Object 1: x = 5 , y = 10\n",
      "Object 2: x = 15 , y = 20\n"
     ]
    }
   ],
   "source": [
    "#Example\n",
    "class MyClass:\n",
    "    def __init__(self, x, y):\n",
    "        self.x = x  # Initialize instance variable 'x' for this instance\n",
    "        self.y = y  # Initialize instance variable 'y' for this instance\n",
    "obj1 = MyClass(5, 10)\n",
    "obj2 = MyClass(15, 20)\n",
    "print(\"Object 1: x =\", obj1.x, \", y =\", obj1.y)\n",
    "print(\"Object 2: x =\", obj2.x, \", y =\", obj2.y)"
   ]
  },
  {
   "cell_type": "markdown",
   "id": "134d6e96-b625-4f8d-838c-e6c106a25aee",
   "metadata": {},
   "source": [
    "#### 16. How do you prevent a class from having multiple instances by using constructors in Python? Provide an \r\n",
    "example.\n",
    "\n",
    "\n",
    "To prevent a class from having multiple instances, you can implement the Singleton design pattern in Python. The Singleton pattern ensures that only one instance of a class is created throughout the program's execution. This is achieved by controlling the instantiation process within the class itself, typically by providing a static method or class method to access the single instance."
   ]
  },
  {
   "cell_type": "code",
   "execution_count": 18,
   "id": "509989fa-9f10-42cc-8c2a-a74105f71a47",
   "metadata": {},
   "outputs": [
    {
     "name": "stdout",
     "output_type": "stream",
     "text": [
      "Data attribute of Singletone 1: 20\n",
      "Data attribute of Singletone 2 20\n"
     ]
    }
   ],
   "source": [
    "#Example:\n",
    "\n",
    "class Singleton:\n",
    "    _instance=None\n",
    "    def __new__(cls, *args, **kwargs):\n",
    "        if cls._instance is None:\n",
    "            cls._instance=super().__new__(cls)\n",
    "        return cls._instance\n",
    "    def __init__(self,data):\n",
    "        self.data=data\n",
    "#creating instances\n",
    "singleton1 = Singleton(10)\n",
    "singleton2 = Singleton(20)\n",
    "print(\"Data attribute of Singletone 1:\", singleton1.data)\n",
    "print(\"Data attribute of Singletone 2\", singleton2.data)"
   ]
  },
  {
   "cell_type": "markdown",
   "id": "2956d3c9-a76d-4a10-a87d-c7093aa877ff",
   "metadata": {},
   "source": [
    "#### 17.Create a Python class called `Student` with a constructor that takes a list of subjects as a parameter and initializes the `subjects` attribute"
   ]
  },
  {
   "cell_type": "code",
   "execution_count": 19,
   "id": "75a1b885-702e-48ab-8c18-77b9e11cfe3e",
   "metadata": {},
   "outputs": [
    {
     "name": "stdout",
     "output_type": "stream",
     "text": [
      "My Subjects are ['maths', 'chemistry', 'pysics', 'statistics', 'python']\n"
     ]
    }
   ],
   "source": [
    "class Student:\n",
    "    def __init__(self,subjects):\n",
    "        self.subjcts=subjects\n",
    "vishal = Student([\"maths\",\"chemistry\",\"pysics\",\"statistics\",\"python\"])\n",
    "print(\"My Subjects are\",vishal.subjcts)"
   ]
  },
  {
   "cell_type": "markdown",
   "id": "6f4a2e8b-4c26-4dd1-b1af-8af0e9c0c0fc",
   "metadata": {},
   "source": [
    "#### 18. What is the purpose of the `__del__` method in Python classes, and how does it relate to constructors?\n",
    "* The __del__ method in Python classes is a special method used to define the destructor for an object. It is called when an object is about to be destroyed, i.e., when it's no longer referenced or needed, and is being garbage collected.The purpose of the __del__ method is to perform any necessary cleanup or finalization actions before the object is destroyed. This could involve releasing resources, closing files, or any other cleanup tasks needed by the object.\n",
    "* The del method is related to constructors (init method) in that they are both special methods used in object lifecycle management. While the constructor is used for initializing object state when the object is created, the destructor is used for cleaning up resources and performing finalization tasks before the object is destroyed. Together, they help manage the lifecycle of objects in Python classes."
   ]
  },
  {
   "cell_type": "markdown",
   "id": "dee51f8a-f087-49b8-a5e8-41565688646f",
   "metadata": {},
   "source": [
    "#### 19. Explain the use of constructor chaining in Python. Provide a practical example.\n",
    "\n",
    "\n",
    "Constructor chaining, also known as constructor delegation, is a concept in object-oriented programming where one constructor calls another constructor in the same class or in a superclass. This allows for code reuse and helps in initializing objects efficiently by reducing redundancy.In Python, constructor chaining is achieved by using the super() function to call the constructor of the superclass or the parent class.Constructor chaining allows for cleaner and more maintainable code by avoiding duplication of initialization logic. It ensures that all necessary initialization steps are performed properly, whether in the superclass or the subclass, without having to repeat the code.\r\n"
   ]
  },
  {
   "cell_type": "code",
   "execution_count": 20,
   "id": "bc8c5f69-3350-4114-aa39-f846c297c3be",
   "metadata": {},
   "outputs": [
    {
     "name": "stdout",
     "output_type": "stream",
     "text": [
      "Parent constructor called\n",
      "Child constructor called\n",
      "Name & Age: 24 Vishal\n"
     ]
    }
   ],
   "source": [
    "#Example\n",
    "class parent:\n",
    "    def __init__(self,name):\n",
    "        self.name=name\n",
    "        print(\"Parent constructor called\")\n",
    "class child(parent):\n",
    "    def __init__(self,name,age):\n",
    "        super().__init__(name)\n",
    "        self.age=age\n",
    "        print(\"Child constructor called\")\n",
    "Child = child(\"Vishal\",24)\n",
    "print(\"Name & Age:\",Child.age,Child.name)"
   ]
  },
  {
   "cell_type": "markdown",
   "id": "5c2e35c7-f622-4552-9cdd-a1bfbb17cafb",
   "metadata": {},
   "source": [
    "#### 20.Create a Python class called `Car` with a default constructor that initializes the `make` and `model`attributes. Provide a method to display car information"
   ]
  },
  {
   "cell_type": "code",
   "execution_count": 21,
   "id": "f3e5c574-c056-4b10-b7b2-c211dc6488ed",
   "metadata": {},
   "outputs": [
    {
     "name": "stdout",
     "output_type": "stream",
     "text": [
      "Car Make: Audi\n",
      "Car Model: R8V10\n"
     ]
    }
   ],
   "source": [
    "class Car:\n",
    "    def __init__(self, make=\"Audi\", model=\"R8V10\"):\n",
    "        self.make = make\n",
    "        self.model = model\n",
    "    \n",
    "    def display_info(self):\n",
    "        print(\"Car Make:\", self.make)\n",
    "        print(\"Car Model:\", self.model)\n",
    "my_car = Car()\n",
    "my_car.display_info()"
   ]
  },
  {
   "cell_type": "markdown",
   "id": "7e6f8f3e-4119-407f-a072-487f0d35cc26",
   "metadata": {},
   "source": [
    "## Inheritance:"
   ]
  },
  {
   "cell_type": "markdown",
   "id": "f355d9de-b726-4a12-93ea-f20b998fe00e",
   "metadata": {},
   "source": [
    "#### 1. What is inheritance in Python? Explain its significance in object-oriented programming.\n",
    "Inheritance in Python is a mechanism that allows a class (called a child class or subclass) to inherit attributes and methods from another class (called a parent class or superclass). This means that the child class can reuse code from the parent class, reducing redundancy and promoting code reusability\n",
    "* The significance of inheritance in object-oriented programming (OOP) lies in the following aspects:\n",
    "\n",
    "1. **Code Reusability**: Inheritance allows classes to reuse code from other classes, reducing redundancy and promoting a more efficient use of code.\n",
    "2. **Hierarchical Organization**: Inheritance facilitates a hierarchical organization of classes, where more specialized classes (child classes) can inherit attributes and behaviors from more general classes (parent classes), leading to a clearer and more organized code structure.\n",
    "3. **Ease of Maintenance**: By promoting code reusability and a clear hierarchical structure, inheritance makes code easier to understand, maintain, and extend. Changes made to a parent class can automatically reflect in all its child classes, reducing the effort required for maintenance.\n",
    "4. **Polymorphism**: Inheritance supports polymorphism, allowing objects of different classes to be treated interchangeably if they are related through inheritance. This enables more flexible and modular code design\n",
    "* Overall, inheritance is a fundamental concept in OOP that promotes code reuse, organization, and extensibility, making it easier to develop and maintain complex software systems.."
   ]
  },
  {
   "cell_type": "markdown",
   "id": "53537e8e-a047-4f9c-b018-480cfddf4195",
   "metadata": {},
   "source": [
    "#### 2. Differentiate between single inheritance and multiple inheritance in Python. Provide examples for each.\n",
    "1. Single inheritance : Single inheritance refers to the scenario where a class inherits attributes and methods from only one parent class. In single inheritance, a subclass inherits from a single superclass, forming a linear hierarchy.\n",
    "2. Multiple inheritance : Multiple inheritance refers to the scenario where a class inherits attributes and methods from more than one parent class. In multiple inheritance, a subclass can inherit from multiple superclasses, forming a diamond-shaped inheritance hierarchy."
   ]
  },
  {
   "cell_type": "code",
   "execution_count": 22,
   "id": "1c326ade-5517-414c-9163-6b3da72f8895",
   "metadata": {},
   "outputs": [
    {
     "name": "stdout",
     "output_type": "stream",
     "text": [
      "Animal speaks\n",
      "Dog barks\n"
     ]
    }
   ],
   "source": [
    "# Example of Single inheritance\n",
    "\n",
    "class Animal:\n",
    "    def speak(self):\n",
    "        print(\"Animal speaks\")\n",
    "class Dog(Animal):\n",
    "    def bark(self):\n",
    "        print(\"Dog barks\")\n",
    "d = Dog()\n",
    "d.speak()\n",
    "d.bark()"
   ]
  },
  {
   "cell_type": "code",
   "execution_count": 23,
   "id": "f97ad87d-b79f-4fac-aa58-c380b070b641",
   "metadata": {},
   "outputs": [
    {
     "name": "stdout",
     "output_type": "stream",
     "text": [
      "Dog barks\n",
      "Mammal feeds milk\n",
      "Animal speaks\n"
     ]
    }
   ],
   "source": [
    "# Example for Multiple inheritance\n",
    "\n",
    "class Animal:\n",
    "    def speak(self):\n",
    "        print(\"Animal speaks\")\n",
    "class Mammal:\n",
    "    def feed_milk(self):\n",
    "        print(\"Mammal feeds milk\")\n",
    "class Dog(Animal,Mammal):\n",
    "    def bark(self):\n",
    "        print(\"Dog barks\")\n",
    "d = Dog()\n",
    "d.bark()\n",
    "d.feed_milk()\n",
    "d.speak()"
   ]
  },
  {
   "cell_type": "markdown",
   "id": "f805f4ac-7509-4c54-a1e6-1c4c51ed97ef",
   "metadata": {},
   "source": [
    "#### 3. Create a Python class called `Vehicle` with attributes `color` and `speed`. Then, create a child class called `Car` that inherits from `Vehicle` and adds a `brand` attribute. Provide an example of creating a `Car` object"
   ]
  },
  {
   "cell_type": "code",
   "execution_count": 24,
   "id": "67d8c8f7-d49e-406b-9668-ea06dfdee875",
   "metadata": {},
   "outputs": [
    {
     "name": "stdout",
     "output_type": "stream",
     "text": [
      "Color: Orange\n",
      "Speed: 300\n",
      "Brand: Audi\n"
     ]
    }
   ],
   "source": [
    "class Vehicle:\n",
    "    def __init__(self,color,speed):\n",
    "        self.color = color\n",
    "        self.speed = speed\n",
    "class Car(Vehicle):\n",
    "    def __init__(self,color,speed,brand):\n",
    "        super().__init__(color,speed)\n",
    "        self.brand = brand\n",
    "C = Car(color = 'Orange', speed = 300, brand = 'Audi')\n",
    "print(\"Color:\", C.color)\n",
    "print(\"Speed:\", C.speed)\n",
    "print(\"Brand:\", C.brand)"
   ]
  },
  {
   "cell_type": "markdown",
   "id": "5a84f3bb-8f39-4127-a9f0-376813f2a75e",
   "metadata": {},
   "source": [
    "#### 4. Explain the concept of method overriding in inheritance. Provide a practical example.\n",
    "\n",
    "Method overriding is a feature of object-oriented programming that allows a subclass to provide a specific implementation of a method that is already defined in its superclass. When a subclass defines a method with the same name and signature as a method in its superclass, it overrides the behavior of the superclass method. This enables the subclass to provide its own implementation of the method, tailored to its specific requirements.\n",
    "\n",
    "Here is an example"
   ]
  },
  {
   "cell_type": "code",
   "execution_count": 25,
   "id": "1e344594-f7b7-4145-873b-263dc367b1c1",
   "metadata": {},
   "outputs": [
    {
     "name": "stdout",
     "output_type": "stream",
     "text": [
      "Vehical is being driven\n",
      "Car is being driven\n"
     ]
    }
   ],
   "source": [
    "class Vehical:\n",
    "    def Drive(self):\n",
    "        print(\"Vehical is being driven\")\n",
    "class Car(Vehical):\n",
    "    def Drive(self):\n",
    "        print(\"Car is being driven\")\n",
    "vehical = Vehical()\n",
    "vehical.Drive()\n",
    "\n",
    "car = Car()\n",
    "car.Drive()"
   ]
  },
  {
   "cell_type": "markdown",
   "id": "3eabad38-d73b-45fa-9fb5-e1534e6ba86b",
   "metadata": {},
   "source": [
    "In this example, the Car class overrides the drive() method inherited from the Vehical class. When an object of the Car class calls the drive() method, it executes the implementation provided in the Car class rather than the implementation in the Vehical class."
   ]
  },
  {
   "cell_type": "markdown",
   "id": "9c29caed-10ef-43b6-8ca7-2c1e73fb3124",
   "metadata": {},
   "source": [
    "#### 5. How can you access the methods and attributes of a parent class from a child class in Python? Give an example.\n",
    "\n",
    "In Python, you can access the methods and attributes of a parent class from a child class by using the super() function. The super() function returns a proxy object that allows you to call methods and access attributes of the parent class within the child class.\n",
    "\n",
    "Here is an Example."
   ]
  },
  {
   "cell_type": "code",
   "execution_count": 26,
   "id": "85dbad85-025c-4973-bd72-4f39e78f6ee7",
   "metadata": {},
   "outputs": [
    {
     "name": "stdout",
     "output_type": "stream",
     "text": [
      "Hello, my name is Vishal & my age is 24\n",
      "My student Id is 201630154\n",
      "Vishal is studying Data Science\n"
     ]
    }
   ],
   "source": [
    "class Person:\n",
    "    def __init__(self, name, age):\n",
    "        self.name = name\n",
    "        self.age = age\n",
    "    def introduce(self):\n",
    "        print(f\"Hello, my name is {self.name} & my age is {self.age}\")\n",
    "\n",
    "class Student(Person):\n",
    "    def __init__(self, name, age, student_id):\n",
    "        super().__init__(name,age)\n",
    "        self.student_id = student_id\n",
    "    def introduce(self):\n",
    "        super().introduce()\n",
    "        print(f\"My student Id is {self.student_id}\")\n",
    "    def study(self, subject):\n",
    "        print(f\"{self.name} is studying {subject}\")\n",
    "student = Student(\"Vishal\", 24 , \"201630154\")\n",
    "student.introduce()\n",
    "student.study(\"Data Science\")"
   ]
  },
  {
   "cell_type": "markdown",
   "id": "96070bba-e8ad-4c20-b3ed-53bddc0e4f4c",
   "metadata": {},
   "source": [
    "#### 6. Discuss the use of the `super()` function in Python inheritance. When and why is it used? Provide an example."
   ]
  },
  {
   "cell_type": "markdown",
   "id": "2d18fbcf-b479-4e5b-bce9-0057cd595744",
   "metadata": {},
   "source": [
    "* The super() function in Python is used to access methods and attributes from the parent class within a subclass. It provides a way to call methods or access attributes of the superclass, enabling a subclass to extend or override the behavior of its parent class while still maintaining a connection to \n",
    "the parent's functionality.\n",
    "* When & Why it used.\n",
    "1. Initialization of Parent Class: super() is commonly used within the __init__() method of a subclass to call the __init__() method of the parent class. This allows the subclass to initialize attributes inherited from the parent class.\n",
    "2. Method Overriding: When a subclass overrides a method from its superclass but still wants to execute the overridden method's behavior, super() can be used to call the overridden method from the parent class.\r\n",
    "3. Multiple Inheritance: In cases of multiple inheritance, super() ensures that methods and attributes are accessed in a consistent and predictable order based on the method resolution order (MRO)\n",
    "\n",
    "\n",
    "Here is an example\r\n"
   ]
  },
  {
   "cell_type": "code",
   "execution_count": 27,
   "id": "2180afb1-ff5e-4337-adcc-f6dad0e1fc3e",
   "metadata": {},
   "outputs": [
    {
     "name": "stdout",
     "output_type": "stream",
     "text": [
      "Color:Blue, Width:5, Height:12\n"
     ]
    }
   ],
   "source": [
    "class shape:\n",
    "    def __init__(self,color):\n",
    "        self.color = color\n",
    "    def get_color(self):\n",
    "        return self.color\n",
    "class Ractangle(shape):\n",
    "    def __init__(self,color,width,height):\n",
    "        super().__init__(color)\n",
    "        self.width=width\n",
    "        self.height=height\n",
    "    def area(self):\n",
    "        return self.width*self.height\n",
    "    def perimeter(self):\n",
    "        return 2*(self.width*self.height)\n",
    "    def display(self):\n",
    "        print(f\"Color:{self.color}, Width:{self.width}, Height:{self.height}\")\n",
    "ract = Ractangle(color='Blue',width=5,height=12)\n",
    "ract.display()"
   ]
  },
  {
   "cell_type": "markdown",
   "id": "3f004bbe-2de8-48a8-ab00-ffc6534ac594",
   "metadata": {},
   "source": [
    "#### 7. Create a Python class called `Animal` with a method `speak()`. Then, create child classes `Dog` and `Cat` that inherit from `Animal` and override the `speak()` method. Provide "
   ]
  },
  {
   "cell_type": "code",
   "execution_count": 28,
   "id": "abf294c0-c499-4ef2-b882-e6a2b0ae8ab2",
   "metadata": {},
   "outputs": [
    {
     "name": "stdout",
     "output_type": "stream",
     "text": [
      "Woof! I'm a dog.\n",
      "Meow! I'm a cat.\n"
     ]
    }
   ],
   "source": [
    "class Animal:\n",
    "    def speak(self):\n",
    "        print(\"This is the speak method of the Animal class\")\n",
    "\n",
    "class Dog(Animal):\n",
    "    def speak(self):\n",
    "        print(\"Woof! I'm a dog.\")\n",
    "\n",
    "class Cat(Animal):\n",
    "    def speak(self):\n",
    "        print(\"Meow! I'm a cat.\")\n",
    "dog = Dog()\n",
    "cat = Cat()\n",
    "dog.speak()\n",
    "cat.speak()"
   ]
  },
  {
   "cell_type": "markdown",
   "id": "bba4be2f-3565-436e-9295-27d8eb41c474",
   "metadata": {},
   "source": [
    "#### 8. Explain the role of the `isinstance()` function in Python and how it relates to inheritance."
   ]
  },
  {
   "cell_type": "markdown",
   "id": "ffa5093d-8775-469d-a68c-f2aa46f0cbec",
   "metadata": {},
   "source": [
    "The isinstance() function in Python is used to check whether an object is an instance of a particular class or of a subclass of that class. It returns True if the object is an instance of the specified class or any of its subclasses, and False otherwise.\n",
    "The isinstance() function plays a crucial role in inheritance because it allows you to verify the type of an object in a way that's compatible with inheritance. This means that if a class inherits from another class, an instance of the subclass is also considered an instance of the parent class"
   ]
  },
  {
   "cell_type": "markdown",
   "id": "6985d499-864c-4187-b099-500a45c147e8",
   "metadata": {},
   "source": [
    "#### 9. What is the purpose of the `issubclass()` function in Python? Provide an example."
   ]
  },
  {
   "cell_type": "markdown",
   "id": "f76c5707-ac69-424e-a43a-a6343119e24b",
   "metadata": {},
   "source": [
    "The issubclass() function in Python is used to check whether a class is a subclass of another class. It returns True if the first argument is a subclass of the second argument, and False otherwise.issubclass() is commonly used in scenarios where you need to dynamically determine the relationship between classes, especially when working with class hierarchies and inheritance structures"
   ]
  },
  {
   "cell_type": "code",
   "execution_count": 29,
   "id": "bedfcf86-5d41-41fe-b4fb-10e4d526f795",
   "metadata": {},
   "outputs": [
    {
     "name": "stdout",
     "output_type": "stream",
     "text": [
      "True\n"
     ]
    }
   ],
   "source": [
    "class Animal:\n",
    "    pass\n",
    "class Dog(Animal):\n",
    "    pass\n",
    "print(issubclass(Dog,Animal))"
   ]
  },
  {
   "cell_type": "markdown",
   "id": "6f69c57d-6df6-476b-876d-b6a3444b5329",
   "metadata": {},
   "source": [
    "#### 10. Discuss the concept of constructor inheritance in Python. How are constructors inherited in child classes?"
   ]
  },
  {
   "cell_type": "markdown",
   "id": "242640f7-b5e2-440e-9bd0-c69389524a87",
   "metadata": {},
   "source": [
    "In Python, constructor inheritance refers to the ability of a subclass to inherit the constructor (also known as __init__ method) of its parent class. When a subclass is created, it can choose to either inherit the constructor from its parent class or define its own constructor. If the subclass does not define its own constructor, it automatically inherits the constructor of the parent class.\n",
    "* Here's how constructor inheritance works in Python:\n",
    "\r",
    "1. Inheriting the Constructor: When a subclass is created without its own constructor, Python automatically inherits the constructor from its parent class. This means that the subclass will have access to all the initialization logic defined in the parent class's constructor.\n",
    "\n",
    "2. Overriding the Constructor: If the subclass needs to customize the initialization process or add additional attributes, it can define its own constructor. In this case, the constructor of the parent class is overridden by the constructor of the subclass. However, the subclass can still choose to call the constructor of the parent class explicitly if needed.\n",
    "\n",
    "3. Super() Function: When defining a constructor in a subclass, it's common to call the constructor of the parent class to ensure that any necessary initialization defined in the parent class is executed. This can be achieved using the super() function.\r\n"
   ]
  },
  {
   "cell_type": "markdown",
   "id": "ce1673b0-b174-4a21-a509-10b5291da604",
   "metadata": {},
   "source": [
    "#### 11.Create a Python class called `Shape` with a method `area()` that calculates the area of a shape. Then, create child classes `Circle` and `Rectangle` that inherit from `Shape` and implement the `area()` method accordingly. Provide an example"
   ]
  },
  {
   "cell_type": "code",
   "execution_count": 30,
   "id": "3e182225-ae75-4d2e-91b4-58000fa54c23",
   "metadata": {},
   "outputs": [
    {
     "name": "stdout",
     "output_type": "stream",
     "text": [
      "Area of Circle is 254.46900494077323\n",
      "Area of Ractangle is 80\n"
     ]
    }
   ],
   "source": [
    "import math\n",
    "class Shape:\n",
    "    def area(self):\n",
    "        pass\n",
    "class Circle(Shape):\n",
    "    def __init__(self,radius):\n",
    "        self.radius = radius\n",
    "\n",
    "    def area(self):\n",
    "        return math.pi*self.radius*self.radius\n",
    "\n",
    "class Ractangle(Shape):\n",
    "    def __init__(self,height,width):\n",
    "        self.height = height\n",
    "        self.width = width\n",
    "    \n",
    "    def area(self):\n",
    "        return self.height*self.width\n",
    "\n",
    "circle = Circle(9)\n",
    "ractangle = Ractangle(8,10)\n",
    "print('Area of Circle is',circle.area())\n",
    "print('Area of Ractangle is', ractangle.area())"
   ]
  },
  {
   "cell_type": "markdown",
   "id": "aabd7d51-ecaf-4db5-9e19-fe44076536ed",
   "metadata": {},
   "source": [
    "#### 12. Explain the use of abstract base classes (ABCs) in Python and how they relate to inheritance. Provide an example using the `abc` module"
   ]
  },
  {
   "cell_type": "markdown",
   "id": "6472d54c-b161-4648-811f-e8b2b04b6c73",
   "metadata": {},
   "source": [
    "act Base Classes (ABCs) in Python provide a way to define a blueprint for a class while not providing a concrete implementation for all its methods. They serve as a guideline for derived classes, enforcing the presence of certain methods or properties. ABCs are a form of interface definition, ensuring that classes that inherit from them implement specific functionality.\n",
    "\n",
    "Here's how ABCs relate to inheritance:\r\n",
    "1. Definition of Interface: An ABC defines a set of methods that must be implemented by its subclasses. These methods act as an interface that subclasses are expected to adhere to. Subclasses must override these methods to provide their own implementations.\n",
    "2. Enforcement of Interface: ABCs enforce the implementation of specific methods by raising TypeError if a subclass fails to implement them. This helps in ensuring that all subclasses provide necessary functionality as defined by the ABC.\n",
    "3. Polymorphism: ABCs enable polymorphism by allowing different subclasses to implement the same methods in different ways while still adhering to the same interface. This promotes code reusability and flexibility\n",
    "\n",
    "Here's an example using the abc module to define an abstract base class representing a shape:\r\n",
    "\r\n"
   ]
  },
  {
   "cell_type": "code",
   "execution_count": 31,
   "id": "cab74e52-208b-4977-8275-534c3b2fd44c",
   "metadata": {},
   "outputs": [
    {
     "name": "stdout",
     "output_type": "stream",
     "text": [
      "Area of circle: 452.15999999999997\n",
      "Area of Ractangle 56\n"
     ]
    }
   ],
   "source": [
    "from abc import ABC, abstractmethod\n",
    "\n",
    "class Shape(ABC):\n",
    "    @abstractmethod\n",
    "    def area(self):\n",
    "        pass\n",
    "\n",
    "class Circle(Shape):\n",
    "    def __init__(self,radius):\n",
    "        self.radius = radius\n",
    "    def area(self):\n",
    "        return 3.14*self.radius*self.radius\n",
    "\n",
    "class Ractangle(Shape):\n",
    "    def __init__(self,width,height):\n",
    "        self.width =width\n",
    "        self.height = height\n",
    "    def area(self):\n",
    "        return self.width*self.height\n",
    "\n",
    "circle = Circle(12)\n",
    "print(\"Area of circle:\", circle.area())\n",
    "\n",
    "ractangle = Ractangle(14,4)\n",
    "print(\"Area of Ractangle\", ractangle.area())"
   ]
  },
  {
   "cell_type": "markdown",
   "id": "65cc5fc0-b23c-42e0-9514-4c97c4236777",
   "metadata": {},
   "source": [
    "#### 13. How can you prevent a child class from modifying certain attributes or methods inherited from a parent class in Python?"
   ]
  },
  {
   "cell_type": "markdown",
   "id": "56ea046c-39c4-488e-879c-33e2e9c988e4",
   "metadata": {},
   "source": [
    "In Python, you can prevent a child class from modifying certain attributes or methods inherited from a parent class by using various techniques:"
   ]
  },
  {
   "cell_type": "markdown",
   "id": "c642f6cb-3cbd-4c50-9880-dfa240a643bd",
   "metadata": {},
   "source": [
    "1. Encapsulation: Make the attributes or methods in the parent class private (by prefixing them with double underscores __). This will effectively prevent direct access to those attributes or methods from the child class.\n",
    "2.  Property Decorators: Use property decorators to create read-only properties for the attributes you want to protect. This allows controlled access to the attributes without allowing modification.\n",
    "3.  Override Methods: If there are methods in the parent class that you want to restrict in the child class, you can override those methods in the child class with methods that raise an exception or perform no action.\n",
    "4.  Metaclasses: You can use metaclasses to customize class creation behavior. By defining a metaclass for the parent class, you can control which attributes and methods are inherited by child classes.\n",
    "5.  ABCs (Abstract Base Classes): Define abstract methods in the parent class that must be implemented by the child class. This allows you to specify an interface that the child class must adhere to without exposing the implementation details"
   ]
  },
  {
   "cell_type": "markdown",
   "id": "08093660-0f82-4bea-992d-5b589568188e",
   "metadata": {},
   "source": [
    "#### 14.  Create a Python class called `Employee` with attributes `name` and `salary`. Then, create a child class `Manager` that inherits from `Employee` and adds an attribute `department`. Provide an example"
   ]
  },
  {
   "cell_type": "code",
   "execution_count": 33,
   "id": "bdad1219-42bc-4975-8b3a-8e01c509235b",
   "metadata": {},
   "outputs": [
    {
     "name": "stdout",
     "output_type": "stream",
     "text": [
      "Employee: Vishal Salary: 50000\n",
      "Manager jane smith Salary: 70000 Department: IT\n"
     ]
    }
   ],
   "source": [
    "class Employee:\n",
    "    def __init__(self,name,salary):\n",
    "        self.name = name\n",
    "        self.salary = salary\n",
    "class Manager(Employee):\n",
    "    def __init__(self,name,salary,department):\n",
    "        super().__init__(name,salary)\n",
    "        self.department = department\n",
    "\n",
    "employee1 = Employee('Vishal',50000)\n",
    "print(\"Employee:\", employee1.name, \"Salary:\", employee1.salary)\n",
    "manager1 = Manager('jane smith', 70000,'IT')\n",
    "print(\"Manager\",manager1.name,\"Salary:\",manager1.salary,\"Department:\", manager1.department)"
   ]
  },
  {
   "cell_type": "markdown",
   "id": "98512d0f-5584-44e7-9910-dfd76b89d535",
   "metadata": {},
   "source": [
    "#### 15. Discuss the concept of method overloading in Python inheritance. How does it differ from method overriding?"
   ]
  },
  {
   "cell_type": "markdown",
   "id": "eb6fe543-65a5-4264-851c-9ba10f5418f6",
   "metadata": {},
   "source": [
    "Method overloading and method overriding are both concepts related to polymorphism in object-oriented programming, but they serve different purposes and are used in different contexts. Here's an explanation of each:\n",
    "\n",
    "1. Method Overloading: Method overloading refers to the ability to define multiple methods in a class with the same name but with different signatures (i.e., different parameters). The method to be executed is determined by the number and types of arguments passed to it.In Python, true method overloading (where you can define multiple methods with the same name but different signatures) is not supported directly. However, you can achieve similar behavior using default parameter values or variable-length argument lists.\n",
    "\n",
    "2. Method Overriding:Method overriding occurs when a subclass provides a specific implementation of a method that is already defined in its superclass. This allows the subclass to provide its own behavior for that method while still retaining the same method signature.In method overriding, the method in the subclass must have the same name and parameters as the method in the superclass.\n",
    "\n",
    "In method overriding, the method in the subclass must have the same name and parameters as the method in the superclass.\n",
    "\n"
   ]
  },
  {
   "cell_type": "markdown",
   "id": "5e0ec052-8a98-466d-af64-814b51dbcc1e",
   "metadata": {},
   "source": [
    "#### 16. Explain the purpose of the `__init__()` method in Python inheritance and how it is utilized in child classes."
   ]
  },
  {
   "cell_type": "markdown",
   "id": "d1fffdc7-857f-4f4d-b4cd-ac45a564e25c",
   "metadata": {},
   "source": [
    "In Python, the __init__() method serves as the constructor for a class. It is called automatically when a new instance of the class is created. The primary purpose of the __init__() method is to initialize the attributes of the object.When it comes to inheritance, the __init__() method plays a crucial role in both the parent (or base) class and the child class.\n",
    "\n",
    "**Here's how it works in the Child Class**: When a child class inherits from a parent class, it can extend or modify the behavior of the parent class by overriding the __init__() method. If the child class defines its own __init__() method, it should call the __init__() method of the parent class explicitly using the super() function. This ensures that the initialization of attributes defined in the parent class is also performed.By utilizing the __init__() method in inheritance, child classes can ensure that the attributes of both the parent and child classes are properly initialized when instances of the child class are created."
   ]
  },
  {
   "cell_type": "markdown",
   "id": "3b2b99a9-9154-48e9-9a5c-0cafd2ec6f40",
   "metadata": {},
   "source": [
    "#### 17. Create a Python class called `Bird` with a method `fly()`. Then, create child classes `Eagle` and `Sparrow` that inherit from `Bird` and implement the `fly()` method differently. Provide an example of using these classes"
   ]
  },
  {
   "cell_type": "code",
   "execution_count": 34,
   "id": "5a8798ea-fcd3-441b-ab04-4403cc37d6a5",
   "metadata": {},
   "outputs": [
    {
     "name": "stdout",
     "output_type": "stream",
     "text": [
      "Eagle soars high in sky\n",
      "Sparrow flutters swiftly from branch to branch\n"
     ]
    }
   ],
   "source": [
    "class Bird:\n",
    "    def fly(self):\n",
    "        raise NotImplementedError(\"Subclasses must implement fly()\")\n",
    "\n",
    "class Eagle(Bird):\n",
    "    def fly(self):\n",
    "        return 'Eagle soars high in sky'\n",
    "\n",
    "class Sparrow(Bird):\n",
    "    def fly(self):\n",
    "        return 'Sparrow flutters swiftly from branch to branch'\n",
    "\n",
    "eagle = Eagle()\n",
    "print(eagle.fly())\n",
    "\n",
    "sparrow = Sparrow()\n",
    "print(sparrow.fly())"
   ]
  },
  {
   "cell_type": "markdown",
   "id": "31f6c1b8-e6cb-4644-bbbe-755259a541d7",
   "metadata": {},
   "source": [
    "#### 18. What is the \"diamond problem\" in multiple inheritance, and how does Python address it?"
   ]
  },
  {
   "cell_type": "markdown",
   "id": "8bfbf7df-c36b-4df2-82bb-209cd95b6a2d",
   "metadata": {},
   "source": [
    "* The \"diamond problem\" is a challenge that arises in programming languages that support multiple inheritance. when a class inherits from two classes that have a common ancestor. It is called the \"diamond problem\" because of the diamond shape that results from the class hierarchy.In this hierarchy, both B and C inherit from A, and D inherits from both B and C. This creates ambiguity because D inherits the attributes and methods of A through both B and C. If there's a method or attribute defined in A, it's unclear which one D should use.\n",
    "* Python addresses the diamond problem by implementing a mechanism called \"method resolution order\" (MRO). The MRO defines the order in which base classes are searched when looking for a method or attribute in a class hierarchy.\r",
    "* \n",
    "Python's MRO algorithm is based on C3 Linearization, which ensures that each parent class is visited only once. The MRO algorithm used by Python's inheritance mechanism guarantees that method resolution follows a predictable and consistent order."
   ]
  },
  {
   "cell_type": "code",
   "execution_count": 35,
   "id": "2d64744c-6413-47e3-a9bc-7352e5422f32",
   "metadata": {},
   "outputs": [
    {
     "name": "stdout",
     "output_type": "stream",
     "text": [
      "[<class '__main__.D'>, <class '__main__.B'>, <class '__main__.C'>, <class '__main__.A'>, <class 'object'>]\n"
     ]
    }
   ],
   "source": [
    "class A:\n",
    "    pass\n",
    "\n",
    "class B(A):\n",
    "    pass\n",
    "\n",
    "class C(A):\n",
    "    pass\n",
    "\n",
    "class D(B, C):\n",
    "    pass\n",
    "\n",
    "print(D.mro())"
   ]
  },
  {
   "cell_type": "markdown",
   "id": "206ec86f-81fb-4445-b98c-6b34d773483f",
   "metadata": {},
   "source": [
    "#### 19. Discuss the concept of \"is-a\" and \"has-a\" relationships in inheritance, and provide examples of each."
   ]
  },
  {
   "cell_type": "markdown",
   "id": "77b6fe64-a0af-42b4-b5fb-709ca1167311",
   "metadata": {},
   "source": [
    "In object-oriented programming, especially in the context of inheritance, two fundamental relationships exist: \"is-a\" and \"has-a\n",
    "\n",
    "1. ***\"Is-a\" Relationship (Inheritance)***:\n",
    "An \"is-a\" relationship represents a hierarchical relationship between classes where one class is a specialized version of another. This is typically implemented using inheritance.In an \"is-a\" relationship, a subclass inherits attributes and methods from its superclass, implying that an object of the subclass can be used wherever an object of the superclass is expected.\n",
    "* Example: A Car \"is-a\" Vehicle, a Dog \"is-a\" Animal.\n"
   ]
  },
  {
   "cell_type": "code",
   "execution_count": 36,
   "id": "1256b248-e0fc-47f7-a8fd-39b3a73c0875",
   "metadata": {},
   "outputs": [],
   "source": [
    "class Vahical:\n",
    "    def move(self):\n",
    "        print('Vahical is moving')\n",
    "class Car(Vahical):\n",
    "    pass\n",
    "\n",
    "class Dog:\n",
    "    pass"
   ]
  },
  {
   "cell_type": "markdown",
   "id": "b122ed5c-293e-47c8-80b6-4ae481d693ea",
   "metadata": {},
   "source": [
    "In this example, Car inherits from Vehicle, indicating that a car is a type of vehicle."
   ]
  },
  {
   "cell_type": "markdown",
   "id": "7ac5db7b-2011-4218-a323-00fabde1b15d",
   "metadata": {},
   "source": [
    "2. ***\"Has-a\" Relationship (Composition)***:\n",
    "A \"has-a\" relationship represents a scenario where one class contains an instance of another class as a member. This is often implemented through composition or aggregation.In a \"has-a\" relationship, a class has a reference to another class, meaning it contains an object of another class as one of its attributes.\n",
    "* Example: A Car \"has-a\" Engine, a Company \"has-a\" Employee."
   ]
  },
  {
   "cell_type": "code",
   "execution_count": 37,
   "id": "bf58d79d-7cb7-42f3-9102-3a454bdede34",
   "metadata": {},
   "outputs": [],
   "source": [
    "class Engine:\n",
    "    def start(self):\n",
    "        print('Engine is started')\n",
    "class Car:\n",
    "    def __init__(self):\n",
    "        self.engine = Engine()\n",
    "class Company:\n",
    "    def __init__(self,employee):\n",
    "        self.employee = employee"
   ]
  },
  {
   "cell_type": "markdown",
   "id": "8aba3ea6-a3c9-4167-80cb-cf9505180549",
   "metadata": {},
   "source": [
    "In this example, Car contains an instance of Engine, and Company contains an instance of Employee"
   ]
  },
  {
   "cell_type": "markdown",
   "id": "507a60ef-e646-4f74-98ba-3d84fa82314b",
   "metadata": {},
   "source": [
    "In summary, \"is-a\" relationship emphasizes inheritance, indicating a hierarchical relationship where one class is a specialization of another. On the other hand, \"has-a\" relationship emphasizes composition, indicating that one class contains an instance of another class as one of its attributes. Both relationships play crucial roles in designing object-oriented systems, providing flexibility and modularity in software design."
   ]
  },
  {
   "cell_type": "markdown",
   "id": "dfa5126d-f02c-401d-a8de-a37e156eff5f",
   "metadata": {},
   "source": [
    "#20. Create a Python class hierarchy for a university system. Start with a base class `Person` and create child classes `Student` and `Professor`, each with their own attributes and methods. Provide an example of using these classes in a university context"
   ]
  },
  {
   "cell_type": "code",
   "execution_count": 38,
   "id": "8fec4698-9ee5-466d-a148-27454098d9eb",
   "metadata": {},
   "outputs": [
    {
     "name": "stdout",
     "output_type": "stream",
     "text": [
      "Hello, my name is Alice and I am 20 years old.\n",
      "Alice is studying.\n",
      "Hello, my name is Bob and I am 45 years old.\n",
      "Bob is teaching.\n"
     ]
    }
   ],
   "source": [
    "class Person:\n",
    "    def __init__(self, name, age):\n",
    "        self.name = name\n",
    "        self.age = age\n",
    "\n",
    "    def introduce(self):\n",
    "        return f\"Hello, my name is {self.name} and I am {self.age} years old.\"\n",
    "\n",
    "\n",
    "class Student(Person):\n",
    "    def __init__(self, name, age, student_id):\n",
    "        super().__init__(name, age)\n",
    "        self.student_id = student_id\n",
    "\n",
    "    def study(self):\n",
    "        return f\"{self.name} is studying.\"\n",
    "\n",
    "\n",
    "class Professor(Person):\n",
    "    def __init__(self, name, age, employee_id, department):\n",
    "        super().__init__(name, age)\n",
    "        self.employee_id = employee_id\n",
    "        self.department = department\n",
    "\n",
    "    def teach(self):\n",
    "        return f\"{self.name} is teaching.\"\n",
    "\n",
    "student1 = Student(\"Alice\", 20, \"S1234\")\n",
    "print(student1.introduce()) \n",
    "print(student1.study())      \n",
    "\n",
    "professor1 = Professor(\"Bob\", 45, \"P5678\", \"Computer Science\")\n",
    "print(professor1.introduce())  \n",
    "print(professor1.teach())      "
   ]
  },
  {
   "cell_type": "markdown",
   "id": "67b3911c-e15e-4be3-988d-69df55073196",
   "metadata": {},
   "source": [
    "#### 20. Create a Python class hierarchy for a university system. Start with a base class `Person` and create child classes `Student` and `Professor`, each with their own attributes and methods. Provide an example of using these classes in a university context"
   ]
  },
  {
   "cell_type": "code",
   "execution_count": 39,
   "id": "d233c540-840b-46cc-b4a6-0b200eb12942",
   "metadata": {},
   "outputs": [
    {
     "name": "stdout",
     "output_type": "stream",
     "text": [
      "Hi, i'm Vishal\n",
      "Vishal is studying data science\n",
      "Hi, i'm Dr. Shinde\n",
      "Dr. Shinde is teaching a lecture.\n",
      "Student: Vishal, Age:25, Student Id: 704619, Major:Data science\n",
      "Professor: Dr. Shinde, Age:55, Employee ID:P98765, Department:Statistics\n"
     ]
    }
   ],
   "source": [
    "class Person:\n",
    "    def __init__(self,name,age):\n",
    "        self.name =name\n",
    "        self.age =age\n",
    "    def introduce(self):\n",
    "        return f\"Hi, i'm {self.name}\"\n",
    "class Student(Person):\n",
    "    def __init__(self,name,age,student_id,major):\n",
    "        super().__init__(name,age)\n",
    "        self.student_id =student_id\n",
    "        self.major = major\n",
    "    def study(self):\n",
    "        return f\"{self.name} is studying data science\"\n",
    "    def __str__(self):\n",
    "        return f\"Student: {self.name}, Age:{self.age}, Student Id: {self.student_id}, Major:{self.major}\"\n",
    "\n",
    "class Professor(Person):\n",
    "    def __init__(self, name, age, employee_id, department):\n",
    "        super().__init__(name,age)\n",
    "        self.employee_id = employee_id\n",
    "        self.department = department\n",
    "    def teach(self):\n",
    "        return f\"{self.name} is teaching a lecture.\"\n",
    "    def __str__(self):\n",
    "        return f\"Professor: {self.name}, Age:{self.age}, Employee ID:{self.employee_id}, Department:{self.department}\"\n",
    "student1 = Student(\"Vishal\",25,'704619','Data science')\n",
    "professor1 = Professor('Dr. Shinde', 55, 'P98765', 'Statistics')\n",
    "print(student1.introduce())\n",
    "print(student1.study())\n",
    "print(professor1.introduce())\n",
    "print(professor1.teach())\n",
    "\n",
    "print(student1)\n",
    "print(professor1)"
   ]
  },
  {
   "cell_type": "markdown",
   "id": "1344aa4e-fae5-493b-a2c8-c0410a9a7c27",
   "metadata": {},
   "source": [
    "## Encapsulation"
   ]
  },
  {
   "cell_type": "markdown",
   "id": "9440c0ae-0c39-472b-9cfd-99d8c323f84c",
   "metadata": {},
   "source": [
    "#### 1. Explain the concept of encapsulation in Python. What is its role in object-oriented programming?"
   ]
  },
  {
   "cell_type": "markdown",
   "id": "65c5e891-dfda-4cbd-a75c-d01c30d4fcbc",
   "metadata": {},
   "source": [
    "Encapsulation is one of the fundamental concepts in object-oriented programming (OOP). It refers to the bundling of data (attributes) and methods (functions) that operate on the data into a single unit, called a class. In Python, encapsulation is achieved by using classes.\n",
    "\n",
    "Here's how encapsulation works and its role in OOP:\n",
    "\n",
    "1. Data Hiding: Encapsulation allows the internal representation of an object to be hidden from the outside. This means that the internal state of an object is protected from direct access by external code. In Python, this is typically achieved by marking attributes or methods as private using a single underscore (_) or double underscore (__).\n",
    "2. Access Control: Encapsulation provides a way to control the access to the data and methods of an object. By using access modifiers such as public, private, and protected, you can specify which parts of the class are accessible from outside the class. In Python, there's a convention of using single underscore (_) to indicate that an attribute or method is intended to be private.\n",
    "3. Modularity: Encapsulation promotes modularity by organizing the code into self-contained units (classes). Each class encapsulates its own data and behavior, making it easier to understand and maintain the codebase. This also facilitates code reuse and makes it easier to update or extend the functionality without affecting other parts of the program.\n",
    "4. Abstraction: Encapsulation allows you to define a clear interface for interacting with an object while hiding its internal implementation details. This helps in managing complexity by allowing you to focus on the essential features of an object without being distracted by its internal workings.\n",
    "\n",
    "In summary, encapsulation in Python (and in OOP in general) promotes data hiding, access control, modularity, and abstraction, which are essential principles for writing clean, maintainable, and scalable code. It helps in creating more robust and secure software systems by controlling access to the internal state of objects and providing a clear interface for interacting with them."
   ]
  },
  {
   "cell_type": "markdown",
   "id": "41c797ce-7588-4edb-92ed-01052c77faf9",
   "metadata": {},
   "source": [
    "#### 2. Describe the key principles of encapsulation, including access control and data hiding."
   ]
  },
  {
   "cell_type": "markdown",
   "id": "805ae715-65ea-4f55-9d66-d96627471a7c",
   "metadata": {},
   "source": [
    "Encapsulation is a fundamental concept in object-oriented programming (OOP) that emphasizes bundling data (attributes) and methods (functions) that operate on the data into a single unit or class. The key principles of encapsulation include\n",
    "\n",
    "* **Abstraction**: Encapsulation allows the internal details of an object to be hidden from the outside world. Users of the class only need to know how to interact with it through its public interface, without needing to understand its internal implementation.\n",
    "\n",
    "* **Data Hiding**: Encapsulation involves hiding the internal state of an object from the outside world. This is typically achieved by marking certain attributes or methods as private or protected, which prevents direct access from outside the class. Instead, access to these attributes or methods is provided through public interfaces, such as getter and setter methods.\n",
    "\n",
    "* **Modularity**: Encapsulation promotes modularity by organizing code into self-contained units (classes), which can be developed, tested, and maintained independently. This enhances code reusability and maintainability by allowing changes to be localized to specific classes without affecting other parts of the program."
   ]
  },
  {
   "cell_type": "markdown",
   "id": "c5d1558f-ab86-4db4-9c7e-a5c5597bb5e9",
   "metadata": {},
   "source": [
    "#### 3. How can you achieve encapsulation in Python classes? Provide an example."
   ]
  },
  {
   "cell_type": "markdown",
   "id": "a3a124e4-b545-4373-a5f1-4096bb58d561",
   "metadata": {},
   "source": [
    "In Python, encapsulation can be achieved using access modifiers and property methods. Python follows a convention that attributes or methods starting with a single underscore (_) are considered \"protected\" and those starting with double underscore (__) are considered \"private\". However, this is just a convention and can still be accessed from outside the class. Here's an example demonstrating encapsulation in Python:"
   ]
  },
  {
   "cell_type": "code",
   "execution_count": 40,
   "id": "96d05d5d-6824-4d2b-a0ed-7747dd7ca840",
   "metadata": {},
   "outputs": [
    {
     "name": "stdout",
     "output_type": "stream",
     "text": [
      "Toyota\n",
      "Camry\n",
      "2020\n",
      "2020\n",
      "2022\n",
      "2022\n",
      "make: Toyota, model : Camry, year:2022\n"
     ]
    }
   ],
   "source": [
    "class Car:\n",
    "    def __init__(self, make, model, year):\n",
    "        self._make = make    #protected attribute\n",
    "        self._model = model  #protected attribute\n",
    "        self.__year = year   #private attribute\n",
    "    def get_year(self):\n",
    "        return self.__year     #getter method\n",
    "\n",
    "    def set_year(self,year):   # setter method\n",
    "        if year > 0:\n",
    "            self.__year = year\n",
    "        else:\n",
    "            print('Invalid year')\n",
    "\n",
    "    def display_info(self):\n",
    "        print(f'make: {self._make}, model : {self._model}, year:{self.__year}')\n",
    "\n",
    "my_car = Car(\"Toyota\", \"Camry\", 2020)\n",
    "\n",
    "print(my_car._make)\n",
    "print(my_car._model)\n",
    "\n",
    "print(my_car._Car__year)\n",
    "\n",
    "print(my_car.get_year())\n",
    "\n",
    "my_car.set_year(2022)\n",
    "print(my_car.get_year())\n",
    "\n",
    "my_car._car__year = 2023\n",
    "print(my_car.get_year())\n",
    "\n",
    "my_car.display_info()"
   ]
  },
  {
   "cell_type": "markdown",
   "id": "4efe0cf9-fcde-4864-abd6-3f85b4daf8ae",
   "metadata": {},
   "source": [
    "#### 4. Discuss the difference between public, private, and protected access modifiers in Python."
   ]
  },
  {
   "cell_type": "markdown",
   "id": "a0810473-5b7c-47b8-9155-08b451da7253",
   "metadata": {},
   "source": [
    "* **Public**: In Python, by default, all attributes and methods are public. This means they can be accessed from outside the class. Public attributes and methods are accessible by any code that can access the object.\n",
    "* **Private**: Python uses name mangling to implement private attributes and methods. Private attributes and methods are those that start with double underscores __ but do not end with double underscores. Python changes the name of the variable in a way that makes it harder to create conflicts with subclasses. However, they can still be accessed from outside the class, albeit with some effort.\n",
    "* **Protected** : In Python, there's no strict enforcement of protected access, but by convention, attributes and methods starting with a single underscore _ are considered protected. This indicates that they should not be accessed from outside the class or its subclasses unless necessary.\n",
    "Although it's not enforced by the language, accessing protected members from outside the class or its subclasses is generally discouraged as it can still break encapsulation and hinder maintenance.\n",
    "\n",
    "In summary, while Python provides mechanisms to implement encapsulation and control access to attributes and methods, it relies more on conventions and developer discipline rather than strict enforcement."
   ]
  },
  {
   "cell_type": "markdown",
   "id": "5443dd7e-9c22-40e9-abf7-612e4ad457f0",
   "metadata": {},
   "source": [
    "#### 5. Create a Python class called `Person` with a private attribute `__name`. Provide methods to get and set the name attribute."
   ]
  },
  {
   "cell_type": "code",
   "execution_count": 41,
   "id": "acb90ac8-77f9-40d1-b582-f1cb7e5d6b6c",
   "metadata": {},
   "outputs": [
    {
     "name": "stdout",
     "output_type": "stream",
     "text": [
      "John\n",
      "Alice\n"
     ]
    }
   ],
   "source": [
    "class Person:\n",
    "    def __init__(self,name):\n",
    "        self.__name = name\n",
    "    def get_name(self):\n",
    "        return self.__name\n",
    "    def set_name(self,new_name):\n",
    "        self.__name = new_name\n",
    "\n",
    "person1 = Person('John')\n",
    "print(person1.get_name())\n",
    "\n",
    "person1.set_name('Alice')\n",
    "print(person1.get_name())"
   ]
  },
  {
   "cell_type": "markdown",
   "id": "e15f58b1-a0b9-462e-bfaf-ce0a5cdd7d45",
   "metadata": {},
   "source": [
    "#### 6. Explain the purpose of getter and setter methods in encapsulation. Provide examples."
   ]
  },
  {
   "cell_type": "markdown",
   "id": "a7bb9fef-2f76-4807-95ba-bcd2b073eb30",
   "metadata": {},
   "source": [
    "* Getter and setter methods play a crucial role in encapsulation, which is a fundamental principle of object-oriented programming. Encapsulation refers to the bundling of data and methods that operate on that data within a single unit, typically a class. Getter and setter methods help in achieving encapsulation by providing controlled access to the attributes of a class.\n",
    "* Here's why getter and setter methods are important:\n",
    "\n",
    "**Encapsulation** : Getter and setter methods allow you to encapsulate the internal state of an object. Instead of directly accessing or modifying the attributes of a class, external code interacts with the object through these methods. This helps in hiding the implementation details of the class and prevents unauthorized access or modification of its attributes.\n",
    "\n",
    "Example:"
   ]
  },
  {
   "cell_type": "code",
   "execution_count": 42,
   "id": "c4441f9f-e311-4a9b-8ebd-b3f65425d131",
   "metadata": {},
   "outputs": [
    {
     "name": "stdout",
     "output_type": "stream",
     "text": [
      "initial balance: 1000\n",
      "After deposit: 1500\n",
      "Insufficient Balance\n"
     ]
    }
   ],
   "source": [
    "class BankAccount:\n",
    "    def __init__(self,balance = 0):\n",
    "        self.__balance= balance\n",
    "    def get_balance(self):\n",
    "        return self.__balance\n",
    "    def deposite(self,amount):\n",
    "        if amount >0:\n",
    "            self.__balance += amount\n",
    "    def withdraw(self,amount):\n",
    "        if 0< amount <= self.__balance:\n",
    "            self.__balance -= amount\n",
    "        else:\n",
    "            print(\"Insufficient Balance\")\n",
    "\n",
    "account1 = BankAccount(1000)\n",
    "print(\"initial balance:\", account1.get_balance())\n",
    "\n",
    "account1.deposite(500)\n",
    "print(\"After deposit:\", account1.get_balance())\n",
    "\n",
    "account1.withdraw(2000)"
   ]
  },
  {
   "cell_type": "markdown",
   "id": "b96446b6-9fe2-4f70-835e-d0cb719bf148",
   "metadata": {},
   "source": [
    "#### 7. What is name mangling in Python, and how does it affect encapsulation?"
   ]
  },
  {
   "cell_type": "markdown",
   "id": "15b33889-b577-4724-8fe9-b2ae36e2acf1",
   "metadata": {},
   "source": [
    "* Name mangling in Python is a mechanism that the language uses to handle name clashes in classes. It is primarily used to create a unique namespace for attributes and methods of a class to prevent accidental overriding in subclasses. Name mangling is achieved by prefixing the name of a member variable or method with two underscores (__) but not ending it with two underscores\n",
    "* Here's how name mangling works:\r\n",
    "Name Mangling Process: When Python encounters an identifier with a double underscore prefix (e.g., __variable or __method()), it internally changes the name of that identifier to include the class name. Specifically, it prepends the class name with a single underscore (_) followed by the original identifier. For example, __variable becomes _ClassName__variable, and __method() becomes _ClassName__method()\n",
    "* \n",
    "Effect on Encapsulation: Name mangling helps in enforcing encapsulation by making attributes and methods with double underscore prefixes (private members) harder to access from outside the class. While it doesn't make them truly private (as Python doesn't support true access control like some other languages), it discourages accidental or intentional access or overriding by external code\n",
    "\n",
    "Example:\r\n"
   ]
  },
  {
   "cell_type": "code",
   "execution_count": 43,
   "id": "72bc32c5-9c4e-45dd-9f13-ed5f2d9ed30c",
   "metadata": {},
   "outputs": [
    {
     "name": "stdout",
     "output_type": "stream",
     "text": [
      "10\n",
      "This is a Private method\n"
     ]
    }
   ],
   "source": [
    "class MyClass:\n",
    "    def __init__(self):\n",
    "        self.__private_variable = 10\n",
    "    def __private_method(self):\n",
    "        return \"This is a Private method\"\n",
    "obj = MyClass()\n",
    "\n",
    "print(obj._MyClass__private_variable)\n",
    "\n",
    "print(obj._MyClass__private_method())"
   ]
  },
  {
   "cell_type": "markdown",
   "id": "76ebd087-87e1-441d-bdf8-0c6fb0a3141c",
   "metadata": {},
   "source": [
    "#### 8. Create a Python class called `BankAccount` with private attributes for the account balance (`__balance`) and account number (`__account_number`). Provide methods for depositing and withdrawing money"
   ]
  },
  {
   "cell_type": "code",
   "execution_count": 45,
   "id": "7ee3ccb4-372b-4165-83df-ce377209e3c4",
   "metadata": {},
   "outputs": [
    {
     "name": "stdout",
     "output_type": "stream",
     "text": [
      "Account Number: 123456\n",
      "Initial Balance: 1000\n",
      "Deposited 5000 into account 123456. New balance: 6000\n",
      "Withdraw 2000 from account 123456. New balance: 4000\n",
      "Insufficien funds or invalid withdrawal amount.\n"
     ]
    }
   ],
   "source": [
    "class BankAccount:\n",
    "    def __init__(self, account_number, initial_balance=0):\n",
    "        self.__account_number = account_number\n",
    "        self.__balance = initial_balance\n",
    "    def deposit(self,amount):\n",
    "        if amount>0:\n",
    "            self.__balance += amount\n",
    "            print(f\"Deposited {amount} into account {self.__account_number}. New balance: {self.__balance}\")\n",
    "        else:\n",
    "            print(\"Invalid deposit amount. Please enter a positive value.\")\n",
    "    def withdraw(self,amount):\n",
    "        if 0<amount<=self.__balance:\n",
    "            self.__balance -= amount\n",
    "            print(f\"Withdraw {amount} from account {self.__account_number}. New balance: {self.__balance}\")\n",
    "        else:\n",
    "            print(\"Insufficien funds or invalid withdrawal amount.\")\n",
    "    def get_balance(self):\n",
    "        return self.__balance\n",
    "    def get_account_number(self):\n",
    "        return self.__account_number\n",
    "\n",
    "account1 = BankAccount('123456',1000)\n",
    "print(\"Account Number:\", account1.get_account_number())\n",
    "print(\"Initial Balance:\", account1.get_balance())\n",
    "\n",
    "account1.deposit(5000)\n",
    "account1.withdraw(2000)\n",
    "\n",
    "account1.withdraw(20000)"
   ]
  },
  {
   "cell_type": "markdown",
   "id": "d743ab75-7c8a-4acb-903b-da58b2b65f7d",
   "metadata": {},
   "source": [
    "#### 9. Discuss the advantages of encapsulation in terms of code maintainability and security."
   ]
  },
  {
   "cell_type": "markdown",
   "id": "ce7cb9c9-f0b5-4dbb-b9c1-faecc76c9136",
   "metadata": {},
   "source": [
    "* **Maintainability** : Encapsulation promotes loose coupling between classes, meaning changes to one class are less likely to have ripple effects on other parts of the codebase. This makes maintenance easier and less error-prone, as developers can focus on isolated components without worrying about unintended side effects on unrelated parts of the system.\n",
    "* **Security** : Encapsulation enhances security by controlling access to object data and behavior. By encapsulating sensitive data within classes and exposing only essential functionality through public methods, encapsulation prevents unauthorized access and manipulation of data. This reduces the risk of data corruption, tampering, or unintended exposure, improving the overall security of the application."
   ]
  },
  {
   "cell_type": "markdown",
   "id": "2f154f4e-c0b1-469b-896c-68d66d9d3b19",
   "metadata": {},
   "source": [
    "#### 10. How can you access private attributes in Python? Provide an example demonstrating the use of name mangling"
   ]
  },
  {
   "cell_type": "markdown",
   "id": "9a2e03fa-a95e-4948-bf75-a5927a0a1a76",
   "metadata": {},
   "source": [
    "In Python, private attributes can be accessed indirectly from outside the class by using a technique called name mangling. Name mangling is a mechanism used by Python to make private attributes and methods slightly more difficult to access from outside the class."
   ]
  },
  {
   "cell_type": "code",
   "execution_count": 46,
   "id": "f88be856-1ac9-419e-8f11-ff0d0d643e8a",
   "metadata": {},
   "outputs": [
    {
     "name": "stdout",
     "output_type": "stream",
     "text": [
      "42\n",
      "42\n"
     ]
    }
   ],
   "source": [
    "class MyClass:\n",
    "    def __init__(self):\n",
    "        self.__private_attribute = 42\n",
    "    def get_private_attribute(self):\n",
    "        return self.__private_attribute\n",
    "\n",
    "obj = MyClass()\n",
    "\n",
    "print(obj._MyClass__private_attribute)\n",
    "\n",
    "print(obj.get_private_attribute())"
   ]
  },
  {
   "cell_type": "markdown",
   "id": "467322aa-7dc9-46f6-ab42-4f363076b236",
   "metadata": {},
   "source": [
    "#### 11.  Create a Python class hierarchy for a school system, including classes for students, teachers, and courses, and implement encapsulation principles to protect sensitive information."
   ]
  },
  {
   "cell_type": "code",
   "execution_count": 47,
   "id": "75e1b46d-20b3-493a-8306-18b01edaf838",
   "metadata": {},
   "outputs": [
    {
     "name": "stdout",
     "output_type": "stream",
     "text": [
      "Teacher: Mr.shinde\n",
      "Students: vishal and pranit\n"
     ]
    }
   ],
   "source": [
    "class Person:\n",
    "    def __init__(self,name,age,gender):\n",
    "        self.__name = name\n",
    "        self.__age = age\n",
    "        self.__gender = gender\n",
    "    def get_name(self):\n",
    "        return self.__name\n",
    "    def get_age(self):\n",
    "        return self.__age\n",
    "    def get_gender(self):\n",
    "        return self.__gender\n",
    "\n",
    "class Student(Person):\n",
    "    def __init__(self,name,age,gender, student_id):\n",
    "        super().__init__(name,age,gender)\n",
    "        self.__student_id = student_id\n",
    "    def get_student_id(self):\n",
    "        return self.__student_id\n",
    "\n",
    "class Teacher(Person):\n",
    "    def __init__(self,name,age,gender,employee_id):\n",
    "        super().__init__(name,age,gender)\n",
    "        self.__employee_id = employee_id\n",
    "    def get_employee_id(self):\n",
    "        return self.__employee_id\n",
    "\n",
    "class Course:\n",
    "    def __init__(self, course_name, course_code, teacher):\n",
    "        self.__course_name = course_name\n",
    "        self.__course_code = course_code\n",
    "        self.__teacher = teacher\n",
    "    def get_course_name(self):\n",
    "        return self.__course_name\n",
    "\n",
    "    def ger_course_code(self):\n",
    "        return self.__course_code\n",
    "    def get_teacher(self):\n",
    "        return self.__teacher\n",
    "\n",
    "teacher1 = Teacher ('Mr.shinde',55,'Male','T12345')\n",
    "\n",
    "student1 = Student('vishal', 23, 'Male', 'S001')\n",
    "student2 = Student('pranit', 23, 'Male', 'S002')\n",
    "\n",
    "course1 = Course('Statistics','st-402',teacher1)\n",
    "\n",
    "print('Teacher:', course1.get_teacher().get_name())\n",
    "print(\"Students:\",student1.get_name(),'and',student2.get_name())\n"
   ]
  },
  {
   "cell_type": "markdown",
   "id": "75b7ae66-8de9-47d4-bf59-84e9a76de113",
   "metadata": {},
   "source": [
    "#### 12. Explain the concept of property decorators in Python and how they relate to encapsulation."
   ]
  },
  {
   "cell_type": "markdown",
   "id": "a4c9e81a-1a21-4f7b-a5f7-4e7ea1696f98",
   "metadata": {},
   "source": [
    "In Python, property decorators are a built-in feature that allows you to define properties on classes. Properties enable you to define custom behavior for getting, setting, and deleting attributes, while still accessing them using the syntax for regular attributes. Property decorators are used to create getter, setter, and deleter methods for a property, providing a more controlled way to access and manipulate class attributes.\n",
    "* Here's how property decorators work and how they relate to encapsulation:\n",
    "* **Getter Method** : The @property decorator is used to define a getter method for a property. When this decorator is applied to a method, it allows you to access the method as if it were an attribute of the class.\n",
    "* **Setter Method** : The @property.setter decorator is used to define a setter method for a property. It allows you to assign a new value to the property, triggering custom behavior defined in the setter method.\n",
    "* **Deleter Method** : The @property.deleter decorator is used to define a deleter method for a property. It allows you to delete the property from the instance of the class, triggering custom behavior defined in the deleter method."
   ]
  },
  {
   "cell_type": "code",
   "execution_count": 48,
   "id": "f142b92e-025f-4920-9885-2346f11d6726",
   "metadata": {},
   "outputs": [
    {
     "name": "stdout",
     "output_type": "stream",
     "text": [
      "5\n",
      "7\n"
     ]
    }
   ],
   "source": [
    "class Circle:\n",
    "    def __init__(self,radius):\n",
    "        self.__radius = radius\n",
    "\n",
    "    @property\n",
    "    def radius(self):\n",
    "        return self.__radius\n",
    "    @radius.setter\n",
    "    def radius(self,new_radius):\n",
    "        if new_radius>0:\n",
    "            self.__radius = new_radius\n",
    "        else:\n",
    "            raise ValueError('Radius must be a positive number')\n",
    "\n",
    "    @radius.deleter\n",
    "    def radius(self):\n",
    "        del self.__radius\n",
    "\n",
    "circle = Circle(5)\n",
    "print(circle.radius)\n",
    "\n",
    "circle.radius = 7\n",
    "print(circle.radius)\n",
    "\n",
    "del circle.radius"
   ]
  },
  {
   "cell_type": "markdown",
   "id": "9d63a35e-8930-4b3b-8939-dbca5858caa3",
   "metadata": {},
   "source": [
    "#### 13. What is data hiding, and why is it important in encapsulation? Provide examples."
   ]
  },
  {
   "cell_type": "code",
   "execution_count": 49,
   "id": "5fd63121-3b86-4252-9892-fc774d8e7ad2",
   "metadata": {},
   "outputs": [
    {
     "name": "stdout",
     "output_type": "stream",
     "text": [
      "Account Number: 123456\n",
      "Balance: 1000\n",
      "New Balance: 1500\n",
      "New Balance: 1300\n"
     ]
    }
   ],
   "source": [
    "class BankAccount:\n",
    "    def __init__(self,account_number,initial_balance=0):\n",
    "        self.__account_number = account_number\n",
    "        self.__balance = initial_balance\n",
    "    def deposit(self,amount):\n",
    "        if amount >0:\n",
    "            self.__balance += amount\n",
    "    def withdraw(self,amount):\n",
    "        if 0<amount<= self.__balance:\n",
    "            self.__balance -= amount\n",
    "\n",
    "    def get_balance(self):\n",
    "        return self.__balance\n",
    "    def get_account_number(self):\n",
    "        return self.__account_number\n",
    "\n",
    "account = BankAccount('123456',1000)\n",
    "\n",
    "print('Account Number:',account.get_account_number())\n",
    "print('Balance:',account.get_balance())\n",
    "\n",
    "account.deposit(500)\n",
    "print('New Balance:', account.get_balance())\n",
    "\n",
    "account.withdraw(200)\n",
    "print('New Balance:',account.get_balance())"
   ]
  },
  {
   "cell_type": "markdown",
   "id": "cbf7b234-5bd3-4a49-8cab-9844988bdb63",
   "metadata": {},
   "source": [
    "#### 14. Create a Python class called `Employee` with private attributes for salary (`__salary`) and employee ID (`__employee_id`). Provide a method to calculate yearly bonuses"
   ]
  },
  {
   "cell_type": "code",
   "execution_count": 50,
   "id": "0acd8bd1-0527-4dee-aa57-d47c6801551b",
   "metadata": {},
   "outputs": [
    {
     "name": "stdout",
     "output_type": "stream",
     "text": [
      "Yearly bonus for employee ID Emp001 is 7500.0\n"
     ]
    }
   ],
   "source": [
    "class Employee:\n",
    "    def __init__(self,employee_id,salary):\n",
    "        self.__employee_id = employee_id\n",
    "        self.__salary = salary\n",
    "    def calculate_yearly_bonus(self,bonus_percantage):\n",
    "        bonus_amount = self.__salary*bonus_percantage\n",
    "        return bonus_amount\n",
    "\n",
    "employee = Employee('Emp001',50000)\n",
    "bonus_percantage = 0.15\n",
    "yearly_bonus = employee.calculate_yearly_bonus(bonus_percantage)\n",
    "\n",
    "print('Yearly bonus for employee ID', employee._Employee__employee_id, 'is', yearly_bonus)"
   ]
  },
  {
   "cell_type": "markdown",
   "id": "397f7eab-6a63-4ca9-9da3-5e5594ecdce7",
   "metadata": {},
   "source": [
    "#### 15. Discuss the use of accessors and mutators in encapsulation. How do they help maintain control over attribute access?"
   ]
  },
  {
   "cell_type": "markdown",
   "id": "9e6ca80c-ea13-43e4-9b5e-7d9907d1b170",
   "metadata": {},
   "source": [
    "Accessors and mutators, commonly known as getters and setters respectively, play a crucial role in encapsulation by providing controlled access to class attributes. Here's how they contribute to maintaining control over attribute access:\n",
    "\n",
    "* **Encapsulation**: Accessors and mutators are essential components of encapsulation, which is one of the fundamental principles of object-oriented programming (OOP). Encapsulation hides the internal state of an object and restricts direct access to its attributes from outside the class. Accessors and mutators act as intermediaries through which attribute values can be retrieved and modified, maintaining encapsulation by controlling how attributes are accessed and modified.\n",
    "* **Data Abstraction**: Accessors abstract the internal representation of an object's state by providing a way to retrieve attribute values without exposing the underlying implementation details. This allows for changes in the internal representation of data without affecting the external interface of the class, promoting modularity and reducing dependency on implementation specifics.\n",
    "* **Controlled Access**: Accessors and mutators enable controlled access to class attributes by enforcing validation, constraints, and logic during attribute retrieval and modification. Getters can include validation checks or perform computations before returning attribute values, ensuring that only valid data is accessed. Setters can enforce constraints or perform side effects when modifying attribute values, maintaining data integrity and consistency.\n",
    "* **Encapsulation Boundaries**: Accessors and mutators define the boundary between the internal state of an object and its external interface. By encapsulating attribute access within methods, classes can maintain control over how attributes are accessed and modified, preventing direct manipulation of internal state from outside the class. This helps in preventing unintended side effects and ensures that object behavior remains consistent and predictable.\n",
    "* **Flexibility and Evolution**: Accessors and mutators provide flexibility for future changes and evolution of class behavior. They allow class authors to modify the internal implementation details, such as data representation or validation logic, without affecting the external code that interacts with the class. This promotes code maintainability and extensibility by minimizing the impact of changes on existing code"
   ]
  },
  {
   "cell_type": "markdown",
   "id": "05714af7-c409-4eb5-ade6-d8181be102fb",
   "metadata": {},
   "source": [
    "#### 16. What are the potential drawbacks or disadvantages of using encapsulation in Python?"
   ]
  },
  {
   "cell_type": "markdown",
   "id": "e53ebd14-3e10-4854-8200-c5cdd53817c3",
   "metadata": {},
   "source": [
    "1. **Overhead**: Implementing encapsulation can introduce additional overhead in terms of code complexity. Developers need to explicitly define access levels for each member variable or method, which can make the code harder to understand and maintain.\n",
    "\n",
    "2. **Flexibility vs. Rigidity**: Encapsulation can sometimes lead to rigid class designs, especially if access levels are overly restrictive. This can make it difficult to extend or modify classes in the future without breaking encapsulation or requiring significant refactoring.\n",
    "\n",
    "3. **Access Control Overhead**: While encapsulation provides control over access to class members, this control comes with a performance overhead. Access checks need to be performed every time a member is accessed, which can impact runtime performance, especially in performance-critical applications.\n",
    "\n",
    "4. **Difficulty in Testing**: Encapsulation can make unit testing more challenging, particularly if certain methods or attributes are inaccessible from outside the class. This can necessitate the use of complex mocking frameworks or other testing techniques to properly test class behavior.\n",
    "\n",
    "5. **Violation of Pythonic Principles**: Python is known for its simplicity and readability, and strict encapsulation can sometimes go against these principles. Python's philosophy of \"we're all consenting adults here\" encourages a more relaxed approach to encapsulation, favoring convention over strict access control."
   ]
  },
  {
   "cell_type": "markdown",
   "id": "20059880-1f39-4f2e-95ff-f8d642a41709",
   "metadata": {},
   "source": [
    "#### 17.  Create a Python class for a library system that encapsulates book information, including titles, authors, and availability status"
   ]
  },
  {
   "cell_type": "code",
   "execution_count": 51,
   "id": "d855d4dd-7f77-4a04-a759-e96e2e0461ef",
   "metadata": {},
   "outputs": [
    {
     "name": "stdout",
     "output_type": "stream",
     "text": [
      "The Great Gatsby\n",
      "Harper Lee\n",
      "The Great Gatsby by F. Scott Fitzgerald has been checked out.\n",
      "Sorry, To kill a Mockingbirs by Harper Lee is already checked out.\n",
      "The Great Gatsby by F. Scott Fitzgerald has been checked in.\n",
      "To kill a Mockingbirs by Harper Lee has been checked in.\n"
     ]
    }
   ],
   "source": [
    "class Book:\n",
    "    def __init__(self, title, author, available=True):\n",
    "        self.title = title\n",
    "        self.author = author\n",
    "        self.available = available\n",
    "    def checkout(self):\n",
    "        if self.available:\n",
    "            self.available = False\n",
    "            print(f\"{self.title} by {self.author} has been checked out.\")\n",
    "        else:\n",
    "            print(f\"Sorry, {self.title} by {self.author} is already checked out.\")\n",
    "\n",
    "\n",
    "    def checkin(self):\n",
    "        if not self.available:\n",
    "            self.available = True\n",
    "            print(f\"{self.title} by {self.author} has been checked in.\")\n",
    "        else:\n",
    "            print(f\"{self.title} by {self.author} is already available.\")\n",
    "\n",
    "book1 = Book('The Great Gatsby','F. Scott Fitzgerald')\n",
    "book2 = Book('To kill a Mockingbirs','Harper Lee', False)\n",
    "\n",
    "print(book1.title)\n",
    "print(book2.author)\n",
    "\n",
    "book1.checkout()\n",
    "book2.checkout()\n",
    "\n",
    "book1.checkin()\n",
    "book2.checkin()"
   ]
  },
  {
   "cell_type": "markdown",
   "id": "0609a23e-8b54-464a-a52c-84b044da2979",
   "metadata": {},
   "source": [
    "#### 18. Explain how encapsulation enhances code reusability and modularity in Python programs."
   ]
  },
  {
   "cell_type": "markdown",
   "id": "fe1b294e-8fab-4dc8-a981-d07aabb56a10",
   "metadata": {},
   "source": [
    "* Encapsulation in Python refers to the bundling of data and methods that operate on the data within a single unit, typically a class. This concept enhances code reusability and modularity in several ways:\n",
    "* **Modularity**: Encapsulating related functionality within a class promotes modularity by grouping together code that performs a specific task or represents a cohesive entity. This modular design makes it easier to manage and maintain code, as changes to one module (i.e., class) are less likely to impact other parts of the program.\n",
    "* **Code Reusability**: By encapsulating functionality within classes, you can reuse those classes in different parts of your program or even in other projects. This reuse is facilitated by the fact that classes provide a clean interface for interacting with their functionality, making them easy to incorporate into new contexts without needing to modify the underlying implementation."
   ]
  },
  {
   "cell_type": "markdown",
   "id": "8ec38788-14f5-4c20-85da-fda950f97782",
   "metadata": {},
   "source": [
    "#### 19. Describe the concept of information hiding in encapsulation. Why is it essential in software development?"
   ]
  },
  {
   "cell_type": "markdown",
   "id": "91d58acd-0ccd-4f7e-a435-a0ab659af52c",
   "metadata": {},
   "source": [
    "Information hiding is a principle closely associated with encapsulation in object-oriented programming. It refers to the practice of hiding the internal details of a class or module and exposing only the necessary interfaces or abstractions to the outside world. This means that the implementation details, such as data representation and algorithms, are kept hidden and are not accessible directly from outside the class or module.\n",
    "The main goal of information hiding is to manage complexity and reduce dependencies by restricting access to the internal state of an object. By hiding implementation details, you create a clear separation between the interface (what the class offers to the outside world) and the implementation (how those features are achieved). This separation allows for easier maintenance, testing, and evolution of the codebase.\n",
    "* Here's why information hiding is essential in software development:\n",
    "* **Modularity**: Information hiding promotes modularity by encapsulating related functionality within a module or class. Modules can be treated as black boxes, where users interact only with the public interface without needing to know the internal details. This simplifies the understanding of the system and facilitates independent development and testing of modules.\n",
    "* **Reduced Complexity**: By hiding implementation details, you reduce the cognitive load on developers who interact with the code. Users of a class or module don't need to understand how it achieves its functionality internally; they only need to know how to use its public interface. This abstraction of complexity makes the codebase more manageable and easier to reason about.\n",
    "* **Enhanced Security**: Information hiding can also improve security by limiting access to sensitive data or critical operations. By controlling access to certain parts of the codebase, you can minimize the risk of unauthorized manipulation or exploitation of vulnerabilities.\n",
    "* **Improved Maintainability**: When implementation details are hidden, changes to the internal structure of a class or module can be made without affecting the code that depends on it. This improves maintainability by reducing the ripple effects of changes and making it easier to evolve the system over time.\n",
    "* **Encapsulation of Invariants**: Information hiding allows you to enforce invariants (conditions that must always be true) by encapsulating data and providing controlled access through methods. This ensures that the integrity of the object's state is maintained and prevents inconsistent or invalid states from being reached."
   ]
  },
  {
   "cell_type": "markdown",
   "id": "5d8e9367-4a3e-4696-94fa-65283e11d238",
   "metadata": {},
   "source": [
    "#### 20. Create a Python class called `Customer` with private attributes for customer details like name, address, and contact information. Implement encapsulation to ensure data integrity and security."
   ]
  },
  {
   "cell_type": "code",
   "execution_count": 52,
   "id": "ef7508b7-c066-46cc-ad6f-d88af8cc16b1",
   "metadata": {},
   "outputs": [
    {
     "name": "stdout",
     "output_type": "stream",
     "text": [
      "vishal\n",
      "Surat,Gujrat\n",
      "vishal@example.com\n"
     ]
    }
   ],
   "source": [
    "class Customer:\n",
    "    def __init__(self,name,address,contact_details):\n",
    "        self.__name = name\n",
    "        self.__address = address\n",
    "        self.__contact_details = contact_details\n",
    "    def get_name(self):\n",
    "        return self.__name\n",
    "    def get_address(self):\n",
    "        return self.__address\n",
    "    def get_contact_details(self):\n",
    "        return self.__contact_details\n",
    "    def set_name(self,name):\n",
    "        self.__name = name\n",
    "    def set_address(self,address):\n",
    "        self.__address = address\n",
    "    def set_contact_details(self,contact_details):\n",
    "        self.__contact_details = contact_details\n",
    "\n",
    "customer1 = Customer('vishal','Surat,Gujrat','vishal@example.com')\n",
    "\n",
    "print(customer1.get_name())\n",
    "print(customer1.get_address())\n",
    "print(customer1.get_contact_details())"
   ]
  },
  {
   "cell_type": "markdown",
   "id": "8885e26e-7b2f-4ba4-a16d-e1e9250f4b49",
   "metadata": {},
   "source": [
    "## Polymorphism"
   ]
  },
  {
   "cell_type": "markdown",
   "id": "374b119c-b93f-4b1e-ac43-9401bd34642c",
   "metadata": {},
   "source": [
    "#### 1. What is polymorphism in Python? Explain how it is related to object-oriented programming."
   ]
  },
  {
   "cell_type": "markdown",
   "id": "5e75c9ff-dd98-4e53-aa8b-c7d79d3816a6",
   "metadata": {},
   "source": [
    "* Polymorphism in Python refers to the ability of different objects to respond to the same method or function call in different ways. It allows objects of different classes to be treated as objects of a common superclass, enabling flexibility and reusability in code.\n",
    "* In the context of object-oriented programming (OOP), polymorphism is closely related to the concepts of inheritance and method overriding. Here's how polymorphism is related to OOP:\n",
    "1. **Inheritance**: Polymorphism often occurs in conjunction with inheritance. When a subclass inherits from a superclass, it inherits its methods and attributes. Polymorphism allows subclasses to override methods inherited from the superclass with their own implementations, providing specialized behavior while still maintaining a common interface.\n",
    "2. **Method Overriding**: In OOP, method overriding is a specific form of polymorphism where a subclass provides a specific implementation of a method that is already defined in its superclass. This allows objects of the subclass to respond differently to method calls compared to objects of the superclass. The decision of which implementation to execute is determined dynamically at runtime based on the type of the object."
   ]
  },
  {
   "cell_type": "markdown",
   "id": "081817c6-9a46-4d0d-a579-99b8fd098e8f",
   "metadata": {},
   "source": [
    "#### 2. Describe the difference between compile-time polymorphism and runtime polymorphism in Python."
   ]
  },
  {
   "cell_type": "markdown",
   "id": "cfe292b8-c5c1-4708-bff0-606aac66e7ae",
   "metadata": {},
   "source": [
    "1. **Compile-time Polymorphism** : In statically typed languages, compile-time polymorphism is typically achieved through method overloading and function overloading. This involves defining multiple functions or methods with the same name but different parameter types or numbers. The correct function or method to be called is determined by the compiler based on the types of arguments provided at compile-time.However, in Python, method overloading in the traditional sense (based on different argument types or numbers) isn't directly supported because Python is dynamically typed. Instead, Python achieves a form of compile-time polymorphism through function overloading by default arguments and variable arguments.\n",
    "2. **Runtime Polymorphism** : Runtime polymorphism, also known as dynamic polymorphism, involves the selection of the appropriate function or method implementation at runtime based on the type of the object. In Python, this is commonly achieved through method overriding, where a subclass provides a specific implementation of a method that is already defined in its superclass.For example:\r\n",
    "python"
   ]
  },
  {
   "cell_type": "markdown",
   "id": "652ed8c2-ad88-4390-ad2a-debf46397ded",
   "metadata": {},
   "source": [
    "#### 3. Create a Python class hierarchy for shapes (e.g., circle, square, triangle) and demonstrate polymorphism through a common method, such as `calculate_area()`."
   ]
  },
  {
   "cell_type": "code",
   "execution_count": 53,
   "id": "333adad7-71ce-4c56-9dc3-cf2bb71078b5",
   "metadata": {},
   "outputs": [
    {
     "name": "stdout",
     "output_type": "stream",
     "text": [
      "Area of Circle: 28.274333882308138\n",
      "Area of Square: 16\n",
      "Area of Triangle: 15.0\n"
     ]
    }
   ],
   "source": [
    "import math\n",
    "\n",
    "class Shape:\n",
    "    def calculate_area(self):\n",
    "        pass\n",
    "\n",
    "class Circle(Shape):\n",
    "    def __init__(self,radius):\n",
    "        self.radius = radius\n",
    "    def calculate_area(self):\n",
    "        return math.pi*self.radius**2\n",
    "\n",
    "class Square(Shape):\n",
    "    def __init__(self,side_length):\n",
    "        self.side_length = side_length\n",
    "    def calculate_area(self):\n",
    "        return self.side_length**2\n",
    "\n",
    "class Triangle(Shape):\n",
    "    def __init__(self,base,height):\n",
    "        self.base = base\n",
    "        self.height = height\n",
    "    def calculate_area(self):\n",
    "        return 0.5*self.base*self.height\n",
    "\n",
    "shapes = [Circle(3),Square(4), Triangle(5,6)]\n",
    "\n",
    "for shape in shapes:\n",
    "    print(f\"Area of {type(shape).__name__}: {shape.calculate_area()}\")"
   ]
  },
  {
   "cell_type": "markdown",
   "id": "87dac347-f64c-4722-a11b-1d403198c492",
   "metadata": {},
   "source": [
    "#### 4. Explain the concept of method overriding in polymorphism. Provide an example."
   ]
  },
  {
   "cell_type": "markdown",
   "id": "1a16eb36-6d63-4a2a-b14c-441d5b77b345",
   "metadata": {},
   "source": [
    "Method overriding is a concept in object-oriented programming where a subclass provides a specific implementation of a method that is already defined in its superclass. This allows the subclass to customize or extend the behavior of the inherited method without modifying the superclass itself. Method overriding is a fundamental aspect of polymorphism, as it enables objects of different subclasses to respond differently to the same method call based on their specific implementations.\n",
    "\n",
    "Here's an example to illustrate method overriding in polymorphism:\r\n"
   ]
  },
  {
   "cell_type": "code",
   "execution_count": 54,
   "id": "93318a02-d422-4e8e-9c6f-e2f5a4272f03",
   "metadata": {},
   "outputs": [
    {
     "name": "stdout",
     "output_type": "stream",
     "text": [
      "Car driving smoothly.\n",
      "Motorcycle weaving through traffic.\n"
     ]
    }
   ],
   "source": [
    "class Vehicle:\n",
    "    def drive(self):\n",
    "        return 'Genric vehicle driving.'\n",
    "\n",
    "class Car(Vehicle):\n",
    "    def drive(self):\n",
    "        return 'Car driving smoothly.'\n",
    "\n",
    "class Motorcycle(Vehicle):\n",
    "    def drive(self):\n",
    "        return 'Motorcycle weaving through traffic.'\n",
    "\n",
    "car = Car()\n",
    "motorcycle = Motorcycle()\n",
    "\n",
    "print(car.drive())\n",
    "print(motorcycle.drive())"
   ]
  },
  {
   "cell_type": "markdown",
   "id": "4329151b-6505-42ee-8d79-08c47916b582",
   "metadata": {},
   "source": [
    "#### 5. How is polymorphism different from method overloading in Python? Provide examples for both."
   ]
  },
  {
   "cell_type": "markdown",
   "id": "e9a67899-a16b-4103-9ade-8b5416e15d79",
   "metadata": {},
   "source": [
    "Polymorphism and method overloading are both techniques used in Python to achieve flexibility and versatility in code, but they are fundamentally different concepts.\n",
    "\n",
    "1. **Polymorphism** :\n",
    "* Polymorphism refers to the ability of objects of different classes to respond to the same method or function call in different ways.\n",
    "* It allows for dynamic method invocation, where the specific implementation of a method is determind at runtime based on the type of the object.\n",
    "* Polymorphism is achieved through method overriding, where a subclass provides a specific implementation of a method that is already defined in its superclass.\n",
    "* In Python, polymorphism is primarily achieved through method overriding rather than method overriding.\n",
    "\n",
    "Example of Polymorphism through method overriding."
   ]
  },
  {
   "cell_type": "code",
   "execution_count": 55,
   "id": "af212bb7-77de-4ce4-a0b3-68a1ea373535",
   "metadata": {},
   "outputs": [
    {
     "name": "stdout",
     "output_type": "stream",
     "text": [
      "Woof!!\n",
      "Weow!!\n"
     ]
    }
   ],
   "source": [
    "class Animal:\n",
    "    def sound(self):\n",
    "        return \"animal sound.\"\n",
    "\n",
    "class Dog(Animal):\n",
    "    def sound(self):\n",
    "        return 'Woof!!'\n",
    "\n",
    "class Cat(Animal):\n",
    "    def sound(self):\n",
    "        return 'Weow!!'\n",
    "\n",
    "dog = Dog()\n",
    "cat= Cat()\n",
    "\n",
    "print(dog.sound())\n",
    "print(cat.sound())"
   ]
  },
  {
   "cell_type": "markdown",
   "id": "32ae8ee4-0f06-4de5-a36b-d133569675cf",
   "metadata": {},
   "source": [
    "2. **Method Oveeloading** :\n",
    "* Method overloading refers to the ability to define multiple methods with the same name but different parameter lists within the same class.\n",
    "* It allows for multiple functions or methods with the same name to perform different tasks based on the number or types of arguments passed to them.\n",
    "* Method overloading is not directly supported in Python.Python uses a single function or method name with default arguments or variable arguments to achieve similar functionality.\n",
    "\n",
    "Example of method overloading using default arguments:"
   ]
  },
  {
   "cell_type": "code",
   "execution_count": 56,
   "id": "11a3c525-f2fe-458e-b057-d1d9d4eca6fe",
   "metadata": {},
   "outputs": [
    {
     "name": "stdout",
     "output_type": "stream",
     "text": [
      "24\n",
      "12\n"
     ]
    }
   ],
   "source": [
    "class MethOperations:\n",
    "    def add(self,a,b=0):\n",
    "        return a+b\n",
    "\n",
    "math_ops = MethOperations()\n",
    "\n",
    "print(math_ops.add(21,3))\n",
    "print(math_ops.add(12))"
   ]
  },
  {
   "cell_type": "markdown",
   "id": "a34eee0d-b4b9-4254-b2e5-2ce9b80f69c7",
   "metadata": {},
   "source": [
    "#### . Create a Python class called `Animal` with a method `speak()`. Then, create child classes like `Dog`, `Cat`, and `Bird`, each with their own `speak()` method. Demonstrate polymorphism by calling the `speak()` method on objects of different subclasses."
   ]
  },
  {
   "cell_type": "code",
   "execution_count": 57,
   "id": "e831439b-0de1-4b4e-a645-6feedf9512cb",
   "metadata": {},
   "outputs": [
    {
     "name": "stdout",
     "output_type": "stream",
     "text": [
      "Woof!\n",
      "Meow!\n",
      "chu..chu..!\n"
     ]
    }
   ],
   "source": [
    "class Animal:\n",
    "    def speak(self):\n",
    "        return 'animals voice.'\n",
    "\n",
    "class Dog(Animal):\n",
    "    def speak(self):\n",
    "        return 'Woof!'\n",
    "\n",
    "class Cat(Animal):\n",
    "    def speak(self):\n",
    "        return 'Meow!'\n",
    "\n",
    "class Bird(Animal):\n",
    "    def speak(self):\n",
    "        return 'chu..chu..!'\n",
    "\n",
    "dog = Dog()\n",
    "cat = Cat()\n",
    "bird = Bird()\n",
    "\n",
    "print(dog.speak())\n",
    "print(cat.speak())\n",
    "print(bird.speak())"
   ]
  },
  {
   "cell_type": "markdown",
   "id": "f45d7c8e-36c8-4a66-95a6-bb6696e03456",
   "metadata": {},
   "source": [
    "#### 7. Discuss the use of abstract methods and classes in achieving polymorphism in Python. Provide an example using the `abc` module."
   ]
  },
  {
   "cell_type": "markdown",
   "id": "165040ba-658b-49c7-87eb-67a7cd627e2a",
   "metadata": {},
   "source": [
    "* Abstract methods and classes in Python provide a way to define interfaces or blueprints for classes. They allow you to specify methods that must be impemented by any class that inherits from the abstract class. This is cricial for achieving polymorphism, which allows objects of different classes to be treated as objects of a common superclass.\n",
    "* In Python, the 'abc' module (Abstract Base Classes) provides support for defining abstract base classes. Here's how you can use 'abc' module to achieve polymorphism:"
   ]
  },
  {
   "cell_type": "code",
   "execution_count": 58,
   "id": "438e5611-a8d9-4e4a-b411-ea5a4c80ea6a",
   "metadata": {},
   "outputs": [
    {
     "name": "stdout",
     "output_type": "stream",
     "text": [
      "Area: 20\n",
      "Perimeter: 18\n",
      "Area: 153.93804002589985\n",
      "Perimeter: 43.982297150257104\n"
     ]
    }
   ],
   "source": [
    "from abc import ABC, abstractmethod\n",
    "import math\n",
    "class Shape(ABC):\n",
    "    @abstractmethod\n",
    "    def area(self):\n",
    "        pass\n",
    "    @abstractmethod\n",
    "    def perimeter(self):\n",
    "        pass\n",
    "# Define concrete subclass that inherit from Shape\n",
    "\n",
    "class Rectangle(Shape):\n",
    "    def __init__(self, width, height):\n",
    "        self.width = width\n",
    "        self.height = height\n",
    "    def area(self):\n",
    "        return self.width*self.height\n",
    "    def perimeter(self):\n",
    "        return 2*(self.width+self.height)\n",
    "\n",
    "class Circle(Shape):\n",
    "    def __init__(self,radius):\n",
    "        self.radius = radius\n",
    "    def area(self):\n",
    "        return math.pi*self.radius**2\n",
    "    def perimeter(self):\n",
    "        return 2*math.pi*self.radius\n",
    "\n",
    "rectangle = Rectangle(5,4)\n",
    "circle = Circle(7)\n",
    "\n",
    "shapes = [rectangle, circle]\n",
    "for shape in shapes:\n",
    "    print(\"Area:\", shape.area())\n",
    "    print(\"Perimeter:\", shape.perimeter())"
   ]
  },
  {
   "cell_type": "markdown",
   "id": "ce0cbb11-0e6d-4609-9ef9-3dea4150852f",
   "metadata": {},
   "source": [
    "#### 8. Create a Python class hierarchy for a vehicle system (e.g., car, bicycle, boat) and implement a polymorphic `start()` method that prints a message specific to each vehicle type."
   ]
  },
  {
   "cell_type": "code",
   "execution_count": 59,
   "id": "cf9948af-ea06-4135-9364-2a8a3e996427",
   "metadata": {},
   "outputs": [
    {
     "name": "stdout",
     "output_type": "stream",
     "text": [
      "Car started. Vroom Vroom!\n",
      "Bicycle started. Pedal Pedal!\n",
      "Boat started. Engine rumbling!\n"
     ]
    }
   ],
   "source": [
    "class Vehicle:\n",
    "    def start(self):\n",
    "        pass          #Abstract Method\n",
    "\n",
    "class Car(Vehicle):\n",
    "    def start(self):\n",
    "        return 'Car started. Vroom Vroom!'\n",
    "\n",
    "class Bicycle(Vehicle):\n",
    "    def start(self):\n",
    "        return 'Bicycle started. Pedal Pedal!'\n",
    "class Boat(Vehicle):\n",
    "    def start(self):\n",
    "        return 'Boat started. Engine rumbling!'\n",
    "\n",
    "vehicles = [Car(), Bicycle(), Boat()]\n",
    "\n",
    "for vehicle in vehicles:\n",
    "    print(vehicle.start())"
   ]
  },
  {
   "cell_type": "markdown",
   "id": "b0f96eb2-0587-441a-a8ee-a1b0b6bface7",
   "metadata": {},
   "source": [
    "#### 9. Explain the significance of the `isinstance()` and `issubclass()` functions in Python polymorphism."
   ]
  },
  {
   "cell_type": "markdown",
   "id": "1397f8ca-b95c-4408-bcec-54539c321b1f",
   "metadata": {},
   "source": [
    "'isinstance()' and 'issubclass()' are two important functions in Python that play significant roles in implementing and working with polymorphism.\n",
    "\n",
    "1. 'isinstance()' function:\n",
    "* 'isinstance()' is used to check if an object is an instance of a particular class or any of its subclass.\n",
    "* It takes two parameters: an object and a class or a tuple of classes.\n",
    "* It returns 'True' if the object is an instance of the specified class or any subclass, and 'False' otherwise.\n",
    "* It's commonly used to determine the type of an object before performing operations on it, especially in senarios where multiple subclasses of a base class are involved.\n",
    "  \n",
    "2. 'issubclass()' function:\n",
    "* 'issubclass()' is used to check if a class is a subclass of another class.\n",
    "* It takes two parameters : the potential subclass and the potential superclass.\n",
    "* Returns 'True' if the first class is indeed a subclass of the second, otherwise returns 'False'.\n",
    "* It's often used to ensure that a certain class hierarchy is maintained, especially in frameworks or libraries where specific inheritance structures are expected."
   ]
  },
  {
   "cell_type": "markdown",
   "id": "c59843b7-f4b9-4553-8907-225f7ec3207a",
   "metadata": {},
   "source": [
    "#### 10. What is the role of the `@abstractmethod` decorator in achieving polymorphism in Python? Provide an example."
   ]
  },
  {
   "cell_type": "markdown",
   "id": "303bff8f-f7d1-4c43-9fdd-12e99cdd92c9",
   "metadata": {},
   "source": [
    "The '@abstractmethod' decorator is used in Python to define abstract methods in abstract base classes (ABCs). Abstract methods are methods that are declared in the base class but must be implemented in the derived classes. This helps enforce a contract that ensures all subclasses provide an implementation for certain methods, promoting polymorphism.\n",
    "\n",
    "Example: "
   ]
  },
  {
   "cell_type": "code",
   "execution_count": 62,
   "id": "dee2d24c-b417-4183-93a5-b4589d172bdd",
   "metadata": {},
   "outputs": [
    {
     "name": "stdout",
     "output_type": "stream",
     "text": [
      "jack's salary: 600\n",
      "john's salary: 4000\n",
      "charlie's salary: 1000.0\n"
     ]
    }
   ],
   "source": [
    "from abc import ABC, abstractmethod\n",
    "class Employee(ABC):\n",
    "    def __init__(self, name, hours_worked):\n",
    "        self.name = name\n",
    "        self.hours_worked = hours_worked\n",
    "    @abstractmethod\n",
    "    def calculate_salary(self):\n",
    "        pass\n",
    "\n",
    "class HourlyEmployee(Employee):\n",
    "    def calculate_salary(self):\n",
    "        hourly_rate = 15\n",
    "        return self.hours_worked*hourly_rate\n",
    "\n",
    "class SalariedEmployee(Employee):\n",
    "    def calculate_salary(self):\n",
    "        monthly_salary = 4000\n",
    "        return monthly_salary\n",
    "\n",
    "class CommissionEmployee(Employee):\n",
    "    def __init__(self, name, hours_worked, sales):\n",
    "        super().__init__(name, hours_worked)\n",
    "        self.sales = sales\n",
    "    def calculate_salary(self):\n",
    "        commission_rate = 0.1\n",
    "        return self.sales*commission_rate\n",
    "hourly_employee = HourlyEmployee('jack',40)\n",
    "salaried_employee = SalariedEmployee('john',0)\n",
    "commision_employee = CommissionEmployee('charlie',0,10000)\n",
    "\n",
    "print(hourly_employee.name + \"'s salary:\", hourly_employee.calculate_salary())\n",
    "print(salaried_employee.name + \"'s salary:\", salaried_employee.calculate_salary())\n",
    "print(commision_employee.name + \"'s salary:\", commision_employee.calculate_salary())"
   ]
  },
  {
   "cell_type": "markdown",
   "id": "18217a81-7d41-45e1-ba7e-2056ec43fa50",
   "metadata": {},
   "source": [
    "#### 11. Create a Python class called `Shape` with a polymorphic method `area()` that calculates the area of different shapes (e.g., circle, rectangle, triangle)."
   ]
  },
  {
   "cell_type": "code",
   "execution_count": 64,
   "id": "a5fbef04-5d52-4b7e-a21e-05fb7785df5e",
   "metadata": {},
   "outputs": [
    {
     "name": "stdout",
     "output_type": "stream",
     "text": [
      "Area of the circle: 78.53981633974483\n",
      "Area of the rectangle: 24\n",
      "Area of the triangle: 10.5\n"
     ]
    }
   ],
   "source": [
    "import math\n",
    "\n",
    "class Shape:\n",
    "    def area(self):\n",
    "        pass\n",
    "\n",
    "class Circle(Shape):\n",
    "    def __init__(self, radius):\n",
    "        self.radius = radius\n",
    "\n",
    "    def area(self):\n",
    "        return math.pi * self.radius**2\n",
    "\n",
    "class Rectangle(Shape):\n",
    "    def __init__(self, length, width):\n",
    "        self.length = length\n",
    "        self.width = width\n",
    "\n",
    "    def area(self):\n",
    "        return self.length * self.width\n",
    "\n",
    "class Triangle(Shape):\n",
    "    def __init__(self, base, height):\n",
    "        self.base = base\n",
    "        self.height = height\n",
    "        \n",
    "    def area(self):\n",
    "        return 0.5 * self.base * self.height\n",
    "circle = Circle(5)\n",
    "print(\"Area of the circle:\", circle.area())\n",
    "rectangle = Rectangle(4, 6)\n",
    "print(\"Area of the rectangle:\", rectangle.area())\n",
    "triangle = Triangle(3, 7)\n",
    "print(\"Area of the triangle:\", triangle.area())"
   ]
  },
  {
   "cell_type": "markdown",
   "id": "8315dfa0-7141-4893-b3ac-340aa410c4b7",
   "metadata": {},
   "source": [
    "#### 12. Discuss the benefits of polymorphism in terms of code reusability and flexibility in Python programs."
   ]
  },
  {
   "cell_type": "markdown",
   "id": "e1e47c7f-efa4-4438-86e1-e55fd487db5f",
   "metadata": {},
   "source": [
    "Polymorphism in Python allows objects of different types to be treated as objects of a common superclass. This concept brings several benefits in terms of code reusability and flexibility:\n",
    "\n",
    "1. **Code Reusability**: Polymorphism enables developers to write reusable code that can operate on objects of various classes. By designing classes to adhere to common interfaces or inherit from common base classes, you can create functions or methods that can work with any object implementing those interfaces or inheriting from those base classes. This eliminates the need to rewrite code for each specific class, promoting code reuse and reducing redundancy.\n",
    "\n",
    "2. **Flexibility**: Polymorphism enhances the flexibility of your code by allowing you to work with a wide range of object types through a common interface. This means that you can write functions or methods that can accept arguments of multiple types, making your code more adaptable to different scenarios. For example, a function designed to operate on shapes can work with various shapes such as circles, rectangles, or triangles without modification, as long as these shapes implement a common interface (e.g., providing methods like area() or perimeter())."
   ]
  },
  {
   "cell_type": "markdown",
   "id": "14abd363-ec97-4076-92be-a51f104ca785",
   "metadata": {},
   "source": [
    "#### 13. Explain the use of the `super()` function in Python polymorphism. How does it help call methods of parent classes?"
   ]
  },
  {
   "cell_type": "markdown",
   "id": "74399e8f-ee6f-4b30-b703-5ac4e71e8309",
   "metadata": {},
   "source": [
    "In Python, the super() function plays a crucial role in achieving polymorphism, particularly in method overriding scenarios where a subclass wants to extend or modify the behavior of a method defined in its superclass.\n",
    "\n",
    "Here's how super() works and how it facilitates calling methods of parent classes:\r\n",
    "* **Accessing Parent Class Methods**: When a method is overridden in a subclass, you might still want to invoke the method defined in the parent class. This is where super() comes into play. It allows you to access methods and attributes from the parent class within the subclass.\n",
    "\n",
    "* **Usage Syntax**: The general syntax for using super() is super().method(), where method() is the method you want to call from the parent class. Typically, you would use super() within the subclass method that overrides the parent method.\n",
    "\n",
    "* **Passing Arguments**: You can also pass arguments to the parent class method through super(). This allows you to customize the behavior of the parent class method based on the requirements of the subclass.\n",
    "\n",
    "* **Cooperative Multiple Inheritance**: In Python, when dealing with multiple inheritance (a subclass inheriting from multiple parent classes), super() helps maintain a cooperative approach to method resolution. It ensures that each superclass's method is called exactly once and in the correct order, preventing issues like method duplication or ambiguous method resolution.\r\n"
   ]
  },
  {
   "cell_type": "markdown",
   "id": "89472d17-f97e-4f32-b903-edbc298a9cb9",
   "metadata": {},
   "source": [
    "#### 14. Create a Python class hierarchy for a banking system with various account types (e.g., savings, checking, credit card) and demonstrate polymorphism by implementing a common `withdraw()` method."
   ]
  },
  {
   "cell_type": "code",
   "execution_count": 2,
   "id": "67d8751a-2b16-4399-9a9a-b5d7f2df2726",
   "metadata": {},
   "outputs": [
    {
     "name": "stdout",
     "output_type": "stream",
     "text": [
      "Withdrawal of 102$ successful from account SA123\n",
      "Withdrawal of 600$ successful from account CA456\n",
      "Withdrawal of 300$ successful from account CC789\n"
     ]
    }
   ],
   "source": [
    "class Account:\n",
    "    def __init__(self,account_number,balance=0):\n",
    "        self.account_number =account_number\n",
    "        self.balance = balance\n",
    "    def withdraw(self, amount):\n",
    "        if amount <= self.balance:\n",
    "            self.balance -= amount\n",
    "            print(f\"Withdrawal of {amount}$ successful from account {self.account_number}\")\n",
    "        else:\n",
    "            print(\"Insufficient funds\")\n",
    "\n",
    "class SavingsAccount(Account):\n",
    "    def __init__(self, account_number,balance=0, interest_rate=0.05):\n",
    "        super().__init__(account_number, balance)\n",
    "        self.interest_rate = interest_rate\n",
    "    def withdraw(self, amount):\n",
    "        withdrawal_fee = 2\n",
    "        total_withdrawal = amount + withdrawal_fee\n",
    "        super().withdraw(total_withdrawal)\n",
    "\n",
    "class CheckingAccount(Account):\n",
    "    def __init__(self, account_number, balance=0, overdraft_limit = 100):\n",
    "        super().__init__(account_number, balance)\n",
    "        self.overdraft_limit = overdraft_limit\n",
    "    def withdraw(self, amount):\n",
    "        if amount <= self.balance + self.overdraft_limit:\n",
    "            self.balance -= amount\n",
    "            print(f\"Withdrawal of {amount}$ successful from account {self.account_number}\")\n",
    "        else:\n",
    "            print(\"Extended overdraft limit\")\n",
    "\n",
    "class CreditCardAccount(Account):\n",
    "    def __init__(self, account_number, balance=0, credit_limit=1000):\n",
    "        super().__init__(account_number, balance)\n",
    "        self.credit_limit = credit_limit\n",
    "    def withdraw(self, amount):\n",
    "        if amount <= self.balance + self.credit_limit:\n",
    "            self.balance -= amount\n",
    "            print(f\"Withdrawal of {amount}$ successful from account {self.account_number}\")\n",
    "        else:\n",
    "            print(\"Exceeded credit limit\")\n",
    "\n",
    "savings_account = SavingsAccount('SA123',1000)\n",
    "checking_account = CheckingAccount('CA456', 500)\n",
    "credit_card_account = CreditCardAccount('CC789',200)\n",
    "\n",
    "savings_account.withdraw(100)\n",
    "checking_account.withdraw(600)\n",
    "credit_card_account.withdraw(300)"
   ]
  },
  {
   "cell_type": "markdown",
   "id": "39544413-15a5-4272-a8de-4add92b0fdb8",
   "metadata": {},
   "source": [
    "#### 15. Describe the concept of operator overloading in Python and how it relates to polymorphism. Provide examples using operators like `+` and `*`."
   ]
  },
  {
   "cell_type": "markdown",
   "id": "4a53be00-a0df-4c20-b1d4-49f8db14e82e",
   "metadata": {},
   "source": [
    "Operator overloading in Python refers to the ability to define custom behavior for operators such as +, -, *, /, ==, !=, <, >, etc., for user-defined classes. This allows objects of these classes to interact with the standard operators in a way that makes sense for the class's context.\n",
    "\n",
    "Operator overloading is closely related to polymorphism because it enables different objects to respond to the same operator in different ways, depending on their types. This is similar to polymorphism, where different objects can respond to the same method call in different ways based on their types.\n",
    "\n",
    "**Polymorphism with Operators**:\n",
    "When you use operators with objects of different classes, Python resolves which implementation of the operator to use based on the types of the objects involved. This is similar to how polymorphism works with method calls."
   ]
  },
  {
   "cell_type": "code",
   "execution_count": 12,
   "id": "65849b04-0fae-48a0-8305-fcf00def5c9c",
   "metadata": {},
   "outputs": [
    {
     "name": "stdout",
     "output_type": "stream",
     "text": [
      "4 8\n",
      "4 6\n",
      "False\n"
     ]
    }
   ],
   "source": [
    "class Vector:\n",
    "    def __init__(self, x, y):\n",
    "        self.x = x\n",
    "        self.y = y\n",
    "    def __add__(self, other):\n",
    "        return Vector(self.x + other.x , self.y + other.y)\n",
    "    def __mul__(self, scaler):\n",
    "        return Vector(self.x * scaler, self.y*scaler)\n",
    "    def __eq__(self,other):\n",
    "        return self.x == other.x and self.y == other.y\n",
    "\n",
    "v1 = Vector(2,3)\n",
    "v2 = Vector(4,5)\n",
    "\n",
    "v3 = v1+v2\n",
    "print(v2.x,v3.y)\n",
    "\n",
    "v4 = v1*2\n",
    "print(v4.x,v4.y)\n",
    "\n",
    "print(v1==v2)"
   ]
  },
  {
   "cell_type": "markdown",
   "id": "8c9aef6a-2dae-490b-8776-81040bdd2f07",
   "metadata": {},
   "source": [
    "#### 16. What is dynamic polymorphism, and how is it achieved in Python?"
   ]
  },
  {
   "cell_type": "markdown",
   "id": "4f436ce2-5439-40b3-874f-75b092daf459",
   "metadata": {},
   "source": [
    "Dynamic polymorphism is a fundamental concept in object-oriented programming (OOP) where a single function or method can behave differently based on the object it is operating on. This allows for flexibility and modularity in code design, as different objects can respond to the same message (method call) in different ways.\n",
    "\n",
    "In Python, dynamic polymorphism is achieved through method overriding, a feature of inheritance. Method overriding occurs when a subclass provides a specific implementation of a method that is already defined in its superclass. When you call a method on an object, Python looks for that method starting from the object's class and moves up the inheritance chain until it finds the method implementation. If the method is overridden in a subclass, Python executes the overridden method of the subclass rather than the one in the superclass."
   ]
  },
  {
   "cell_type": "markdown",
   "id": "35dfd29c-ec5f-4260-92dd-fb971784ef9e",
   "metadata": {},
   "source": [
    "#### 17. Create a Python class hierarchy for employees in a company (e.g., manager, developer, designer) and implement polymorphism through a common `calculate_salary()` method."
   ]
  },
  {
   "cell_type": "code",
   "execution_count": 2,
   "id": "4b72d619-b4cf-45d9-bde4-29409d5d9e22",
   "metadata": {},
   "outputs": [
    {
     "name": "stdout",
     "output_type": "stream",
     "text": [
      "T'chala's salary:Rs.60000\n",
      "Will smith's salary:Rs.60800\n",
      "Ethen hunt's salary:Rs.71000\n"
     ]
    }
   ],
   "source": [
    "class Employee:\n",
    "    def __init__(self,name,salary):\n",
    "        self.name =name\n",
    "        self.salary =salary\n",
    "    def calculate_salary(self):\n",
    "        return self.salary\n",
    "\n",
    "class Manager(Employee):\n",
    "    def __init__(self,name,salary,bonus):\n",
    "        super().__init__(name,salary)\n",
    "        self.bonus = bonus\n",
    "    def calculate_salary(self):\n",
    "        return self.salary + self.bonus\n",
    "\n",
    "class Developer(Employee):\n",
    "    def __init__(self,name,salary,code_quality):\n",
    "        super().__init__(name,salary)\n",
    "        self.code_quality =code_quality\n",
    "    def calculate_salary(self):\n",
    "        return self.salary+(self.code_quality*100)\n",
    "\n",
    "class Designer(Employee):\n",
    "    def __init__(self,name,salary,projects_completed):\n",
    "        super().__init__(name,salary)\n",
    "        self.projects_completed = projects_completed\n",
    "    def calculate_salary(self):\n",
    "        return self.salary + (self.projects_completed*200)\n",
    "\n",
    "manager = Manager(\"T'chala\" , 50000,10000)\n",
    "developer = Developer('Will smith',60000,8)\n",
    "designer = Designer('Ethen hunt',70000,5)\n",
    "\n",
    "print(f\"{manager.name}'s salary:Rs.{manager.calculate_salary()}\")\n",
    "print(f\"{developer.name}'s salary:Rs.{developer.calculate_salary()}\")\n",
    "print(f\"{designer.name}'s salary:Rs.{designer.calculate_salary()}\")"
   ]
  },
  {
   "cell_type": "markdown",
   "id": "4f42b145-bf8c-4799-9ede-feec973c9687",
   "metadata": {},
   "source": [
    "#### 18. Discuss the concept of function pointers and how they can be used to achieve polymorphism in Python."
   ]
  },
  {
   "cell_type": "markdown",
   "id": "6ca3bfe9-6387-4d20-8c29-ed5913a43b5b",
   "metadata": {},
   "source": [
    "A function pointer is essentially a variable that stores the memory address of a function. This allows you to pass functions as arguments to other functions, store them in data structures, and dynamically select which function to call at runtime.\n",
    "\n",
    "Here's how you can achieve polymorphism using function pointers in Python:\r\n",
    "1. **First-class functions**: In Python, functions are first-class citizens, which means they can be passed around as arguments, returned from other functions, and assigned to variables. This allows you to emulate the behavior of function pointers.\n",
    "\n",
    "2. **Higher-order functions**: Higher-order functions are functions that take other functions as arguments or return functions as results. By using higher-order functions, you can create functions that accept different functions as parameters, achieving polymorphic behavior.\n",
    "\n",
    "3. **Lambda functions**: Lambda functions are anonymous functions that can be used inline. They are often used in conjunction with higher-order functions to provide concise function definitions.\r\n"
   ]
  },
  {
   "cell_type": "markdown",
   "id": "ee62c7a6-98be-4a89-9b54-18a3d9e8f3aa",
   "metadata": {},
   "source": [
    "#### 19. Explain the role of interfaces and abstract classes in polymorphism, drawing comparisons between them."
   ]
  },
  {
   "cell_type": "markdown",
   "id": "3133ce1c-a506-4d1e-8c4d-35b8da676af6",
   "metadata": {},
   "source": [
    "**Comparisons**:\n",
    "* **Instantiation**: Abstract classes cannot be instantiated directly, while interfaces cannot be instantiated at all. Both require concrete subclasses to provide implementations.\n",
    "* **Method Implementation**: Abstract classes can have both abstract and concrete methods, while interfaces only declare method signatures without any implementations.\n",
    "* **Multiple Inheritance**: Interfaces allow multiple inheritance, while abstract classes support single inheritance.\n",
    "* **Purpose**: Abstract classes are used to define common behavior and provide a partial implementation, while interfaces are used to define contracts for classes to follow without specifying any implementation details.\n",
    "\n",
    "**Abstract Classes**:\n",
    "* **Definition**: An abstract class is a class that cannot be instantiated on its own and may contain one or more abstract methods, which are methods declared without an implementation.\n",
    "* **Purpose**: Abstract classes provide a way to define common behavior and enforce method signatures for subclasses. They serve as a blueprint for other classes to inherit from and provide flexibility in design.\n",
    "* **Implementation**: Abstract classes are declared using the abstract keyword. Subclasses must provide concrete implementations for all abstract methods, or they themselves must be declared abstract.\n",
    "* **Single Inheritance**: In languages like Java and C#, a class can inherit from only one abstract class, unlike interfaces where multiple inheritance is allowed.\n",
    "\n",
    "**Comparisons**:\n",
    "* **Instantiation**: Abstract classes cannot be instantiated directly, while interfaces cannot be instantiated at all. Both require concrete subclasses to provide implementations.\n",
    "* **Method Implementation**: Abstract classes can have both abstract and concrete methods, while interfaces only declare method signatures without any implementations.\n",
    "* **Multiple Inheritance**: Interfaces allow multiple inheritance, while abstract classes support single inheritance.\n",
    "* **Purpose**: Abstract classes are used to define common behavior and provide a partial implementation, while interfaces are used to define contracts for classes to follow without specifying any implementation details."
   ]
  },
  {
   "cell_type": "markdown",
   "id": "87a9c958-89f5-4d1d-9e59-0479ce604c1a",
   "metadata": {},
   "source": [
    "#### 20. Create a Python class for a zoo simulation, demonstrating polymorphism with different animal types (e.g., mammals, birds, reptiles) and their behavior (e.g., eating, sleeping, making sounds)."
   ]
  },
  {
   "cell_type": "code",
   "execution_count": 1,
   "id": "a89ebbcc-d459-4a5d-903c-f016a555a953",
   "metadata": {},
   "outputs": [
    {
     "name": "stdout",
     "output_type": "stream",
     "text": [
      "Lion\n",
      "Mammal walks on four legs\n",
      "\n",
      "Eagle\n",
      "Bird files with wings\n",
      "\n",
      "Snake\n",
      "Reptile slithers on the ground\n",
      "\n"
     ]
    }
   ],
   "source": [
    "class Animal:\n",
    "    def __init__(self,name):\n",
    "        self.name = name\n",
    "    def move(self):\n",
    "        pass\n",
    "\n",
    "class Mammal(Animal):\n",
    "    def move(self):\n",
    "        return 'Mammal walks on four legs'\n",
    "\n",
    "class Bird(Animal):\n",
    "    def move(self):\n",
    "        return 'Bird files with wings'\n",
    "\n",
    "class Reptile(Animal):\n",
    "    def move(self):\n",
    "        return 'Reptile slithers on the ground'\n",
    "\n",
    "lion = Mammal('Lion')\n",
    "eagle = Bird('Eagle')\n",
    "snake = Reptile('Snake')\n",
    "\n",
    "animals = [lion,eagle,snake]\n",
    "\n",
    "for animal in animals:\n",
    "    print(animal.name)\n",
    "    print(animal.move())\n",
    "    print()"
   ]
  },
  {
   "cell_type": "markdown",
   "id": "dbb63045-1bf9-48d9-9e84-c7c3b8403029",
   "metadata": {},
   "source": [
    "## Abstraction:"
   ]
  },
  {
   "cell_type": "markdown",
   "id": "c14095d1-7bf7-403f-bc31-c129f3f60cd0",
   "metadata": {},
   "source": [
    "#### 1. What is abstraction in Python, and how does it relate to object-oriented programming?"
   ]
  },
  {
   "cell_type": "markdown",
   "id": "242890e3-7ed1-419f-a2bf-bd3e6c95542a",
   "metadata": {},
   "source": [
    "* Abstraction in Python, as well as in other programming languages, refers to the concept of hiding the complex implementation details of a system and only showing the necessary features or functionalities to the user. It allows developers to focus on what an object does rather than how it does it.\n",
    "\n",
    "* In object-oriented programming (OOP), abstraction is closely related to the concept of classes and objects. A class serves as a blueprint for creating objects, defining their attributes (data) and methods (functions). Abstraction in OOP involves defining abstract classes or interfaces that provide a clear and simplified view of the functionalities provided by objects, while hiding the implementation details.\r\n"
   ]
  },
  {
   "cell_type": "markdown",
   "id": "3692745d-0c0b-4fc6-87c5-ea3eff0655b3",
   "metadata": {},
   "source": [
    "#### 2. Describe the benefits of abstraction in terms of code organization and complexity reduction."
   ]
  },
  {
   "cell_type": "markdown",
   "id": "25e8b5f0-9869-48fc-a866-99e554dda334",
   "metadata": {},
   "source": [
    "* Abstraction offers several benefits in terms of code organization and complexity reduction:\n",
    "\n",
    "1. **Modularity**: Abstraction allows code to be broken down into smaller, more manageable modules. By encapsulating functionality within classes and objects, developers can focus on implementing and understanding specific components without being overwhelmed by the entire system. This promotes modularity, making it easier to maintain and update code over time.\n",
    "\n",
    "2. **Encapsulation**: Encapsulation, a key aspect of abstraction, helps in organizing code by hiding the internal implementation details of objects. By exposing only relevant interfaces (methods) and hiding the internal state, encapsulation prevents unintended manipulation of object state and promotes a clear separation of concerns. This simplifies code understanding and reduces complexity."
   ]
  },
  {
   "cell_type": "markdown",
   "id": "a3036234-715d-4324-a2eb-3de661ef9a9f",
   "metadata": {},
   "source": [
    "#### 3. Create a Python class called `Shape` with an abstract method `calculate_area()`. Then, create child classes (e.g., `Circle`, `Rectangle`) that implement the `calculate_area()` method. Provide an example of using these classes."
   ]
  },
  {
   "cell_type": "code",
   "execution_count": 4,
   "id": "3330c001-19db-4cd0-a728-bee6908b2c7d",
   "metadata": {},
   "outputs": [
    {
     "name": "stdout",
     "output_type": "stream",
     "text": [
      "Area of the circle: 78.53981633974483\n",
      "Area of the rectangle: 24\n"
     ]
    }
   ],
   "source": [
    "from abc import ABC, abstractmethod\n",
    "import math\n",
    "\n",
    "class Shape(ABC):\n",
    "    @abstractmethod\n",
    "    def calculate_area(self):\n",
    "        pass\n",
    "\n",
    "class Circle(Shape):\n",
    "    def __init__(self, radius):\n",
    "        self.radius = radius\n",
    "    def calculate_area(self):\n",
    "        return math.pi*self.radius**2\n",
    "\n",
    "class Rectangle(Shape):\n",
    "    def __init__(self, width, height):\n",
    "        self.width = width\n",
    "        self.height = height\n",
    "    def calculate_area(self):\n",
    "        return self.width*self.height\n",
    "\n",
    "circle = Circle(5)\n",
    "rectangle = Rectangle(4,6)\n",
    "\n",
    "print(\"Area of the circle:\", circle.calculate_area())\n",
    "print(\"Area of the rectangle:\", rectangle.calculate_area())"
   ]
  },
  {
   "cell_type": "markdown",
   "id": "f0505df3-d344-4666-abed-25961803ad03",
   "metadata": {},
   "source": [
    "#### 4. Explain the concept of abstract classes in Python and how they are defined using the `abc` module. Provide an example."
   ]
  },
  {
   "cell_type": "markdown",
   "id": "bf590b85-5014-417e-8782-8fbb0c9c1e00",
   "metadata": {},
   "source": [
    "Abstract classes in Python are classes that cannot be instantiated directly and are designed to serve as templates for other classes. They often contain one or more abstract methods, which are methods declared but not implemented in the abstract class. Subclasses of abstract classes must provide concrete implementations for all abstract methods defined in the abstract class. Abstract classes are useful for defining common interfaces or behaviors that multiple subclasses are expected to implement, ensuring consistency across related classes.\n",
    "\n",
    "In Python, abstract classes can be defined using the 'abc' module, which stands for Abstract Base Classes. This module provides the 'ABC' class as a base class for defining abstract classes, and the 'abstractmethod' decorator to declare abstract methods within those classes. By subclassing 'ABC' and using 'abstractmethod' decorator, you can create abstract classes and enforce the implementation of specific methods in subclasses.\n",
    "\n",
    "Here is example:"
   ]
  },
  {
   "cell_type": "code",
   "execution_count": 11,
   "id": "b147ea54-c489-4d62-bd60-91339c05e90e",
   "metadata": {},
   "outputs": [
    {
     "name": "stdout",
     "output_type": "stream",
     "text": [
      "James's salary is 5000 per month.\n",
      "Jack's salary is 20 per hour.\n"
     ]
    }
   ],
   "source": [
    "from abc import ABC, abstractmethod\n",
    "\n",
    "class Employee(ABC):\n",
    "    def __init__(self, name, salary):\n",
    "        self.name = name\n",
    "        self.salary = salary\n",
    "    @abstractmethod\n",
    "    def calculate_salary(self):\n",
    "        pass\n",
    "\n",
    "class FullTimeEmployee(Employee):\n",
    "    def calculate_salary(self):\n",
    "        return f\"{self.name}'s salary is {self.salary} per month.\"\n",
    "\n",
    "class PartTimeEmployee(Employee):\n",
    "    def calculate_salary(self):\n",
    "        return f\"{self.name}'s salary is {self.salary} per hour.\"\n",
    "\n",
    "full_time_employee = FullTimeEmployee('James', 5000)\n",
    "part_time_employee = PartTimeEmployee('Jack', 20)\n",
    "\n",
    "print(full_time_employee.calculate_salary())\n",
    "print(part_time_employee.calculate_salary())"
   ]
  },
  {
   "cell_type": "markdown",
   "id": "f525a8ca-d1e1-4c24-a505-69ecb68fe743",
   "metadata": {},
   "source": [
    "#### 5. How do abstract classes differ from regular classes in Python? Discuss their use cases."
   ]
  },
  {
   "cell_type": "markdown",
   "id": "1e1449ea-2376-4159-978f-847b2734cf1e",
   "metadata": {},
   "source": [
    "In Python, abstract classes and regular classes serve different purposes and have distinct characteristics.\n",
    "\n",
    "**Abstract Classes**:\n",
    "\n",
    "\n",
    "**Definition**: Abstract classes are classes that cannot be instantiated on their own. They are meant to be subclassed and provide a blueprint for other classes.\n",
    "\n",
    "**Usage of Abstract Methods**: Abstract classes often contain abstract methods, which are methods without implementations. Subclasses must provide concrete implementations for these methods.\n",
    "\n",
    "**'abc' Module**: In Python, abstract classes are typically created using the 'abc' module (Abstract Base Classes). This module provides the 'ABC' class as a base for defining abstract classes and the 'abstractmethod' decorator for marking methods as abstract.\n",
    "\n",
    "**Example Use Cases**:\r",
    "* **Shape**: An abstract class 'Shape' can have abstract methods like 'area()' and 'perimeter()'. Subclasses like 'Circle' and 'Rectangle' would then implement these methods.\n",
    "\n",
    "**Regular Classes**:\n",
    "\n",
    "**Definition**: Regular classes can be instantiated directly. They may or may not have methods with implementations.\n",
    "\n",
    "**Usage**: Regular classes are used to create objects that can be instantiated and used directly.\n",
    "\n",
    "**Purpose**: Regular classes are used when you want to create objects with specific attributes and behaviors without necessarily enforcing a common interface on subclasses.\n",
    "\n",
    "**Example Use Cases**:\n",
    "\r",
    "* **Person**: A class 'Person' with attributes like 'name', 'age', and methods like 'say_hello()' can be a regular class since instances of 'Person' can be created directly.\n",
    "\n",
    "\n",
    "\n",
    "\n",
    "\n"
   ]
  },
  {
   "cell_type": "markdown",
   "id": "49563d92-02eb-43d4-abc1-5c54b772d79c",
   "metadata": {},
   "source": [
    "#### 6. Create a Python class for a bank account and demonstrate abstraction by hiding the account balance and providing methods to deposit and withdraw funds."
   ]
  },
  {
   "cell_type": "code",
   "execution_count": 2,
   "id": "85334dde-fdb9-41bc-9225-ca15254c828b",
   "metadata": {},
   "outputs": [],
   "source": [
    "class BankAccount:\n",
    "    def __init__(self,ac_no, initial_balance=0):\n",
    "        self.ac_no = ac_no\n",
    "        self._balance = initial_balance\n",
    "    def deposite(self,amount):\n",
    "        if amount>0:\n",
    "            self._balance += amount\n",
    "            print(f'Deposite {amount} dellars.')\n",
    "        else:\n",
    "            print('Invalid deposite amount. Please deposite a positive amount.')\n",
    "    def withdraw(self,amount):\n",
    "        if 0<amount <= self._balance:\n",
    "            self._balance -= amount\n",
    "            print(f'Withdraw {amount} dollars.')\n",
    "        else:\n",
    "            print('Insufficient funds or invalid withdrawal amount.')\n",
    "\n",
    "    def get_balance(self):\n",
    "        return self._balance\n",
    "    def get_ac_no(self):\n",
    "        return self.ac_no"
   ]
  },
  {
   "cell_type": "markdown",
   "id": "2beee2bc-15ec-4f27-965e-da3589a43e76",
   "metadata": {},
   "source": [
    "#### 7. Discuss the concept of interface classes in Python and their role in achieving abstraction."
   ]
  },
  {
   "cell_type": "markdown",
   "id": "7d77573b-e579-426e-8be1-c1353b2adbc9",
   "metadata": {},
   "source": [
    "Python does support a form of interface-like behavior through abstract base classes (ABCs) and duck typing.\n",
    "\n",
    "**Abstract Base Classes (ABCs):**\n",
    "\r",
    "Python's 'abc' module allows you to define abstract base classes, which can contain abstract methods (methods without implementations). Subclasses of these abstract base classes must implement these abstract methods, thereby providing a common interface.\n",
    "\n",
    "**Role in Achieving Abstraction:**\n",
    "\n",
    "**Defining Common Interfaces:** Interface classes, in the form of abstract base classes, allow you to define common interfaces that multiple classes can implement. This promotes code consistency and maintainability by enforcing a standard way for classes to interact with each other.\n",
    "\n",
    "**Hiding Implementation Details:** By providing only method signatures in the interface classes, the internal implementation details are hidden from the users of these classes. This encapsulation ensures that users only need to know how to interact with the class, not how it's implemented internally.\n",
    "\n",
    "**Polymorphism:** Interface classes enable polymorphism, where different classes can be used interchangeably if they implement the same interface. This flexibility allows you to write code that operates on the interface rather than specific implementations, making your code more adaptable to changes.\n",
    "\n",
    "**Enforcing Contracts:** Interface classes enforce contracts between classes, ensuring that subclasses adhere to a certain set of rules or behaviors. This helps in avoiding runtime errors by catching missing or incorrect implementations of required methods at compile-time.\n",
    "\n",
    "\n",
    "\n",
    "\n",
    "\n"
   ]
  },
  {
   "cell_type": "markdown",
   "id": "71b7ba55-c6b9-46ab-89d5-8fb2ea115046",
   "metadata": {},
   "source": [
    "#### 8. Create a Python class hierarchy for animals and implement abstraction by defining common methods (e.g., `eat()`, `sleep()`) in an abstract base class."
   ]
  },
  {
   "cell_type": "code",
   "execution_count": 4,
   "id": "c5a29037-f7f2-4795-98cf-98bd33bc8714",
   "metadata": {},
   "outputs": [
    {
     "name": "stdout",
     "output_type": "stream",
     "text": [
      "Buddy is eating a dog food.\n",
      "Buddy is sleeping in its dog bed.\n",
      "treccy is eating cat food.\n",
      "treccy is sleeping in its cat bed.\n"
     ]
    }
   ],
   "source": [
    "from abc import ABC, abstractmethod\n",
    "\n",
    "class Animal(ABC):\n",
    "    def __init__(self, name, age):\n",
    "        self.name = name\n",
    "        self.age = age\n",
    "    @abstractmethod\n",
    "    def eat(self):\n",
    "        pass\n",
    "    @abstractmethod\n",
    "    def sleep(self):\n",
    "        pass\n",
    "\n",
    "class Dog(Animal):\n",
    "    def __init__(self, name, age, breed):\n",
    "        super().__init__(name,age)\n",
    "        self.breed = breed\n",
    "    def eat(self):\n",
    "        return f\"{self.name} is eating a dog food.\"\n",
    "    def sleep(self):\n",
    "        return f\"{self.name} is sleeping in its dog bed.\"\n",
    "\n",
    "class Cat(Animal):\n",
    "    def __init__(self, name, age, color):\n",
    "        super().__init__(name, age)\n",
    "        self.color = color\n",
    "    def eat(self):\n",
    "        return f\"{self.name} is eating cat food.\"\n",
    "    def sleep(self):\n",
    "        return f\"{self.name} is sleeping in its cat bed.\"\n",
    "\n",
    "\n",
    "dog = Dog('Buddy',5,'Golden Retriever')\n",
    "cat = Cat('treccy',3,'Tabby')\n",
    "\n",
    "print(dog.eat())\n",
    "print(dog.sleep())\n",
    "\n",
    "print(cat.eat())\n",
    "print(cat.sleep())"
   ]
  },
  {
   "cell_type": "markdown",
   "id": "04967fdc-7cf7-4aa5-b4d2-e8aaca9d34c2",
   "metadata": {},
   "source": [
    "#### 9. Explain the significance of encapsulation in achieving abstraction. Provide examples."
   ]
  },
  {
   "cell_type": "markdown",
   "id": "af018859-17f0-4242-8cbe-21e15dcd5a20",
   "metadata": {},
   "source": [
    "Encapsulation and abstraction are two key concepts in object-oriented programming (OOP). Encapsulation refers to the bundling of data and methods that operate on the data into a single unit or class, while abstraction involves hiding the internal implementation details of an object and exposing only the necessary functionalities or interfaces.\n",
    "\n",
    "Encapsulation plays a crucial role in achieving abstraction by providing a mechanism to control access to the internal state of an object. It allows the object to maintain its integrity by preventing external code from directly modifying its internal data. Instead, external code interacts with the object through well-defined interfaces or methods, which abstract away the implementation details.\n",
    "\n",
    "Here's how encapsulation facilitates abstraction with examples:\n",
    "\n",
    "**Class Interface:** In OOP, a class serves as a blueprint for creating objects. Encapsulation allows the class to expose a public interface consisting of methods through which external code can interact with the object. This hides the internal implementation details of the class and promotes abstraction. For example:\r\n"
   ]
  },
  {
   "cell_type": "code",
   "execution_count": 5,
   "id": "06cbb86a-0544-4beb-bbda-814f286e4f60",
   "metadata": {},
   "outputs": [],
   "source": [
    "class Car:\n",
    "    def __init__(self,make,model):\n",
    "        self.make = make\n",
    "        sele.model = model\n",
    "        self._engine_status = 'off'   # Encapsulated variable\n",
    "    def start_engine(self):\n",
    "        self._engine_status = 'on'\n",
    "    def stop_engine(self):\n",
    "        self._engine_status = 'off'"
   ]
  },
  {
   "cell_type": "markdown",
   "id": "2f1b8543-309f-4de6-9cff-bb2fc70d0714",
   "metadata": {},
   "source": [
    "#### 10. What is the purpose of abstract methods, and how do they enforce abstraction in Python classes?"
   ]
  },
  {
   "cell_type": "markdown",
   "id": "d0194c73-11bb-4b6b-b3cb-91eb35908d85",
   "metadata": {},
   "source": [
    "Abstract methods in Python serve the purpose of defining method signatures without providing an implementation. They are declared within abstract classes and must be implemented by subclasses. The primary purpose of abstract methods is to enforce a certain behavior or interface across multiple subclasses while allowing each subclass to provide its own implementation.\n",
    "\n",
    "Here's how abstract methods enforce abstraction in Python classes:\r\n",
    "1. **Defining Interface:** Abstract methods define a contract or interface that subclasses must adhere to. They specify what methods a subclass must implement without dictating how those methods should be implemented. This abstraction allows for a high-level design of classes where specific details are left to the subclasses.\n",
    "\n",
    "2. **Forcing Implementation:** Abstract methods enforce the implementation of specific behaviors in subclasses. If a subclass fails to implement one or more abstract methods defined in its superclass, Python raises an error, typically 'TypeError'. This ensures that subclasses provide necessary functionality as per the interface defined by the abstract class.\n",
    "\n",
    "3. **Promoting Polymorphism:** Abstract methods facilitate polymorphism by allowing different subclasses to implement the same method differently. This polymorphic behavior enables code to be written more generically, treating objects of different subclasses uniformly based on the common interface provided by abstract methods.\r\n"
   ]
  },
  {
   "cell_type": "markdown",
   "id": "5b6e4da9-8cc1-4d1d-b4cd-cb4cd8921a86",
   "metadata": {},
   "source": [
    "#### 11. Create a Python class for a vehicle system and demonstrate abstraction by defining common methods (e.g., `start()`, `stop()`) in an abstract base class.\n"
   ]
  },
  {
   "cell_type": "code",
   "execution_count": 12,
   "id": "239d7276-7385-4066-8062-d84c562fc6b7",
   "metadata": {},
   "outputs": [
    {
     "name": "stdout",
     "output_type": "stream",
     "text": [
      "starting the Audie R8V10...\n",
      "Is the car running? True\n",
      "Stopping the Audie R8V10.\n",
      "Is the car is running? False\n"
     ]
    }
   ],
   "source": [
    "from abc import ABC, abstractmethod\n",
    "\n",
    "class Vehicle(ABC):\n",
    "    def __init__(self,make,model):\n",
    "        self.make = make\n",
    "        self.model = model\n",
    "        self._is_running = False\n",
    "    @abstractmethod\n",
    "    def start(self):\n",
    "        pass\n",
    "    @abstractmethod\n",
    "    def stop(self):\n",
    "        pass\n",
    "\n",
    "    def is_running(self):\n",
    "        return self._is_running\n",
    "\n",
    "class Car(Vehicle):\n",
    "    def start(self):\n",
    "        if not self._is_running:\n",
    "            print(f'starting the {self.make} {self.model}...')\n",
    "            self._is_running = True\n",
    "        else:\n",
    "            print('The car is already running.')\n",
    "    def stop(self):\n",
    "        if self._is_running:\n",
    "            print(f'Stopping the {self.make} {self.model}.')\n",
    "            self._is_running = False\n",
    "        else:\n",
    "            print('The car is already stopped.')\n",
    "\n",
    "car = Car('Audie','R8V10')\n",
    "car.start()\n",
    "print('Is the car running?', car.is_running())\n",
    "car.stop()\n",
    "print('Is the car is running?', car.is_running())"
   ]
  },
  {
   "cell_type": "markdown",
   "id": "e03e4552-f647-4901-9e82-fe030e5688e4",
   "metadata": {},
   "source": [
    "#### 12. Describe the use of abstract properties in Python and how they can be employed in abstract classes."
   ]
  },
  {
   "cell_type": "markdown",
   "id": "0a033d5a-2969-4fa3-ab13-fcd53d40409f",
   "metadata": {},
   "source": [
    "Abstract properties in Python serve a similar purpose to abstract methods but for attributes instead of methods. They allow you to define attributes in an abstract base class without providing an implementation. Subclasses are then required to implement these properties. This mechanism ensures that subclasses adhere to a specific interface, promoting consistency and abstraction.\n",
    "\n",
    "Here's how abstract properties can be employed in abstract classes in Python:\r\n",
    "1. **Definition in Abstract Base Class:** Abstract properties are declared in an abstract base class using the '@property' decorator along with the '@abstractmethod' decorator. This marks the property as abstract, indicating that subclasses must provide an implementation for it.\n",
    "\n",
    "2. **Implementation in Subclasses:** Subclasses of the abstract base class are required to implement the abstract properties defined in the base class. This ensures that each subclass provides its own implementation for the property.\r\n",
    "3. **Accessing Properties:** Subclasses can access the abstract properties as if they were regular attributes. The property implementation in the subclass is invoked when accessing the property.\n",
    "\r\n",
    "\r\n"
   ]
  },
  {
   "cell_type": "markdown",
   "id": "e6e8858f-b9ab-45f6-8f77-4a5f7223a02f",
   "metadata": {},
   "source": [
    "#### 13. Create a Python class hierarchy for employees in a company (e.g., manager, developer, designer) and implement abstraction by defining a common `get_salary()` method."
   ]
  },
  {
   "cell_type": "code",
   "execution_count": 14,
   "id": "2557c015-e8d5-4aaa-8eda-09d94f54ed9e",
   "metadata": {},
   "outputs": [
    {
     "name": "stdout",
     "output_type": "stream",
     "text": [
      "Manager Salary: 60000\n",
      "Developer Salary: 8000\n",
      "Designer Salary: 5000\n"
     ]
    }
   ],
   "source": [
    " from abc import ABC, abstractmethod\n",
    "\n",
    "class Employee(ABC):\n",
    "    def __init__(self, name, employee_id):\n",
    "        self.name = name\n",
    "        self.employee_id = employee_id\n",
    "\n",
    "    @abstractmethod\n",
    "    def get_salary(self):\n",
    "        pass\n",
    "\n",
    "class Manager(Employee):\n",
    "    def __init__(self, name, employee_id, salary):\n",
    "        super().__init__(name, employee_id)\n",
    "        self.salary = salary\n",
    "\n",
    "    def get_salary(self):\n",
    "        return self.salary\n",
    "\n",
    "class Developer(Employee):\n",
    "    def __init__(self, name, employee_id, hourly_rate, hours_worked):\n",
    "        super().__init__(name, employee_id)\n",
    "        self.hourly_rate = hourly_rate\n",
    "        self.hours_worked = hours_worked\n",
    "\n",
    "    def get_salary(self):\n",
    "        return self.hourly_rate * self.hours_worked\n",
    "\n",
    "class Designer(Employee):\n",
    "    def __init__(self, name, employee_id, monthly_salary):\n",
    "        super().__init__(name, employee_id)\n",
    "        self.monthly_salary = monthly_salary\n",
    "\n",
    "    def get_salary(self):\n",
    "        return self.monthly_salary\n",
    "\n",
    "# Usage\n",
    "manager = Manager(\"John Doe\", 1001, 60000)\n",
    "print(\"Manager Salary:\", manager.get_salary())\n",
    "\n",
    "developer = Developer(\"Jane Smith\", 2001, 50, 160)\n",
    "print(\"Developer Salary:\", developer.get_salary())\n",
    "\n",
    "designer = Designer(\"Alice Johnson\", 3001, 5000)\n",
    "print(\"Designer Salary:\", designer.get_salary())\n"
   ]
  },
  {
   "cell_type": "markdown",
   "id": "def166ee-8f5d-44ca-ae9e-5d83a3c6b573",
   "metadata": {},
   "source": [
    "#### 14. Discuss the differences between abstract classes and concrete classes in Python, including their instantiation."
   ]
  },
  {
   "cell_type": "markdown",
   "id": "d72837c5-e92a-4ddc-ae22-1f1ce9f7f698",
   "metadata": {},
   "source": [
    "Abstract classes and concrete classes are two fundamental concepts in object-oriented programming, each serving different purposes and having distinct characteristics.\n",
    "\n",
    "***Abstract Classes:***\r\n",
    "1. **Definition:** Abstract classes are classes that cannot be instantiated on their own and are meant to be subclassed. They often contain one or more abstract methods, which are methods without implementations.\r\n",
    "2. **Purpose:** Abstract classes are designed to provide a blueprint for other classes. They define a common interface or behavior that subclasses must implement. They serve as a template for creating related classes with similar functionalities.\r\n",
    "3. **Instantiation:** Abstract classes cannot be instantiated directly. Attempting to create an instance of an abstract class will result in an error. Instead, subclasses of the abstract class must be created, and they must provide implementations for all abstract methods defined in the abstract class.\n",
    "\n",
    "***Concrete Classes:***\r\n",
    "1. **Definition:** Concrete classes are classes that can be instantiated directly. They provide complete implementations for all methods and attributes defined within them.\r\n",
    "2. **Purpose:** Concrete classes are used to create objects directly. They represent specific instances of a more general concept defined by abstract classes. They provide concrete functionality and data.\r\n",
    "3. **Instantiation:** Concrete classes can be instantiated directly using the class constructor. When an instance is created, it contains all the attributes and methods defined in the class.\n",
    "\n",
    "\n",
    "\r\n",
    "\n",
    "\n",
    "\n",
    "\r\n"
   ]
  },
  {
   "cell_type": "markdown",
   "id": "f58215b5-8388-48aa-a955-7f34cebb6c48",
   "metadata": {},
   "source": [
    "#### 15. Explain the concept of abstract data types (ADTs) and their role in achieving abstraction in Python."
   ]
  },
  {
   "cell_type": "markdown",
   "id": "b33e241e-e6ad-478a-b36e-1fcc94bd4957",
   "metadata": {},
   "source": [
    "Abstract Data Types (ADTs) are a fundamental concept in computer science that provide a logical description of how data is stored and manipulated, independent of any specific implementation. ADTs define a set of operations that can be performed on the data and hide the underlying implementation details, allowing users to work with the data at a higher level of abstraction.\n",
    "\n",
    "In Python, ADTs are often implemented using classes. The class serves as the blueprint for creating objects (instances) that represent the abstract data type. The class encapsulates the data and operations associated with the ADT, providing a clean interface for interacting with the data while hiding the internal details of how the data is stored and manipulated.\n",
    "\n",
    "Here's how ADTs achieve abstraction in Python:\r\n",
    "1. **Encapsulation**: ADTs encapsulate the data and operations together within a class. This means that the internal state of the object is hidden from external access, and interactions with the data are performed through well-defined methods.\n",
    "\n",
    "2. **Abstraction of Data**: ADTs define a logical view of the data and the operations that can be performed on it, without revealing the internal representation of the data. This allows users to focus on what operations can be done on the data rather than how they are implemented.\n",
    "\n",
    "3. **Modularity and Reusability**: By encapsulating data and operations within a class, ADTs promote modularity and reusability in code. Once an ADT is defined, it can be used in multiple parts of a program or even in different programs without modification, as long as the interface remains consistent.\n",
    "\n",
    "4. **Ease of Maintenance**: ADTs separate the concerns of data representation and manipulation, making it easier to maintain and update code. Changes to the internal implementation of the ADT can be made without affecting the code that uses the ADT, as long as the interface remains unchanged.\r\n"
   ]
  },
  {
   "cell_type": "markdown",
   "id": "00f8781a-b98d-42fb-816d-0d21ad29d06c",
   "metadata": {},
   "source": [
    "#### 16. Create a Python class for a computer system, demonstrating abstraction by defining common methods (e.g., `power_on()`, `shutdown()`) in an abstract base class"
   ]
  },
  {
   "cell_type": "code",
   "execution_count": 4,
   "id": "704d1898-4162-4d60-9a9b-5713e9a75413",
   "metadata": {},
   "outputs": [
    {
     "name": "stdout",
     "output_type": "stream",
     "text": [
      "Desktop computer is powering on...\n",
      "Desktop computer is shutting down...\n",
      "Laptop computer is powering on...\n",
      "Rebooting the computer system...\n",
      "Laptop computer is shutting down...\n",
      "Laptop computer is powering on...\n"
     ]
    }
   ],
   "source": [
    "from abc import ABC, abstractmethod\n",
    "\n",
    "class ComputerSystem(ABC):\n",
    "    @abstractmethod\n",
    "    def power_on(self):\n",
    "        pass\n",
    "    @abstractmethod\n",
    "    def shutdown(self):\n",
    "        pass\n",
    "    def reboot(self):\n",
    "        print('Rebooting the computer system...')\n",
    "        self.shutdown()\n",
    "        self.power_on()\n",
    "\n",
    "class DesktopComputer(ComputerSystem):\n",
    "    def power_on(self):\n",
    "        print(\"Desktop computer is powering on...\")\n",
    "    def shutdown(self):\n",
    "        print(\"Desktop computer is shutting down...\")\n",
    "\n",
    "class LaptopComputer(ComputerSystem):\n",
    "    def power_on(self):\n",
    "        print(\"Laptop computer is powering on...\")\n",
    "    def shutdown(self):\n",
    "        print(\"Laptop computer is shutting down...\")\n",
    "\n",
    "desktop = DesktopComputer()\n",
    "desktop.power_on()\n",
    "desktop.shutdown()\n",
    "\n",
    "laptop = LaptopComputer()\n",
    "laptop.power_on()\n",
    "laptop.reboot()"
   ]
  },
  {
   "cell_type": "markdown",
   "id": "69ec0a34-8f95-416b-be94-159105424fc2",
   "metadata": {},
   "source": [
    "#### 17. Discuss the benefits of using abstraction in large-scale software development projects."
   ]
  },
  {
   "cell_type": "markdown",
   "id": "0b81b587-07c3-404a-b285-a925815600c5",
   "metadata": {},
   "source": [
    "Abstraction plays a crucial role in large-scale software development projects for several reasons, each contributing to the overall efficiency, maintainability, and scalability of the project. Here are some key benefits:\n",
    "\n",
    "**Ease of Maintenance**: Abstraction makes code easier to maintain by separating concerns and providing clear interfaces between different parts of the system. This makes it easier to identify and fix bugs, add new features, or make changes to existing functionality without affecting other parts of the system. Additionally, modular code is often easier to test, as individual components can be tested in isolation.\n",
    "\n",
    "**Scalability**: Abstraction promotes scalability by allowing the system to grow and evolve over time without becoming overly complex or difficult to manage. New features can be added by creating new modules or extending existing ones, without the need to redesign the entire system. This makes it easier to adapt the software to changing requirements and user needs.\n",
    "\n",
    "**Team Collaboration**: In large-scale software projects involving multiple developers or teams, abstraction helps facilitate collaboration by providing clear interfaces and communication channels between different parts of the system. Developers can work on individual modules or components independently, knowing that they can integrate their work with the rest of the system using well-defined interfaces."
   ]
  },
  {
   "cell_type": "markdown",
   "id": "4b6ab479-fbfa-4b51-84a7-bbacd4695caf",
   "metadata": {},
   "source": [
    "#### 18. Explain how abstraction enhances code reusability and modularity in Python programs."
   ]
  },
  {
   "cell_type": "markdown",
   "id": "e95dbe93-5353-4bd0-ab65-8897366b157f",
   "metadata": {},
   "source": [
    "**Modularity:** Abstraction encourages the decomposition of a program into smaller, more manageable modules or components, each responsible for a specific functionality. These modules can then be developed, tested, and maintained independently, making it easier to manage the complexity of the codebase. Additionally, modular code is inherently more reusable, as individual modules can be reused in different parts of the program or even in different programs altogether.\n",
    "\n",
    "**Code Reusability:** Abstraction promotes code reusability by allowing developers to reuse existing components or modules in new contexts or applications. Because the implementation details are hidden behind well-defined interfaces, reusable components can be integrated into different projects without modification, as long as they provide the required functionality. This reduces development time and effort, as developers can leverage existing code rather than reinventing the wheel."
   ]
  },
  {
   "cell_type": "markdown",
   "id": "6b4394ba-09ae-452f-8c58-6cbcc943e929",
   "metadata": {},
   "source": [
    "#### 19. Create a Python class for a library system, implementing abstraction by defining common methods (e.g., `add_book()`, `borrow_book()`) in an abstract base class."
   ]
  },
  {
   "cell_type": "code",
   "execution_count": 6,
   "id": "bec4f27a-33e0-4340-9621-b9d84c52bc15",
   "metadata": {},
   "outputs": [
    {
     "name": "stdout",
     "output_type": "stream",
     "text": [
      "Book 'Python Programming' added to the library.\n",
      "Book 'Data Structures and Algorithms' added to the library.\n",
      "Member not found.\n",
      "Member not found.\n",
      "Member not found.\n",
      "Member not found.\n",
      "Book with ID '1' removed from the library.\n"
     ]
    }
   ],
   "source": [
    "from abc import ABC, abstractmethod\n",
    "\n",
    "class LibrarySystem(ABC):\n",
    "    def __init__(self):\n",
    "        self.books = {}\n",
    "        self.members = {}\n",
    "\n",
    "    @abstractmethod\n",
    "    def add_book(self, book):\n",
    "        pass\n",
    "    \n",
    "    @abstractmethod\n",
    "    def remove_book(self, book_id):\n",
    "        pass\n",
    "    \n",
    "    @abstractmethod\n",
    "    def borrow_book(self, member_id, book_id):\n",
    "        pass\n",
    "    \n",
    "    @abstractmethod\n",
    "    def return_book(self, member_id, book_id):\n",
    "        pass\n",
    "\n",
    "class SimpleLibrarySystem(LibrarySystem):\n",
    "    def add_book(self, book):\n",
    "        if book.id not in self.books:\n",
    "            self.books[book.id] = book\n",
    "            print(f\"Book '{book.title}' added to the library.\")\n",
    "        else:\n",
    "            print(\"Book already exists in the library.\")\n",
    "\n",
    "    def remove_book(self, book_id):\n",
    "        if book_id in self.books:\n",
    "            del self.books[book_id]\n",
    "            print(f\"Book with ID '{book_id}' removed from the library.\")\n",
    "        else:\n",
    "            print(\"Book not found in the library.\")\n",
    "\n",
    "    def borrow_book(self, member_id, book_id):\n",
    "        if book_id in self.books:\n",
    "            if member_id in self.members:\n",
    "                if book_id in self.members[member_id].borrowed_books:\n",
    "                    print(\"Member has already borrowed this book.\")\n",
    "                else:\n",
    "                    self.members[member_id].borrowed_books.add(book_id)\n",
    "                    print(f\"Book '{self.books[book_id].title}' borrowed by member '{self.members[member_id].name}'.\")\n",
    "            else:\n",
    "                print(\"Member not found.\")\n",
    "        else:\n",
    "            print(\"Book not found in the library.\")\n",
    "\n",
    "    def return_book(self, member_id, book_id):\n",
    "        if member_id in self.members:\n",
    "            if book_id in self.members[member_id].borrowed_books:\n",
    "                self.members[member_id].borrowed_books.remove(book_id)\n",
    "                print(f\"Book returned by member '{self.members[member_id].name}'.\")\n",
    "            else:\n",
    "                print(\"Member hasn't borrowed this book.\")\n",
    "        else:\n",
    "            print(\"Member not found.\")\n",
    "\n",
    "class Book:\n",
    "    def __init__(self, id, title, author):\n",
    "        self.id = id\n",
    "        self.title = title\n",
    "        self.author = author\n",
    "\n",
    "class Member:\n",
    "    def __init__(self, id, name):\n",
    "        self.id = id\n",
    "        self.name = name\n",
    "        self.borrowed_books = set()\n",
    "\n",
    "library = SimpleLibrarySystem()\n",
    "\n",
    "book1 = Book(1, \"Python Programming\", \"John Doe\")\n",
    "book2 = Book(2, \"Data Structures and Algorithms\", \"Jane Smith\")\n",
    "\n",
    "member1 = Member(101, \"Alice\")\n",
    "member2 = Member(102, \"Bob\")\n",
    "\n",
    "library.add_book(book1)\n",
    "library.add_book(book2)\n",
    "\n",
    "library.borrow_book(member1.id, book1.id)\n",
    "library.borrow_book(member2.id, book1.id)\n",
    "\n",
    "library.return_book(member1.id, book1.id)\n",
    "library.return_book(member2.id, book1.id)\n",
    "\n",
    "library.remove_book(book1.id)\n"
   ]
  },
  {
   "cell_type": "markdown",
   "id": "cd136923-b375-4eb9-bdc6-c91e6da7f4a7",
   "metadata": {},
   "source": [
    "#### 20. Describe the concept of method abstraction in Python and how it relates to polymorphism."
   ]
  },
  {
   "cell_type": "markdown",
   "id": "7a17b630-2155-48b3-9f98-f619600c08cb",
   "metadata": {},
   "source": [
    "Method abstraction in Python refers to the practice of defining methods in a way that their implementations are hidden from the users of the class. This allows users to interact with objects using a consistent interface without needing to know the internal details of how methods are implemented. Method abstraction is often achieved through the use of abstract methods, which are declared in a base class but not implemented until they are overridden in a subclass.\n",
    "\n",
    "Method abstraction is closely related to polymorphism, which is the ability of different objects to respond to the same method call in different ways. In Python, polymorphism is achieved through method overriding, where a subclass provides a specific implementation of a method that is already defined in its superclass. This allows objects of different classes to be treated interchangeably if they share a common interface, even though they may have different underlying implementations.\n",
    "\n",
    "Overall, method abstraction and polymorphism are powerful concepts in Python that allow for the creation of flexible, reusable, and extensible code. By defining abstract methods in base classes and providing concrete implementations in subclasses, developers can achieve both abstraction of implementation details and polymorphic behavior, enabling objects of different types to interact with each other in a consistent and predictable manner."
   ]
  },
  {
   "cell_type": "markdown",
   "id": "ce1d36c6-e17a-4714-9816-217425def53a",
   "metadata": {},
   "source": [
    "## Composition:"
   ]
  },
  {
   "cell_type": "markdown",
   "id": "c5b539ba-8371-40a8-8cb5-4f821463155d",
   "metadata": {},
   "source": [
    "#### 1. Explain the concept of composition in Python and how it is used to build complex objects from simpler ones."
   ]
  },
  {
   "cell_type": "markdown",
   "id": "2bef5807-2e75-4c32-bf2d-ad47ac475e77",
   "metadata": {},
   "source": [
    "In Python, composition refers to the practice of building complex objects by combining simpler ones, rather than inheriting properties and behaviors from a single parent class, as done in inheritance. It's a way to achieve code reuse and modularity, promoting better design and maintainability.\n",
    "\n",
    "Composition involves creating classes that contain instances of other classes as attributes. These attributes represent the different parts or components of the complex object being built. By combining these components, the complex object gains functionality and behavior from the simpler objects it's composed of.\r\n"
   ]
  },
  {
   "cell_type": "markdown",
   "id": "ec14ca91-df2e-4005-944f-800d559fc1a1",
   "metadata": {},
   "source": [
    "#### 2. Describe the difference between composition and inheritance in object-oriented programming."
   ]
  },
  {
   "cell_type": "markdown",
   "id": "17a4d9d4-87f7-4f71-bc03-2bf4a3035df1",
   "metadata": {},
   "source": [
    "1. **Inheritance**:\n",
    "* Inheritance involves creating new classes (derived or subclass) based on existing classes (base or superclass), where the derived class inherits attributes and methods from the base class.\n",
    "* The derived class can extend or override the behavior of the base class.\r",
    "* Inheritance establishes an \"is-a\" relationship, where the derived class \"is a\" specialized version of the base class.\n",
    "* Example: A Dog class can inherit from an Animal class, as a dog \"is an\" animal.\r\n",
    "2. **Composition**:\r",
    "* Composition involves building complex objects by combining simpler objects or components. Rather than relying on inheritance, a class contains instances of other classes as attributes.\r",
    "* The containing class (or composite class) delegates functionality to the objects it contains.\r",
    "* Composition establishes a \"has-a\" relationship, where the containing class \"has a\" component.\r",
    "* Example: A 'Car' class might contain an instance of an 'Engine' class, a 'Transmission' class, and so on.\n",
    "\n",
    "\n",
    "\n",
    "\n",
    "\n",
    "\n",
    "\n"
   ]
  },
  {
   "cell_type": "markdown",
   "id": "b28756cc-a95d-4ef7-b3c2-e7aa4a684beb",
   "metadata": {},
   "source": [
    "#### 3. Create a Python class called `Author` with attributes for name and birthdate. Then, create a `Book` class that contains an instance of `Author` as a composition. Provide an example of creating a `Book` object."
   ]
  },
  {
   "cell_type": "code",
   "execution_count": 1,
   "id": "b86acf7a-4914-44a5-b014-f73003101fa2",
   "metadata": {},
   "outputs": [
    {
     "name": "stdout",
     "output_type": "stream",
     "text": [
      "Title Harry potter and the philosopher's stone\n",
      "Author J.K Rowling\n",
      "Birthdate July 31, 1965\n",
      "Publication Year 1997\n"
     ]
    }
   ],
   "source": [
    "class Author:\n",
    "    def __init__(self, name, birthdate):\n",
    "        self.name = name\n",
    "        self.birthdate = birthdate\n",
    "\n",
    "class Book:\n",
    "    def __init__(self, title, author, publication_year):\n",
    "        self.title = title\n",
    "        self.author = author\n",
    "        self.publication_year = publication_year\n",
    "    def display_info(self):\n",
    "        print('Title', self.title)\n",
    "        print('Author',self.author.name)\n",
    "        print('Birthdate', self.author.birthdate)\n",
    "        print('Publication Year', self.publication_year)\n",
    "\n",
    "if __name__ == '__main__':\n",
    "    author1 = Author('J.K Rowling', 'July 31, 1965')\n",
    "    book1 = Book(\"Harry potter and the philosopher's stone\", author1 , 1997)\n",
    "    book1.display_info()"
   ]
  },
  {
   "cell_type": "markdown",
   "id": "46e530fd-f52b-47ee-afac-aeeee8a2b51d",
   "metadata": {},
   "source": [
    "#### 4. Discuss the benefits of using composition over inheritance in Python, especially in terms of code flexibility and reusability."
   ]
  },
  {
   "cell_type": "markdown",
   "id": "e3eb599c-19e1-49d9-926a-b9f15c2ab05c",
   "metadata": {},
   "source": [
    "Using composition over inheritance in Python can offer several benefits in terms of code flexibility and reusability:\n",
    "\n",
    "1. **Flexibility:**\n",
    "* With composition, you can change the behavior of a class dynamically by replacing its components with different ones at runtime. This allows for more flexible and modular code design.\n",
    "* Composition allows you to create complex objects by combining simpler ones, enabling you to build a wider variety of functionalities without creating a deep inheritance hierarchy.\r\n",
    "2. **Code Reusability:**\n",
    "* Composition promotes code reuse by allowing you to reuse existing classes as components in multiple contexts. You can create components that encapsulate specific functionalities and reuse them across different classes.\n",
    "* Unlike inheritance, where subclasses inherit the entire interface and implementation of their parent class, composition allows you to selectively expose only the necessary functionalities of the component class, promoting better encapsulation and reusability.\n",
    "\n",
    "3. **Reduced Coupling:**\n",
    "* Composition reduces coupling between classes compared to inheritance. With inheritance, subclasses are tightly coupled to their parent class, making it harder to modify or replace functionality without affecting other parts of the codebase. Composition, on the other hand, promotes looser coupling between classes, as components can be swapped or modified independently without affecting the classes that use them.\n",
    "\n"
   ]
  },
  {
   "cell_type": "markdown",
   "id": "0b698f49-8535-44f5-9c24-19d861b55dc9",
   "metadata": {},
   "source": [
    "#### 5. How can you implement composition in Python classes? Provide examples of using composition to create complex objects."
   ]
  },
  {
   "cell_type": "markdown",
   "id": "c3e1f017-23be-4fbf-b19b-d80325f8c254",
   "metadata": {},
   "source": [
    "In Python, composition is implemented by creating classes that contain instances of other classes as attributes. This allows you to build complex objects by combining simpler ones. Here's an example to illustrate how composition works:"
   ]
  },
  {
   "cell_type": "code",
   "execution_count": 2,
   "id": "05fe3a3f-82cf-479e-9de6-493fdcb37bb7",
   "metadata": {},
   "outputs": [
    {
     "name": "stdout",
     "output_type": "stream",
     "text": [
      "Starting the Toyota Camry\n",
      "Engine started\n"
     ]
    }
   ],
   "source": [
    "class Engine:\n",
    "    def __init__(self, horsepower):\n",
    "        self.horsepowers = horsepower\n",
    "    def start(self):\n",
    "        print('Engine started')\n",
    "\n",
    "class Car:\n",
    "    def __init__(self, make, model, engine):\n",
    "        self.make = make\n",
    "        self.model = model\n",
    "        self.engine = engine\n",
    "    def start(self):\n",
    "        print(f'Starting the {self.make} {self.model}')\n",
    "        self.engine.start()\n",
    "\n",
    "engine = Engine(200)   #Creating instances of the components\n",
    "car = Car('Toyota', 'Camry', engine)   #Composing the complex object using the components\n",
    "car.start()   #Using the composed object"
   ]
  },
  {
   "cell_type": "markdown",
   "id": "5cdbc514-297d-4adc-878c-32572424d6b4",
   "metadata": {},
   "source": [
    "#### 6. Create a Python class hierarchy for a music player system, using composition to represent playlists and songs."
   ]
  },
  {
   "cell_type": "code",
   "execution_count": 7,
   "id": "4916da44-d266-4083-8b51-851d75f80c72",
   "metadata": {},
   "outputs": [
    {
     "name": "stdout",
     "output_type": "stream",
     "text": [
      "Playing all song in playlist 'Favorites':\n",
      "Playing Shap of you by Ed Sheeran [3:54]\n",
      "Playing Blinding Lights by The Weeknd [3:20]\n",
      "Playing all song in playlist 'Chill':\n",
      "Playing Despacito by Luise fonsi [3:30]\n"
     ]
    }
   ],
   "source": [
    "class Song:\n",
    "    def __init__(self, title, artist, duration):\n",
    "        self.title = title\n",
    "        self.artist = artist\n",
    "        self.duration = duration\n",
    "    def play(self):\n",
    "        print(f\"Playing {self.title} by {self.artist} [{self.duration}]\")\n",
    "\n",
    "class Playlist:\n",
    "    def __init__(self, name):\n",
    "        self.name = name\n",
    "        self.songs = []\n",
    "    def add_song(self, song):\n",
    "        self.songs.append(song)\n",
    "    def remove_song(self, song):\n",
    "        if song in self.songs:\n",
    "            self.song.remove(song)\n",
    "    def play_all(self):\n",
    "        print(f\"Playing all song in playlist '{self.name}':\")\n",
    "        for song in self.songs:\n",
    "            song.play()\n",
    "\n",
    "class MusicPlayer:\n",
    "    def __init__(self):\n",
    "        self.playlists = []\n",
    "    def create_playlist(self, name):\n",
    "        playlist = Playlist(name)\n",
    "        self.playlists.append(playlist)\n",
    "        return playlist\n",
    "    def remove_playlist(self, playlist):\n",
    "        if playlist in self.playlists:\n",
    "            self.playlistd.remove(playlist)\n",
    "\n",
    "player = MusicPlayer()\n",
    "\n",
    "song1 = Song(\"Shap of you\", \"Ed Sheeran\", \"3:54\")\n",
    "song2 = Song(\"Despacito\", \"Luise fonsi\", \"3:30\")\n",
    "song3 = Song(\"Blinding Lights\", \"The Weeknd\", \"3:20\")\n",
    "\n",
    "playlist1 = player.create_playlist('Favorites')\n",
    "playlist2 = player.create_playlist('Chill')\n",
    "\n",
    "playlist1.add_song(song1)\n",
    "playlist1.add_song(song3)\n",
    "playlist2.add_song(song2)\n",
    "\n",
    "playlist1.play_all()\n",
    "playlist2.play_all()"
   ]
  },
  {
   "cell_type": "markdown",
   "id": "fcaf6524-5c31-4c7d-a24b-3429f9b99a24",
   "metadata": {},
   "source": [
    "#### 7. Explain the concept of \"has-a\" relationships in composition and how it helps design software systems."
   ]
  },
  {
   "cell_type": "markdown",
   "id": "ebb37f9a-15eb-42a4-b35c-9699a72c42a8",
   "metadata": {},
   "source": [
    "In software engineering, the \"has-a\" relationship is a principle of object-oriented design that describes how one class can be composed of one or more instances of another class. This relationship is commonly implemented through composition, where one class contains an instance of another class as a member or attribute.\n",
    "\n",
    "The \"has-a\" relationship emphasizes the idea that an object of one class \"has\" another object as a part or component, rather than being a subtype of it (as in inheritance). This relationship allows for building complex objects by combining simpler ones, promoting modularity, flexibility, and reusability in software systems.\n",
    "\n",
    "Here's how the \"has-a\" relationship helps in designing software systems:\n",
    "\n",
    "1. **Modularity:** By composing objects with distinct responsibilities, you can create modules that encapsulate specific functionalities. Each class focuses on a single task, making the system easier to understand, maintain, and extend.\n",
    "\n",
    "2. **Flexibility:** With composition, objects can be dynamically composed at runtime, enabling flexible configurations and behavior. You can easily replace components or add new ones without modifying existing code, promoting adaptability to changing requirements.\n",
    "\n",
    "3. **Code Reusability:** Composition facilitates code reuse by allowing you to reuse existing classes as components in different contexts. Instead of inheriting behavior from a superclass, you can compose objects with reusable components, reducing redundancy and promoting modular design.\n",
    "\n",
    "4. **Encapsulation:** Composition supports encapsulation by hiding the internal implementation details of components. Each class exposes a well-defined interface, allowing clients to interact with objects through clearly defined methods while hiding the complexity of the underlying composition structure.\n",
    "\n",
    "5. **Reduced Coupling:** Unlike inheritance, which can lead to tight coupling between classes, composition promotes loose coupling. Classes are less dependent on each other's implementations, making it easier to change or replace components without affecting other parts of the system."
   ]
  },
  {
   "cell_type": "markdown",
   "id": "abfba104-68f1-491f-96a9-a97c04110203",
   "metadata": {},
   "source": [
    "#### 8. Create a Python class for a computer system, using composition to represent components like CPU, RAM, and storage devices"
   ]
  },
  {
   "cell_type": "code",
   "execution_count": 8,
   "id": "ee0afc56-5d04-4c59-9570-24d26e53c2e7",
   "metadata": {},
   "outputs": [
    {
     "name": "stdout",
     "output_type": "stream",
     "text": [
      "Booting computer system...\n",
      "Intel Core i7 is processing data...\n",
      "Loading data into 16GB RAM...\n",
      "Reading data from 512GB SSD storage...\n"
     ]
    }
   ],
   "source": [
    "class CPU:\n",
    "    def __init__(self, brand, model, cores):\n",
    "        self.brand = brand\n",
    "        self.model = model\n",
    "        self.cores = cores\n",
    "    def process(self):\n",
    "        print(f\"{self.brand} {self.model} is processing data...\")\n",
    "\n",
    "class RAM:\n",
    "    def __init__(self, capacity_gb, speed_mhz):\n",
    "        self.capacity_gb = capacity_gb\n",
    "        self.speed_mhz = speed_mhz\n",
    "    def load_data(self):\n",
    "        print(f\"Loading data into {self.capacity_gb}GB RAM...\")\n",
    "\n",
    "class Storage:\n",
    "    def __init__(self, capacity_gb, type):\n",
    "        self.capacity_gb = capacity_gb\n",
    "        self.type = type\n",
    "    def read_data(self):\n",
    "        print(f\"Reading data from {self.capacity_gb}GB {self.type} storage...\")\n",
    "\n",
    "class ComputerSystem:\n",
    "    def __init__(self, cpu, ram, storage):\n",
    "        self.cpu = cpu\n",
    "        self.ram = ram\n",
    "        self.storage = storage\n",
    "    def boot(self):\n",
    "        print(\"Booting computer system...\")\n",
    "        self.cpu.process()\n",
    "        self.ram.load_data()\n",
    "        self.storage.read_data()\n",
    "\n",
    "cpu = CPU('Intel', 'Core i7', 8)\n",
    "ram = RAM(16, 3200)\n",
    "storage = Storage(512, 'SSD')\n",
    "\n",
    "computer = ComputerSystem(cpu, ram, storage)\n",
    "computer.boot()"
   ]
  },
  {
   "cell_type": "markdown",
   "id": "d3958876-49a2-43ea-8b84-1d83b824d07f",
   "metadata": {},
   "source": [
    "#### 9. Describe the concept of \"delegation\" in composition and how it simplifies the design of complex systems."
   ]
  },
  {
   "cell_type": "markdown",
   "id": "ba791c54-592c-4cc0-9971-9d2e59612477",
   "metadata": {},
   "source": [
    "Delegation in composition is a design pattern where an object forwards method calls or operations to another object, rather than implementing those methods itself. It's a way to achieve code reuse and modularity by allowing one object to rely on the functionality provided by another object. Delegation is closely related to composition, where one object contains another as a component and delegates some of its responsibilities to it.\n",
    "\n",
    "In the context of composition, delegation simplifies the design of complex systems in several ways:\r\n",
    "1. **Modularity:** Delegation promotes modularity by allowing objects to focus on specific responsibilities. Instead of trying to implement all functionality within a single class, different aspects of behavior can be delegated to separate components. This makes each component easier to understand, maintain, and test.\n",
    "\n",
    "2. **Code Reuse:** Delegation enables code reuse by allowing multiple objects to share the functionality provided by another object. Rather than duplicating code across different classes, a single delegate can be reused in various contexts, reducing redundancy and improving maintainability.\n",
    "\n",
    "3. Encapsulation: Delegation helps maintain encapsulation by allowing objects to hide their internal implementation details. Objects only need to expose the necessary methods for clients to interact with, while the actual implementation can be delegated to other objects. This reduces coupling between objects and promotes better separation of concerns.\r\n",
    "4. **Flexibility:** Delegation provides flexibility by allowing components to be easily replaced or extended without affecting the overall system. Since the delegating object interacts with its delegate through a well-defined interface, alternative implementations can be swapped in without requiring changes to the delegating object's code.\n",
    "\n",
    "5. **Scalability:** Delegation facilitates the scalability of complex systems by breaking them down into smaller, manageable components. As the system grows or evolves, new functionality can be added by introducing additional delegates, without significantly impacting existing code.\n",
    "\r\n"
   ]
  },
  {
   "cell_type": "markdown",
   "id": "1a4f7197-7701-4ff8-b693-78508f8ca781",
   "metadata": {},
   "source": [
    "#### 10. Create a Python class for a car, using composition to represent components like the engine, wheels, and transmission."
   ]
  },
  {
   "cell_type": "code",
   "execution_count": 2,
   "id": "f5dd0ecf-e51b-4e8a-ab5b-2bbc16560561",
   "metadata": {},
   "outputs": [
    {
     "name": "stdout",
     "output_type": "stream",
     "text": [
      "Starting the car...\n",
      "Engine started.\n",
      "Gear changed to 1st\n",
      "Car started.\n",
      "Driving the car...\n",
      "Wheen rotating.\n",
      "Wheen rotating.\n",
      "Wheen rotating.\n",
      "Wheen rotating.\n",
      "Gear changed to Drive\n",
      "Stopping the car...\n",
      "Gear changed to Neutral\n",
      "Engine stopped.\n",
      "Car stopped.\n"
     ]
    }
   ],
   "source": [
    "class Engine:\n",
    "    def start(self):\n",
    "        print('Engine started.')\n",
    "    def stop(self):\n",
    "        print(\"Engine stopped.\")\n",
    "\n",
    "class Transmission:\n",
    "    def change_gear(self, gear):\n",
    "        print(\"Gear changed to\", gear)\n",
    "\n",
    "class Wheel:\n",
    "    def rotate(self):\n",
    "        print(\"Wheen rotating.\")\n",
    "\n",
    "class Car:\n",
    "    def __init__(self):\n",
    "        self.engine = Engine()\n",
    "        self.transmission = Transmission()\n",
    "        self.wheels = [Wheel()  for _ in range(4)] # four wheens\n",
    "    def start(self):\n",
    "        print(\"Starting the car...\")\n",
    "        self.engine.start()\n",
    "        self.transmission.change_gear(\"1st\")\n",
    "        print(\"Car started.\")\n",
    "    def stop(self):\n",
    "        print(\"Stopping the car...\")\n",
    "        self.transmission.change_gear(\"Neutral\")\n",
    "        self.engine.stop()\n",
    "        print(\"Car stopped.\")\n",
    "    def drive(self):\n",
    "        print(\"Driving the car...\")\n",
    "        for wheel in self.wheels:\n",
    "            wheel.rotate()\n",
    "        self.transmission.change_gear(\"Drive\")\n",
    "\n",
    "if __name__ == \"__main__\":\n",
    "    my_car = Car()\n",
    "    my_car.start()\n",
    "    my_car.drive()\n",
    "    my_car.stop()"
   ]
  },
  {
   "cell_type": "markdown",
   "id": "269ad76d-800a-47b5-93a2-ce200cbb8017",
   "metadata": {},
   "source": [
    "#### 11. How can you encapsulate and hide the details of composed objects in Python classes to maintain abstraction?"
   ]
  },
  {
   "cell_type": "markdown",
   "id": "5191a156-ac92-4e98-8aae-3eba18ccfc91",
   "metadata": {},
   "source": [
    "In Python, encapsulation and abstraction can be achieved through several mechanisms to hide the details of composed objects within classes. Here are some techniques to accomplish this:\n",
    "\n",
    "1. **Private Attributes and Methods:**\n",
    "* Use the underscore '_' prefix to denote private attributes and methods, indicating that they are intended for internal use within the class and should not be accessed directly from outside.\n",
    "* Encapsulate the details of composed objects by making their attributes and methods private, preventing external code from accessing or modifying them directly.\n",
    "\n",
    "2. **Property Decorators:**\n",
    "* Use property decorators to define getter and setter methods for accessing and modifying attributes of composed objects.\n",
    "* Implement custom getter and setter methods to enforce encapsulation and maintain control over how composed objects are accessed and manipulated.\n",
    "\n",
    "3. **Accessor Methods:**\n",
    "* Define accessor methods within the class to provide controlled access to the attributes and methods of composed objects.\n",
    "* Encapsulate the details of composed objects by exposing only the necessary functionality through accessor methods, hiding the internal implementation details.\n",
    "\n",
    "4. **Wrapper Methods:**\n",
    "* Implement wrapper methods within the class to delegate operations to composed objects while abstracting away the details.\n",
    "* Encapsulate the details of composed objects by providing higher-level methods that perform complex operations using the functionality provided by the composed objects\n",
    "\n",
    "5. **Composition Over Inheritance:**\n",
    "* Prefer composition over inheritance to encapsulate the behavior of composed objects within classes, promoting better abstraction and encapsulation.\n",
    "* Encapsulate the details of composed objects by containing them as attributes within the class, allowing the class to delegate operations to the composed objects while maintaining abstraction."
   ]
  },
  {
   "cell_type": "markdown",
   "id": "1aaf1b74-5820-4260-9a02-3e834a63dccc",
   "metadata": {},
   "source": [
    "#### 12. Create a Python class for a university course, using composition to represent students, instructors, and course materials."
   ]
  },
  {
   "cell_type": "code",
   "execution_count": 3,
   "id": "6fe024d3-37b9-47b6-8131-df3f10f84e06",
   "metadata": {},
   "outputs": [
    {
     "name": "stdout",
     "output_type": "stream",
     "text": [
      "Course Name: Introduction to Python\n",
      "Instructor: Dr. Smith\n",
      "Students Enrolled:\n",
      "- Alice\n",
      "- Alyse\n",
      "Course Materials:\n",
      "- Lecture Notes\n",
      "- Assignment 1\n"
     ]
    }
   ],
   "source": [
    "class Student:\n",
    "    def __init__(self, name, student_id):\n",
    "        self.name = name\n",
    "        self.student_id = student_id\n",
    "\n",
    "class Instructor:\n",
    "    def __init__(self, name, instructor_id):\n",
    "        self.name = name\n",
    "        self.instructor_id = instructor_id\n",
    "\n",
    "class CourseMaterial:\n",
    "    def __init__(self, material_name, material_type):\n",
    "        self.material_name = material_name\n",
    "        self.material_type = material_type\n",
    "\n",
    "class UnivertsityCourse:\n",
    "    def __init__(self, course_name, instructor, students, course_materials):\n",
    "        self.course_name = course_name\n",
    "        self.instructor = instructor\n",
    "        self.students = students\n",
    "        self.course_materials = course_materials\n",
    "    def display_course_info(self):\n",
    "        print(\"Course Name:\", self.course_name)\n",
    "        print('Instructor:', self.instructor.name)\n",
    "        print(\"Students Enrolled:\")\n",
    "        for student in self.students:\n",
    "            print(\"-\", student.name)\n",
    "        print(\"Course Materials:\")\n",
    "        for material in self.course_materials:\n",
    "            print(\"-\", material.material_name)\n",
    "\n",
    "if __name__ == \"__main__\":\n",
    "    student1 = Student(\"Alice\", \"S001\")\n",
    "    student2 = Student(\"Alyse\", \"S002\")\n",
    "    students = [student1, student2]\n",
    "    instructor = Instructor(\"Dr. Smith\", \"I001\")\n",
    "    material1 = CourseMaterial(\"Lecture Notes\", \"Text\")\n",
    "    material2 = CourseMaterial(\"Assignment 1\", \"Document\")\n",
    "    course_materials = [material1, material2]\n",
    "    course = UnivertsityCourse(\"Introduction to Python\", instructor, students, course_materials)\n",
    "    course.display_course_info()"
   ]
  },
  {
   "cell_type": "markdown",
   "id": "3e5c10e3-13a2-4eb1-a215-bfcd0940abd2",
   "metadata": {},
   "source": [
    "#### 13. Discuss the challenges and drawbacks of composition, such as increased complexity and potential for tight coupling between objects"
   ]
  },
  {
   "cell_type": "markdown",
   "id": "85cb3636-cc79-4aa4-9695-ecea1cad9f85",
   "metadata": {},
   "source": [
    "Composition is a powerful tool in object-oriented programming, but it does come with its own set of challenges and drawbacks:\n",
    "\n",
    "1. **Increased Complexity:** Using composition often means creating more classes and managing relationships between them. This can increase the complexity of the codebase, making it harder to understand, debug, and maintain, especially as the number of classes and their interactions grow.\r\n",
    "2. **Tight Coupling:** Composition can lead to tight coupling between objects, where changes to one class require corresponding changes to other classes it's composed of. This can make the code more fragile and less flexible. For example, if the interface of a composed object changes, it may require modifications in all the classes that use it, leading to cascading changes throughout the codebase.\r\n",
    "3. **Dependency Management:** When using composition, managing dependencies between objects becomes crucial. If an object relies on other objects for its functionality, any changes in those dependencies can affect the behavior of the composed object. This can introduce challenges in managing dependencies and ensuring that changes in one part of the codebase don't inadvertently affect other parts.\r\n",
    "4. **Code Duplication:** In certain scenarios, composition can lead to code duplication, especially if similar compositions are used in multiple places within the codebase. This can make maintenance more challenging, as changes need to be applied in multiple locations.\n",
    "\n",
    "\n",
    "\n"
   ]
  },
  {
   "cell_type": "markdown",
   "id": "21ef9578-7a37-433f-8d03-56b7a8b4ceb9",
   "metadata": {},
   "source": [
    "#### 14. Create a Python class hierarchy for a restaurant system, using composition to represent menus, dishes, and ingredients."
   ]
  },
  {
   "cell_type": "code",
   "execution_count": 12,
   "id": "48f7a628-15bc-4cf2-b7cd-7a8f73f99bc9",
   "metadata": {},
   "outputs": [
    {
     "name": "stdout",
     "output_type": "stream",
     "text": [
      "Welcome to Gourment Delights! \n",
      "\n",
      "Lunch Manu:\n",
      "- Burger - $9.99\n",
      "- Salad - $7.99\n",
      "\n",
      "Dinner Manu:\n",
      "- Burger - $9.99\n",
      "- Salad - $7.99\n",
      "\n",
      "\n"
     ]
    }
   ],
   "source": [
    "class Ingredient:\n",
    "    def __init__(self, name, quantity, unit):\n",
    "        self.name = name\n",
    "        self.quantity = quantity\n",
    "        self.unit = unit\n",
    "    def __str__(self):\n",
    "        return f\"{self.quantity} {self.unit} of {self.name}\"\n",
    "\n",
    "class Dish:\n",
    "    def __init__(self, name, price, ingredients):\n",
    "        self.name = name\n",
    "        self.price = price\n",
    "        self.ingredients = ingredients\n",
    "    def __str__(self):\n",
    "        return f\"{self.name} - ${self.price:.2f}\"\n",
    "\n",
    "class Menu:\n",
    "    def __init__(self, name, dishes):\n",
    "        self.name = name\n",
    "        self.dishes = dishes\n",
    "    def __str__(self):\n",
    "        menu_info = f\"{self.name} Manu:\\n\"\n",
    "        for dish in self.dishes:\n",
    "            menu_info += f\"- {dish}\\n\"\n",
    "        return menu_info\n",
    "\n",
    "class Restaurant:\n",
    "    def __init__(self, name, menus):\n",
    "        self.name = name\n",
    "        self.menus = menus\n",
    "    def __str__(self):\n",
    "        restaurant_info = f\"Welcome to {self.name}! \\n\\n\"\n",
    "        for menu in self.menus:\n",
    "            restaurant_info += str(menu) + \"\\n\"\n",
    "        return restaurant_info\n",
    "\n",
    "if __name__ == \"__main__\":\n",
    "    tomato = Ingredient(\"Tomato\", 2, \"pieces\")\n",
    "    lettuce = Ingredient(\"Lettuce\", 100, \"grams\")\n",
    "    cheese = Ingredient(\"Cheese\", 50,\"grams\")\n",
    "    potato = Ingredient(\"Potato\", 200, \"grams\")\n",
    "    \n",
    "    burger_ingredients = [potato, tomato, lettuce, cheese]\n",
    "    burger = Dish(\"Burger\", 9.99, burger_ingredients)\n",
    "    \n",
    "    salad_ingredients = [lettuce, tomato, cheese]\n",
    "    salad = Dish(\"Salad\", 7.99, salad_ingredients)\n",
    "    \n",
    "    lunch_menu = Menu(\"Lunch\", [burger, salad])\n",
    "    dinner_menu = Menu(\"Dinner\", [burger, salad])\n",
    "    \n",
    "    restaurant = Restaurant(\"Gourment Delights\", [lunch_menu, dinner_menu])\n",
    "    \n",
    "    print(restaurant)"
   ]
  },
  {
   "cell_type": "markdown",
   "id": "00e42200-79f5-440d-9b54-b8d33da12633",
   "metadata": {},
   "source": [
    "#### 15. Explain how composition enhances code maintainability and modularity in Python programs."
   ]
  },
  {
   "cell_type": "markdown",
   "id": "e0519cd8-062e-4aaf-a904-3b2497fa8de2",
   "metadata": {},
   "source": [
    "Composition enhances code maintainability and modularity in Python programs by promoting a design approach where objects are composed of other objects, rather than being derived from a single parent class or containing many attributes directly. Here's how composition achieves this:\n",
    "\n",
    "* **Modularity:** Composition encourages breaking down complex systems into smaller, more manageable components. Each component can be implemented and tested independently, making it easier to understand and maintain. By encapsulating functionality within smaller units, changes and updates can be made to specific components without affecting the entire system.\r\n",
    "* **Encapsulation:** Composition promotes encapsulation, where the internal details of each component are hidden from the outside world. This allows for a clear separation of concerns, as each component is responsible for a specific task or functionality. Encapsulation also reduces the risk of unintended interactions between components, leading to more robust and maintainable code.\r\n",
    "* **Dependency Management:** Composition helps manage dependencies between components by explicitly defining relationships between objects. This reduces coupling between components, as changes to one component are less likely to impact other components in the system. Dependency injection techniques can further enhance the flexibility and maintainability of composed systems.\r\n",
    "\n",
    "\n"
   ]
  },
  {
   "cell_type": "markdown",
   "id": "b4ed86f1-fd44-4019-917b-73cdaadd2519",
   "metadata": {},
   "source": [
    "#### 16. Create a Python class for a computer game character, using composition to represent attributes like weapons, armor, and inventory."
   ]
  },
  {
   "cell_type": "code",
   "execution_count": 13,
   "id": "3f782b89-8a98-4c85-b187-47f9e1fb54e7",
   "metadata": {},
   "outputs": [
    {
     "name": "stdout",
     "output_type": "stream",
     "text": [
      "Character: Hero\n",
      "Health: 100\n",
      "Weapons:\n",
      "- Weapon: Sword (Damage: 20)\n",
      "- Weapon: Bow (Damage: 15)\n",
      "Armor:\n",
      "- Armor: Helmet (Defense: 10)\n",
      "- Armor: Chestplate (Defense: 20)\n",
      "Inventory:\n",
      "- Health Potion - Quantity: 3\n",
      "- Mana Potion - Quantity: 2\n",
      "- Gold Coin - Quantity: 50\n",
      "\n"
     ]
    }
   ],
   "source": [
    "class Weapon:\n",
    "    def __init__(self, name, damage):\n",
    "        self.name = name\n",
    "        self.damage = damage\n",
    "\n",
    "    def __str__(self):\n",
    "        return f\"Weapon: {self.name} (Damage: {self.damage})\"\n",
    "\n",
    "class Armor:\n",
    "    def __init__(self, name, defense):\n",
    "        self.name = name\n",
    "        self.defense = defense\n",
    "\n",
    "    def __str__(self):\n",
    "        return f\"Armor: {self.name} (Defense: {self.defense})\"\n",
    "\n",
    "class InventoryItem:\n",
    "    def __init__(self, name, quantity):\n",
    "        self.name = name\n",
    "        self.quantity = quantity\n",
    "\n",
    "    def __str__(self):\n",
    "        return f\"{self.name} - Quantity: {self.quantity}\"\n",
    "\n",
    "class Character:\n",
    "    def __init__(self, name, health, weapons=None, armor=None, inventory=None):\n",
    "        self.name = name\n",
    "        self.health = health\n",
    "        self.weapons = weapons if weapons else []\n",
    "        self.armor = armor if armor else []\n",
    "        self.inventory = inventory if inventory else []\n",
    "\n",
    "    def equip_weapon(self, weapon):\n",
    "        self.weapons.append(weapon)\n",
    "\n",
    "    def equip_armor(self, armor):\n",
    "        self.armor.append(armor)\n",
    "\n",
    "    def add_to_inventory(self, item):\n",
    "        for inv_item in self.inventory:\n",
    "            if inv_item.name == item.name:\n",
    "                inv_item.quantity += item.quantity\n",
    "                return\n",
    "        self.inventory.append(item)\n",
    "\n",
    "    def __str__(self):\n",
    "        character_info = f\"Character: {self.name}\\n\"\n",
    "        character_info += f\"Health: {self.health}\\n\"\n",
    "        character_info += \"Weapons:\\n\"\n",
    "        for weapon in self.weapons:\n",
    "            character_info += f\"- {weapon}\\n\"\n",
    "        character_info += \"Armor:\\n\"\n",
    "        for armor in self.armor:\n",
    "            character_info += f\"- {armor}\\n\"\n",
    "        character_info += \"Inventory:\\n\"\n",
    "        for item in self.inventory:\n",
    "            character_info += f\"- {item}\\n\"\n",
    "        return character_info\n",
    "\n",
    "if __name__ == \"__main__\":\n",
    "    # Create weapons\n",
    "    sword = Weapon(\"Sword\", 20)\n",
    "    bow = Weapon(\"Bow\", 15)\n",
    "\n",
    "    # Create armor\n",
    "    helmet = Armor(\"Helmet\", 10)\n",
    "    chestplate = Armor(\"Chestplate\", 20)\n",
    "\n",
    "    # Create inventory items\n",
    "    health_potion = InventoryItem(\"Health Potion\", 3)\n",
    "    mana_potion = InventoryItem(\"Mana Potion\", 2)\n",
    "\n",
    "    # Create character\n",
    "    player = Character(\"Hero\", 100, weapons=[sword], armor=[helmet], inventory=[health_potion, mana_potion])\n",
    "\n",
    "    # Equip additional weapons and armor\n",
    "    player.equip_weapon(bow)\n",
    "    player.equip_armor(chestplate)\n",
    "\n",
    "    # Add items to inventory\n",
    "    player.add_to_inventory(InventoryItem(\"Gold Coin\", 50))\n",
    "\n",
    "    # Display character info\n",
    "    print(player)"
   ]
  },
  {
   "cell_type": "markdown",
   "id": "1b61e7d3-b0b1-4a35-8fd5-5bd7ea4f5e03",
   "metadata": {},
   "source": [
    "#### 17. Describe the concept of \"aggregation\" in composition and how it differs from simple composition."
   ]
  },
  {
   "cell_type": "markdown",
   "id": "154bfeb3-f306-4bc5-bfe4-309d86af2028",
   "metadata": {},
   "source": [
    "In the context of object-oriented programming, aggregation is a form of composition where one object contains another object, but the contained object can exist independently of the container. Aggregation represents a \"has-a\" relationship between objects, where the contained object is part of, or associated with, the containing object, but it is not exclusive to it.\n",
    "\n",
    "Here's a breakdown of the concept of aggregation and how it differs from simple composition:\r\n",
    "1. **Composition:**\n",
    "\n",
    "* In composition, one object is composed of other objects, meaning the composed objects have a strong relationship with the container.\n",
    "* \n",
    "The composed objects typically cannot exist independently of the container. If the container is destroyed, the composed objects are also destroyed\n",
    "* \r\n",
    "Composition implies ownership and tight coupling between the container and the contained object\n",
    "* .\r\n",
    "Example: A car object composed of engine, wheels, and chassis objects. If the car is destroyed, its engine, wheels, and chassis are also destroye\n",
    "2. **Aggregation:**\n",
    "* In aggregation, one object contains another object, but the contained object can exist independently of the container.\n",
    "* \n",
    "The contained object maintains its own lifecycle and can be shared among multiple containers or exist on its own\n",
    "* \r\n",
    "Aggregation represents a looser relationship between the container and the contained objects compared to compositio\n",
    "* .\r\n",
    "Example: A university object containing department objects. A department can exist independently and can be associated with multiple universities.d.\r\n",
    "\r\n"
   ]
  },
  {
   "cell_type": "markdown",
   "id": "a2b28441-3f1f-4b54-978b-4e19ffe2e7df",
   "metadata": {},
   "source": [
    "#### 18. Create a Python class for a house, using composition to represent rooms, furniture, and appliances."
   ]
  },
  {
   "cell_type": "code",
   "execution_count": 14,
   "id": "18483078-0b5a-43d8-bd90-914f1a33c160",
   "metadata": {},
   "outputs": [
    {
     "name": "stdout",
     "output_type": "stream",
     "text": [
      "My House\n",
      "\n",
      "Living Room (Area: 200 sq. ft)\n",
      "Furniture:\n",
      "- Sofa\n",
      "- Coffee Table\n",
      "Appliances:\n",
      "- Television\n",
      "\n",
      "Bedroom (Area: 150 sq. ft)\n",
      "Furniture:\n",
      "- Bed\n",
      "Appliances:\n",
      "- Oven\n",
      "\n",
      "Kitchen (Area: 100 sq. ft)\n",
      "Furniture:\n",
      "Appliances:\n",
      "- Refrigerator\n",
      "- Oven\n",
      "\n",
      "\n"
     ]
    }
   ],
   "source": [
    "class Furniture:\n",
    "    def __init__(self, name):\n",
    "        self.name = name\n",
    "\n",
    "    def __str__(self):\n",
    "        return f\"{self.name}\"\n",
    "\n",
    "class Appliance:\n",
    "    def __init__(self, name):\n",
    "        self.name = name\n",
    "\n",
    "    def __str__(self):\n",
    "        return f\"{self.name}\"\n",
    "\n",
    "class Room:\n",
    "    def __init__(self, name, area):\n",
    "        self.name = name\n",
    "        self.area = area\n",
    "        self.furniture = []\n",
    "        self.appliances = []\n",
    "\n",
    "    def add_furniture(self, furniture):\n",
    "        self.furniture.append(furniture)\n",
    "\n",
    "    def add_appliance(self, appliance):\n",
    "        self.appliances.append(appliance)\n",
    "\n",
    "    def __str__(self):\n",
    "        room_info = f\"{self.name} (Area: {self.area} sq. ft)\\n\"\n",
    "        room_info += \"Furniture:\\n\"\n",
    "        for piece in self.furniture:\n",
    "            room_info += f\"- {piece}\\n\"\n",
    "        room_info += \"Appliances:\\n\"\n",
    "        for appliance in self.appliances:\n",
    "            room_info += f\"- {appliance}\\n\"\n",
    "        return room_info\n",
    "\n",
    "class House:\n",
    "    def __init__(self, name):\n",
    "        self.name = name\n",
    "        self.rooms = []\n",
    "\n",
    "    def add_room(self, room):\n",
    "        self.rooms.append(room)\n",
    "\n",
    "    def __str__(self):\n",
    "        house_info = f\"{self.name} House\\n\\n\"\n",
    "        for room in self.rooms:\n",
    "            house_info += str(room) + \"\\n\"\n",
    "        return house_info\n",
    "\n",
    "if __name__ == \"__main__\":\n",
    "    # Create furniture\n",
    "    sofa = Furniture(\"Sofa\")\n",
    "    table = Furniture(\"Coffee Table\")\n",
    "    bed = Furniture(\"Bed\")\n",
    "\n",
    "    # Create appliances\n",
    "    tv = Appliance(\"Television\")\n",
    "    fridge = Appliance(\"Refrigerator\")\n",
    "    oven = Appliance(\"Oven\")\n",
    "\n",
    "    # Create rooms\n",
    "    living_room = Room(\"Living Room\", 200)\n",
    "    living_room.add_furniture(sofa)\n",
    "    living_room.add_furniture(table)\n",
    "    living_room.add_appliance(tv)\n",
    "\n",
    "    bedroom = Room(\"Bedroom\", 150)\n",
    "    bedroom.add_furniture(bed)\n",
    "    bedroom.add_appliance(oven)\n",
    "\n",
    "    kitchen = Room(\"Kitchen\", 100)\n",
    "    kitchen.add_appliance(fridge)\n",
    "    kitchen.add_appliance(oven)\n",
    "\n",
    "    # Create house\n",
    "    my_house = House(\"My\")\n",
    "    my_house.add_room(living_room)\n",
    "    my_house.add_room(bedroom)\n",
    "    my_house.add_room(kitchen)\n",
    "\n",
    "    # Display house info\n",
    "    print(my_house)\n"
   ]
  },
  {
   "cell_type": "markdown",
   "id": "c8a519ba-c2ce-425e-ad39-2ca125384ae6",
   "metadata": {},
   "source": [
    "#### 19. How can you achieve flexibility in composed objects by allowing them to be replaced or modified dynamically at runtime?"
   ]
  },
  {
   "cell_type": "markdown",
   "id": "1e090631-a0bd-4472-afb6-0d4d9abaf1bf",
   "metadata": {},
   "source": [
    "To achieve flexibility in composed objects by allowing them to be replaced or modified dynamically at runtime, you can employ several design patterns and programming techniques. Here are a few approaches:\n",
    "\n",
    "**Dependency Injection (DI):** Dependency Injection is a design pattern where the dependencies of an object are provided externally rather than being created within the object itself. By injecting dependencies at runtime, you can easily replace or modify the dependencies without modifying the object's code. This promotes flexibility and testability. There are several ways to implement DI in Python, including constructor injection, setter injection, and interface injection.\r\n",
    "**Factory Method Pattern:** The Factory Method Pattern is a creational design pattern that provides an interface for creating objects in a superclass but allows subclasses to alter the type of objects that will be created. By using factory methods to create composed objects, you can dynamically change the type of objects being composed at runtime, providing flexibility and extensibility.\n",
    "\n",
    "**Strategy Pattern:** The Strategy Pattern is a behavioral design pattern that defines a family of algorithms, encapsulates each one, and makes them interchangeable. By encapsulating algorithms or strategies in separate classes and composing them within an object, you can dynamically switch between different strategies at runtime, altering the behavior of the composed object without modifying its code.\n",
    "\n",
    "**Decorator Pattern:** The Decorator Pattern is a structural design pattern that allows behavior to be added to individual objects dynamically, without affecting the behavior of other objects from the same class. By composing objects with decorators, you can dynamically add or modify functionality at runtime, providing flexibility and extensibility.\n",
    "\n",
    "**Dynamic Composition:** Instead of hardcoding dependencies or compositions within objects, you can dynamically compose objects based on configuration files, user input, or other external sources. By dynamically constructing composed objects at runtime, you can achieve greater flexibility and adaptability in your software system.\n"
   ]
  },
  {
   "cell_type": "markdown",
   "id": "c31ddeff-bfbd-4ccd-96b1-35f637582aa9",
   "metadata": {},
   "source": [
    "#### 20. Create a Python class for a social media application, using composition to represent users, posts, and comments."
   ]
  },
  {
   "cell_type": "code",
   "execution_count": 15,
   "id": "2aa6b93d-6e9c-444d-bbdc-59a0ff52a0a9",
   "metadata": {},
   "outputs": [
    {
     "name": "stdout",
     "output_type": "stream",
     "text": [
      "Social Media Application\n",
      "\n",
      "Users:\n",
      "- Alice\n",
      "- Bob\n",
      "\n",
      "Posts:\n",
      "Posted by Alice:\n",
      "Hello, everyone!\n",
      "Comments:\n",
      "- Bob: Hi, Alice!\n",
      "\n",
      "Posted by Bob:\n",
      "Nice weather today.\n",
      "Comments:\n",
      "- Alice: Yes, it is!\n",
      "\n",
      "\n"
     ]
    }
   ],
   "source": [
    "class Comment:\n",
    "    def __init__(self, user, text):\n",
    "        self.user = user\n",
    "        self.text = text\n",
    "\n",
    "    def __str__(self):\n",
    "        return f\"{self.user}: {self.text}\"\n",
    "\n",
    "class Post:\n",
    "    def __init__(self, user, content):\n",
    "        self.user = user\n",
    "        self.content = content\n",
    "        self.comments = []\n",
    "\n",
    "    def add_comment(self, comment):\n",
    "        self.comments.append(comment)\n",
    "\n",
    "    def __str__(self):\n",
    "        post_info = f\"Posted by {self.user}:\\n{self.content}\\n\"\n",
    "        post_info += \"Comments:\\n\"\n",
    "        for comment in self.comments:\n",
    "            post_info += f\"- {comment}\\n\"\n",
    "        return post_info\n",
    "\n",
    "class User:\n",
    "    def __init__(self, username):\n",
    "        self.username = username\n",
    "\n",
    "    def create_post(self, content):\n",
    "        return Post(self.username, content)\n",
    "\n",
    "    def comment_on_post(self, post, text):\n",
    "        comment = Comment(self.username, text)\n",
    "        post.add_comment(comment)\n",
    "\n",
    "    def __str__(self):\n",
    "        return self.username\n",
    "\n",
    "class SocialMediaApp:\n",
    "    def __init__(self):\n",
    "        self.users = []\n",
    "        self.posts = []\n",
    "\n",
    "    def create_user(self, username):\n",
    "        user = User(username)\n",
    "        self.users.append(user)\n",
    "        return user\n",
    "\n",
    "    def create_post(self, user, content):\n",
    "        post = user.create_post(content)\n",
    "        self.posts.append(post)\n",
    "        return post\n",
    "\n",
    "    def comment_on_post(self, user, post, text):\n",
    "        user.comment_on_post(post, text)\n",
    "\n",
    "    def __str__(self):\n",
    "        app_info = \"Social Media Application\\n\\n\"\n",
    "        app_info += \"Users:\\n\"\n",
    "        for user in self.users:\n",
    "            app_info += f\"- {user}\\n\"\n",
    "        app_info += \"\\nPosts:\\n\"\n",
    "        for post in self.posts:\n",
    "            app_info += f\"{post}\\n\"\n",
    "        return app_info\n",
    "\n",
    "if __name__ == \"__main__\":\n",
    "    # Create social media app\n",
    "    social_media_app = SocialMediaApp()\n",
    "\n",
    "    # Create users\n",
    "    alice = social_media_app.create_user(\"Alice\")\n",
    "    bob = social_media_app.create_user(\"Bob\")\n",
    "\n",
    "    # Create posts\n",
    "    post1 = social_media_app.create_post(alice, \"Hello, everyone!\")\n",
    "    post2 = social_media_app.create_post(bob, \"Nice weather today.\")\n",
    "\n",
    "    # Users comment on posts\n",
    "    social_media_app.comment_on_post(bob, post1, \"Hi, Alice!\")\n",
    "    social_media_app.comment_on_post(alice, post2, \"Yes, it is!\")\n",
    "\n",
    "    # Display social media app info\n",
    "    print(social_media_app)\n"
   ]
  }
 ],
 "metadata": {
  "kernelspec": {
   "display_name": "Python 3 (ipykernel)",
   "language": "python",
   "name": "python3"
  },
  "language_info": {
   "codemirror_mode": {
    "name": "ipython",
    "version": 3
   },
   "file_extension": ".py",
   "mimetype": "text/x-python",
   "name": "python",
   "nbconvert_exporter": "python",
   "pygments_lexer": "ipython3",
   "version": "3.11.7"
  },
  "widgets": {
   "application/vnd.jupyter.widget-state+json": {
    "state": {},
    "version_major": 2,
    "version_minor": 0
   }
  }
 },
 "nbformat": 4,
 "nbformat_minor": 5
}
